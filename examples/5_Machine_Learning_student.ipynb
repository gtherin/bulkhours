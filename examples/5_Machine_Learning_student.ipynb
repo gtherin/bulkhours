{
  "cells": [
    {
      "cell_type": "code",
      "execution_count": null,
      "metadata": {
        "cellView": "form",
        "colab": {
          "base_uri": "https://localhost:8080/",
          "height": 140
        },
        "id": "rSpNjxbXy0TB",
        "outputId": "bbe3a2f4-bfb9-4d4b-bf82-6f0d73a89714"
      },
      "outputs": [
        {
          "name": "stdout",
          "output_type": "stream",
          "text": [
            "⚠️\u001b[41m\u001b[37mThis notebook was run with real-time db, openai and hugging-face tokens.\n",
            "To reproduce results, you need your own tokens to run it! (contact bulkhours@guydegnol.net)\u001b[0m⚠️\n",
            "\u001b[37mRUN pip/apt install [colab]: openai [0s],\u001b[0m\n",
            "Import BULK Helper cOURSe (\u001b[0m\u001b[36mversion='5.2.25'\u001b[0m🚀'):\n",
            "(db, subject, virtual_room, nb_id, user) = (bkloud@, s, light_side, ml, luke.skywalker@jedi.com✅)\n"
          ]
        },
        {
          "data": {
            "text/markdown": [
              "[![Open In Colab](https://colab.research.google.com/assets/colab-badge.svg)](https://colab.research.google.com/github/guydegnol/bulkhours/blob/main/examples/5_Machine_Learning_reinforcment_Learning.ipynb) [![Open In Kaggle](https://kaggle.com/static/images/open-in-kaggle.svg)](https://kaggle.com/kernels/welcome?src=https://github.com/gtherin/bulkhours/blob/main/examples/5_Machine_Learning_reinforcment_Learning.ipynb) [![GitHub](https://badgen.net/badge/icon/Open%20in%20Github?icon=github&label)](https://github.com/gtherin/bulkhours/blob/main/examples/5_Machine_Learning_reinforcment_Learning.ipynb) [![Open in Visual Studio Code](https://img.shields.io/static/v1?logo=visualstudiocode&label=&message=Open%20in%20Visual%20Studio&labelColor=2c2c32&color=007acc&logoColor=007acc)](https://vscode.dev/github/guydegnol/bulkhours/blob/main/examples/5_Machine_Learning_reinforcment_Learning.ipynb) [![CC-by-nc-sa license](https://badgen.net/badge/icon/CC%20by-nc-sa?label=Licence)](https://creativecommons.org/licenses/by-nc-sa/4.0)\n"
            ],
            "text/plain": [
              "<IPython.core.display.Markdown object>"
            ]
          },
          "metadata": {},
          "output_type": "display_data"
        }
      ],
      "source": [
        "#@title # Initialisation of the notebook\n",
        "\n",
        "# Install the bulkhours package, redirecting stdout and stderr to a null output\n",
        "!rm -rf bulkhours && git clone https://github.com/gtherin/bulkhours.git > /dev/null 2>&1\n",
        "\n",
        "#@markdown **Enter your email address:**\n",
        "email = \"luke.skywalker@jedi.com\" #@param {type:\"string\"}\n",
        "\n",
        "# import the bulkhours package\n",
        "import bulkhours\n",
        "database = \"bkloud@prems/teacher::eNq-XXXXXXXXXXXXXXXXXXXXXXXXX-STS8XE\"\n",
        "print(f\"\"\"⚠️\\x1b[41m\\x1b[37mThis notebook was run with real-time db, openai and hugging-face tokens.\n",
        "To reproduce results, you need your own tokens to run it! (contact@bulkhours.eu)\\x1b[0m⚠️\"\"\")\n",
        "\n",
        "bulkhours.init_env(email=email, notebook_id=\"ml\", packages=\"openai\", database=database) #, packages=\"HUGGING_FACE\"\n",
        "\n",
        "from tensorflow.keras.preprocessing import image\n",
        "from tensorflow.keras.applications.resnet50 import preprocess_input, decode_predictions\n",
        "\n",
        "\n",
        "# Generate header links\n",
        "bulkhours.generate_header_links(\"examples/5_Machine_Learning_student.ipynb\")"
      ]
    },
    {
      "cell_type": "markdown",
      "metadata": {
        "id": "vFfirMHvs8H0"
      },
      "source": [
        "# Exercice de mécanique du point avec la fusée starship (généré par chatgpt)\n",
        "\n",
        "\n",
        "La fusée Starship, développée par SpaceX, est conçue pour transporter des charges utiles dans l'espace. Supposons que la fusée Starship se déplace horizontalement avec une vitesse initiale de 500 m/s et qu'elle subit une accélération constante de 10 m/s² pendant 10 secondes.\n",
        "\n",
        "1) Calculez la vitesse finale de la fusée après 10 secondes.\n",
        "\n",
        "2) Déterminez la distance parcourue par la fusée pendant ces 10 secondes.\n",
        "\n",
        "3) Quelle est l'accélération moyenne de la fusée pendant cette période de 10 secondes ?\n",
        "\n",
        "4) Supposons maintenant que la fusée soit soumise à une force de frottement due à l'atmosphère qui ralentit sa vitesse de 20 m/s². Calculez l'accélération nette de la fusée pendant ces 10 secondes.\n",
        "\n",
        "5) En utilisant l'équation du mouvement, calculez le temps nécessaire pour que la fusée s'arrête complètement si elle continue de subir la même accélération nette.\n",
        "\n",
        "6) Supposons que la fusée ait une masse de 100 000 kg. Calculez la force nette qui agit sur la fusée pendant ces 10 secondes.\n",
        "\n",
        "7) Si la fusée devait transporter une charge utile de 10 000 kg, comment cela affecterait-il la force nette agissant sur la fusée ? Expliquez votre réponse.\n",
        "\n",
        "Note : Assurez-vous de prendre en compte les unités appropriées dans vos calculs et de montrer toutes les étapes de votre raisonnement."
      ]
    },
    {
      "cell_type": "markdown",
      "metadata": {
        "id": "WAWZ3hSUC_ju"
      },
      "source": [
        "# Evaluation of the content of an image with machine learning 🐍\n",
        "\n",
        "**Using a ResNet50 network to identify the main subject of a photo:**"
      ]
    },
    {
      "cell_type": "code",
      "execution_count": null,
      "metadata": {
        "colab": {
          "base_uri": "https://localhost:8080/",
          "height": 308,
          "referenced_widgets": [
            "6f7a26a2a9064084a8d3bf93d7f10022",
            "672ede257fb04ca5ae7f125eeb253822",
            "40760016f67e478480535b3c89b15a9e",
            "7766112c62b84eb7b3a52888c6c140b9",
            "edb15c03de174b1c983ee2705c318c2f",
            "78b114763045427c9e556e8f83f1792b",
            "7db72a692624496e83e9b2f12c80660b",
            "2eb36710568d4ada98b3d62d2d453fd3",
            "8ca8bcb26ce3486d8a319f86724621f8",
            "57a6acf6733e44efbcc94f186c3085bb"
          ]
        },
        "id": "77Q1SsluC-Y-",
        "outputId": "64a971fd-d208-4ca1-b3f0-a6bae3a5a492"
      },
      "outputs": [
        {
          "data": {
            "application/vnd.jupyter.widget-view+json": {
              "model_id": "6f7a26a2a9064084a8d3bf93d7f10022",
              "version_major": 2,
              "version_minor": 0
            },
            "text/plain": [
              "HBox(children=(Button(button_style='primary', description='Envoyer au correcteur', layout=Layout(width='150px'…"
            ]
          },
          "metadata": {},
          "output_type": "display_data"
        },
        {
          "data": {
            "application/vnd.jupyter.widget-view+json": {
              "model_id": "8ca8bcb26ce3486d8a319f86724621f8",
              "version_major": 2,
              "version_minor": 0
            },
            "text/plain": [
              "Output()"
            ]
          },
          "metadata": {},
          "output_type": "display_data"
        }
      ],
      "source": [
        "%%evaluation_cell_id -i aimg -w sc\n",
        "\n",
        "def get_predictions():\n",
        "\n",
        "    # Get and format image\n",
        "    img = image.load_img(bulkhours.get_data(\"chose1.jpg\"), target_size=(224, 224))\n",
        "\n",
        "    # Display image\n",
        "    IPython.display.display(img)\n",
        "\n",
        "    # Print classification\n",
        "    return 0\n",
        "get_predictions()"
      ]
    },
    {
      "cell_type": "markdown",
      "metadata": {
        "id": "CIrOZMQ-DrRC"
      },
      "source": [
        "# Moon landing a space module🤖\n",
        "\n",
        "**Use a RL algo (a pre-trained \"Proximal Policy Optimization\") to get a space module to land on the moon (Gymnasium):**\n"
      ]
    },
    {
      "cell_type": "code",
      "execution_count": null,
      "metadata": {
        "colab": {
          "base_uri": "https://localhost:8080/",
          "height": 84,
          "referenced_widgets": [
            "ad34c875177e427e922a86208c3d78d4",
            "95d5e83ee38c4bbd8bcd140ab59a439d",
            "630881a90a9741cfb307e740674284e1",
            "e94cedff8c6740ddbc85af29e06c45bb",
            "43f42980938443cfb17e2e363e73e544",
            "1b57d35e9b0c4dc38a0761d6a887a04c",
            "529d81ee59cb42fb8318e8745317add6",
            "ef2fea4cf4794911bccd2c96d140cc6e",
            "cdaee905d1fa4cffabe7321a9adb1f21",
            "d09dbf7e96b4485daeb2ff10453b18ed"
          ]
        },
        "id": "xyPNN-G5Uv7v",
        "outputId": "422d80fa-da65-4bcd-e469-0baa1bbcd58b"
      },
      "outputs": [
        {
          "data": {
            "application/vnd.jupyter.widget-view+json": {
              "model_id": "ad34c875177e427e922a86208c3d78d4",
              "version_major": 2,
              "version_minor": 0
            },
            "text/plain": [
              "HBox(children=(Button(button_style='primary', description='Envoyer au correcteur', layout=Layout(width='150px'…"
            ]
          },
          "metadata": {},
          "output_type": "display_data"
        },
        {
          "data": {
            "application/vnd.jupyter.widget-view+json": {
              "model_id": "cdaee905d1fa4cffabe7321a9adb1f21",
              "version_major": 2,
              "version_minor": 0
            },
            "text/plain": [
              "Output()"
            ]
          },
          "metadata": {},
          "output_type": "display_data"
        }
      ],
      "source": [
        "%%evaluation_cell_id -i moon\n",
        "captain_robot = bulkhours.ml.PPOHugs(env_id=\"LunarLander-v2\", init=\"bulkhours/ppo-LunarLander-v2\")\n",
        "# ..."
      ]
    }
  ],
  "metadata": {
    "colab": {
      "provenance": [],
      "toc_visible": true
    },
    "gpuClass": "standard",
    "kernelspec": {
      "display_name": "Python 3",
      "name": "python3"
    },
    "widgets": {
      "application/vnd.jupyter.widget-state+json": {
        "1b57d35e9b0c4dc38a0761d6a887a04c": {
          "model_module": "@jupyter-widgets/controls",
          "model_module_version": "1.5.0",
          "model_name": "ButtonStyleModel",
          "state": {
            "_model_module": "@jupyter-widgets/controls",
            "_model_module_version": "1.5.0",
            "_model_name": "ButtonStyleModel",
            "_view_count": null,
            "_view_module": "@jupyter-widgets/base",
            "_view_module_version": "1.2.0",
            "_view_name": "StyleView",
            "button_color": null,
            "font_weight": ""
          }
        },
        "2eb36710568d4ada98b3d62d2d453fd3": {
          "model_module": "@jupyter-widgets/controls",
          "model_module_version": "1.5.0",
          "model_name": "ButtonStyleModel",
          "state": {
            "_model_module": "@jupyter-widgets/controls",
            "_model_module_version": "1.5.0",
            "_model_name": "ButtonStyleModel",
            "_view_count": null,
            "_view_module": "@jupyter-widgets/base",
            "_view_module_version": "1.2.0",
            "_view_name": "StyleView",
            "button_color": null,
            "font_weight": ""
          }
        },
        "40760016f67e478480535b3c89b15a9e": {
          "model_module": "@jupyter-widgets/controls",
          "model_module_version": "1.5.0",
          "model_name": "ButtonModel",
          "state": {
            "_dom_classes": [],
            "_model_module": "@jupyter-widgets/controls",
            "_model_module_version": "1.5.0",
            "_model_name": "ButtonModel",
            "_view_count": null,
            "_view_module": "@jupyter-widgets/controls",
            "_view_module_version": "1.5.0",
            "_view_name": "ButtonView",
            "button_style": "primary",
            "description": "Voir la correction",
            "disabled": false,
            "icon": "",
            "layout": "IPY_MODEL_7db72a692624496e83e9b2f12c80660b",
            "style": "IPY_MODEL_2eb36710568d4ada98b3d62d2d453fd3",
            "tooltip": "Récupération de la solution du correcteur. Si la solution est disponible, \n- Elle est affichée  \n- Elle peut-etre comparée avec le code de la cellule actuelle\n"
          }
        },
        "43f42980938443cfb17e2e363e73e544": {
          "model_module": "@jupyter-widgets/base",
          "model_module_version": "1.2.0",
          "model_name": "LayoutModel",
          "state": {
            "_model_module": "@jupyter-widgets/base",
            "_model_module_version": "1.2.0",
            "_model_name": "LayoutModel",
            "_view_count": null,
            "_view_module": "@jupyter-widgets/base",
            "_view_module_version": "1.2.0",
            "_view_name": "LayoutView",
            "align_content": null,
            "align_items": null,
            "align_self": null,
            "border": null,
            "bottom": null,
            "display": null,
            "flex": null,
            "flex_flow": null,
            "grid_area": null,
            "grid_auto_columns": null,
            "grid_auto_flow": null,
            "grid_auto_rows": null,
            "grid_column": null,
            "grid_gap": null,
            "grid_row": null,
            "grid_template_areas": null,
            "grid_template_columns": null,
            "grid_template_rows": null,
            "height": null,
            "justify_content": null,
            "justify_items": null,
            "left": null,
            "margin": null,
            "max_height": null,
            "max_width": null,
            "min_height": null,
            "min_width": null,
            "object_fit": null,
            "object_position": null,
            "order": null,
            "overflow": null,
            "overflow_x": null,
            "overflow_y": null,
            "padding": null,
            "right": null,
            "top": null,
            "visibility": null,
            "width": "150px"
          }
        },
        "529d81ee59cb42fb8318e8745317add6": {
          "model_module": "@jupyter-widgets/base",
          "model_module_version": "1.2.0",
          "model_name": "LayoutModel",
          "state": {
            "_model_module": "@jupyter-widgets/base",
            "_model_module_version": "1.2.0",
            "_model_name": "LayoutModel",
            "_view_count": null,
            "_view_module": "@jupyter-widgets/base",
            "_view_module_version": "1.2.0",
            "_view_name": "LayoutView",
            "align_content": null,
            "align_items": null,
            "align_self": null,
            "border": null,
            "bottom": null,
            "display": null,
            "flex": null,
            "flex_flow": null,
            "grid_area": null,
            "grid_auto_columns": null,
            "grid_auto_flow": null,
            "grid_auto_rows": null,
            "grid_column": null,
            "grid_gap": null,
            "grid_row": null,
            "grid_template_areas": null,
            "grid_template_columns": null,
            "grid_template_rows": null,
            "height": null,
            "justify_content": null,
            "justify_items": null,
            "left": null,
            "margin": null,
            "max_height": null,
            "max_width": null,
            "min_height": null,
            "min_width": null,
            "object_fit": null,
            "object_position": null,
            "order": null,
            "overflow": null,
            "overflow_x": null,
            "overflow_y": null,
            "padding": null,
            "right": null,
            "top": null,
            "visibility": null,
            "width": "150px"
          }
        },
        "57a6acf6733e44efbcc94f186c3085bb": {
          "model_module": "@jupyter-widgets/base",
          "model_module_version": "1.2.0",
          "model_name": "LayoutModel",
          "state": {
            "_model_module": "@jupyter-widgets/base",
            "_model_module_version": "1.2.0",
            "_model_name": "LayoutModel",
            "_view_count": null,
            "_view_module": "@jupyter-widgets/base",
            "_view_module_version": "1.2.0",
            "_view_name": "LayoutView",
            "align_content": null,
            "align_items": null,
            "align_self": null,
            "border": null,
            "bottom": null,
            "display": null,
            "flex": null,
            "flex_flow": null,
            "grid_area": null,
            "grid_auto_columns": null,
            "grid_auto_flow": null,
            "grid_auto_rows": null,
            "grid_column": null,
            "grid_gap": null,
            "grid_row": null,
            "grid_template_areas": null,
            "grid_template_columns": null,
            "grid_template_rows": null,
            "height": null,
            "justify_content": null,
            "justify_items": null,
            "left": null,
            "margin": null,
            "max_height": null,
            "max_width": null,
            "min_height": null,
            "min_width": null,
            "object_fit": null,
            "object_position": null,
            "order": null,
            "overflow": null,
            "overflow_x": null,
            "overflow_y": null,
            "padding": null,
            "right": null,
            "top": null,
            "visibility": null,
            "width": null
          }
        },
        "630881a90a9741cfb307e740674284e1": {
          "model_module": "@jupyter-widgets/controls",
          "model_module_version": "1.5.0",
          "model_name": "ButtonModel",
          "state": {
            "_dom_classes": [],
            "_model_module": "@jupyter-widgets/controls",
            "_model_module_version": "1.5.0",
            "_model_name": "ButtonModel",
            "_view_count": null,
            "_view_module": "@jupyter-widgets/controls",
            "_view_module_version": "1.5.0",
            "_view_name": "ButtonView",
            "button_style": "primary",
            "description": "Voir la correction",
            "disabled": false,
            "icon": "",
            "layout": "IPY_MODEL_529d81ee59cb42fb8318e8745317add6",
            "style": "IPY_MODEL_ef2fea4cf4794911bccd2c96d140cc6e",
            "tooltip": "Récupération de la solution du correcteur. Si la solution est disponible, \n- Elle est affichée  \n- Elle peut-etre comparée avec le code de la cellule actuelle\n"
          }
        },
        "672ede257fb04ca5ae7f125eeb253822": {
          "model_module": "@jupyter-widgets/controls",
          "model_module_version": "1.5.0",
          "model_name": "ButtonModel",
          "state": {
            "_dom_classes": [],
            "_model_module": "@jupyter-widgets/controls",
            "_model_module_version": "1.5.0",
            "_model_name": "ButtonModel",
            "_view_count": null,
            "_view_module": "@jupyter-widgets/controls",
            "_view_module_version": "1.5.0",
            "_view_name": "ButtonView",
            "button_style": "primary",
            "description": "Envoyer au correcteur",
            "disabled": false,
            "icon": "",
            "layout": "IPY_MODEL_edb15c03de174b1c983ee2705c318c2f",
            "style": "IPY_MODEL_78b114763045427c9e556e8f83f1792b",
            "tooltip": "Envoi de la réponse (contenu de la cellule actuelle) au correcteur.\nLa réponse pourra être utilisée pour évaluation\n"
          }
        },
        "6f7a26a2a9064084a8d3bf93d7f10022": {
          "model_module": "@jupyter-widgets/controls",
          "model_module_version": "1.5.0",
          "model_name": "HBoxModel",
          "state": {
            "_dom_classes": [],
            "_model_module": "@jupyter-widgets/controls",
            "_model_module_version": "1.5.0",
            "_model_name": "HBoxModel",
            "_view_count": null,
            "_view_module": "@jupyter-widgets/controls",
            "_view_module_version": "1.5.0",
            "_view_name": "HBoxView",
            "box_style": "",
            "children": [
              "IPY_MODEL_672ede257fb04ca5ae7f125eeb253822",
              "IPY_MODEL_40760016f67e478480535b3c89b15a9e"
            ],
            "layout": "IPY_MODEL_7766112c62b84eb7b3a52888c6c140b9"
          }
        },
        "7766112c62b84eb7b3a52888c6c140b9": {
          "model_module": "@jupyter-widgets/base",
          "model_module_version": "1.2.0",
          "model_name": "LayoutModel",
          "state": {
            "_model_module": "@jupyter-widgets/base",
            "_model_module_version": "1.2.0",
            "_model_name": "LayoutModel",
            "_view_count": null,
            "_view_module": "@jupyter-widgets/base",
            "_view_module_version": "1.2.0",
            "_view_name": "LayoutView",
            "align_content": null,
            "align_items": null,
            "align_self": null,
            "border": null,
            "bottom": null,
            "display": null,
            "flex": null,
            "flex_flow": null,
            "grid_area": null,
            "grid_auto_columns": null,
            "grid_auto_flow": null,
            "grid_auto_rows": null,
            "grid_column": null,
            "grid_gap": null,
            "grid_row": null,
            "grid_template_areas": null,
            "grid_template_columns": null,
            "grid_template_rows": null,
            "height": null,
            "justify_content": null,
            "justify_items": null,
            "left": null,
            "margin": null,
            "max_height": null,
            "max_width": null,
            "min_height": null,
            "min_width": null,
            "object_fit": null,
            "object_position": null,
            "order": null,
            "overflow": null,
            "overflow_x": null,
            "overflow_y": null,
            "padding": null,
            "right": null,
            "top": null,
            "visibility": null,
            "width": null
          }
        },
        "78b114763045427c9e556e8f83f1792b": {
          "model_module": "@jupyter-widgets/controls",
          "model_module_version": "1.5.0",
          "model_name": "ButtonStyleModel",
          "state": {
            "_model_module": "@jupyter-widgets/controls",
            "_model_module_version": "1.5.0",
            "_model_name": "ButtonStyleModel",
            "_view_count": null,
            "_view_module": "@jupyter-widgets/base",
            "_view_module_version": "1.2.0",
            "_view_name": "StyleView",
            "button_color": null,
            "font_weight": ""
          }
        },
        "7db72a692624496e83e9b2f12c80660b": {
          "model_module": "@jupyter-widgets/base",
          "model_module_version": "1.2.0",
          "model_name": "LayoutModel",
          "state": {
            "_model_module": "@jupyter-widgets/base",
            "_model_module_version": "1.2.0",
            "_model_name": "LayoutModel",
            "_view_count": null,
            "_view_module": "@jupyter-widgets/base",
            "_view_module_version": "1.2.0",
            "_view_name": "LayoutView",
            "align_content": null,
            "align_items": null,
            "align_self": null,
            "border": null,
            "bottom": null,
            "display": null,
            "flex": null,
            "flex_flow": null,
            "grid_area": null,
            "grid_auto_columns": null,
            "grid_auto_flow": null,
            "grid_auto_rows": null,
            "grid_column": null,
            "grid_gap": null,
            "grid_row": null,
            "grid_template_areas": null,
            "grid_template_columns": null,
            "grid_template_rows": null,
            "height": null,
            "justify_content": null,
            "justify_items": null,
            "left": null,
            "margin": null,
            "max_height": null,
            "max_width": null,
            "min_height": null,
            "min_width": null,
            "object_fit": null,
            "object_position": null,
            "order": null,
            "overflow": null,
            "overflow_x": null,
            "overflow_y": null,
            "padding": null,
            "right": null,
            "top": null,
            "visibility": null,
            "width": "150px"
          }
        },
        "8ca8bcb26ce3486d8a319f86724621f8": {
          "model_module": "@jupyter-widgets/output",
          "model_module_version": "1.0.0",
          "model_name": "OutputModel",
          "state": {
            "_dom_classes": [],
            "_model_module": "@jupyter-widgets/output",
            "_model_module_version": "1.0.0",
            "_model_name": "OutputModel",
            "_view_count": null,
            "_view_module": "@jupyter-widgets/output",
            "_view_module_version": "1.0.0",
            "_view_name": "OutputView",
            "layout": "IPY_MODEL_57a6acf6733e44efbcc94f186c3085bb",
            "msg_id": "",
            "outputs": [
              {
                "name": "stdout",
                "output_type": "stream",
                "text": [
                  "Data chose1.jpg is not referenced\n"
                ]
              },
              {
                "data": {
                  "image/png": "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\n",
                  "text/plain": "<PIL.Image.Image image mode=RGB size=224x224 at 0x7FCC084F16F0>"
                },
                "metadata": {},
                "output_type": "display_data"
              },
              {
                "data": {
                  "text/plain": "0"
                },
                "execution_count": 2,
                "metadata": {},
                "output_type": "execute_result"
              }
            ]
          }
        },
        "95d5e83ee38c4bbd8bcd140ab59a439d": {
          "model_module": "@jupyter-widgets/controls",
          "model_module_version": "1.5.0",
          "model_name": "ButtonModel",
          "state": {
            "_dom_classes": [],
            "_model_module": "@jupyter-widgets/controls",
            "_model_module_version": "1.5.0",
            "_model_name": "ButtonModel",
            "_view_count": null,
            "_view_module": "@jupyter-widgets/controls",
            "_view_module_version": "1.5.0",
            "_view_name": "ButtonView",
            "button_style": "primary",
            "description": "Envoyer au correcteur",
            "disabled": false,
            "icon": "",
            "layout": "IPY_MODEL_43f42980938443cfb17e2e363e73e544",
            "style": "IPY_MODEL_1b57d35e9b0c4dc38a0761d6a887a04c",
            "tooltip": "Envoi de la réponse (contenu de la cellule actuelle) au correcteur.\nLa réponse pourra être utilisée pour évaluation\n"
          }
        },
        "ad34c875177e427e922a86208c3d78d4": {
          "model_module": "@jupyter-widgets/controls",
          "model_module_version": "1.5.0",
          "model_name": "HBoxModel",
          "state": {
            "_dom_classes": [],
            "_model_module": "@jupyter-widgets/controls",
            "_model_module_version": "1.5.0",
            "_model_name": "HBoxModel",
            "_view_count": null,
            "_view_module": "@jupyter-widgets/controls",
            "_view_module_version": "1.5.0",
            "_view_name": "HBoxView",
            "box_style": "",
            "children": [
              "IPY_MODEL_95d5e83ee38c4bbd8bcd140ab59a439d",
              "IPY_MODEL_630881a90a9741cfb307e740674284e1"
            ],
            "layout": "IPY_MODEL_e94cedff8c6740ddbc85af29e06c45bb"
          }
        },
        "cdaee905d1fa4cffabe7321a9adb1f21": {
          "model_module": "@jupyter-widgets/output",
          "model_module_version": "1.0.0",
          "model_name": "OutputModel",
          "state": {
            "_dom_classes": [],
            "_model_module": "@jupyter-widgets/output",
            "_model_module_version": "1.0.0",
            "_model_name": "OutputModel",
            "_view_count": null,
            "_view_module": "@jupyter-widgets/output",
            "_view_module_version": "1.0.0",
            "_view_name": "OutputView",
            "layout": "IPY_MODEL_d09dbf7e96b4485daeb2ff10453b18ed",
            "msg_id": "",
            "outputs": [
              {
                "name": "stdout",
                "output_type": "stream",
                "text": [
                  "\u001b[31m⚠️Please install HUGGING_FACE libraries first\u001b[0m)"
                ]
              },
              {
                "name": "stdout",
                "output_type": "stream",
                "text": [
                  "\n"
                ]
              }
            ]
          }
        },
        "d09dbf7e96b4485daeb2ff10453b18ed": {
          "model_module": "@jupyter-widgets/base",
          "model_module_version": "1.2.0",
          "model_name": "LayoutModel",
          "state": {
            "_model_module": "@jupyter-widgets/base",
            "_model_module_version": "1.2.0",
            "_model_name": "LayoutModel",
            "_view_count": null,
            "_view_module": "@jupyter-widgets/base",
            "_view_module_version": "1.2.0",
            "_view_name": "LayoutView",
            "align_content": null,
            "align_items": null,
            "align_self": null,
            "border": null,
            "bottom": null,
            "display": null,
            "flex": null,
            "flex_flow": null,
            "grid_area": null,
            "grid_auto_columns": null,
            "grid_auto_flow": null,
            "grid_auto_rows": null,
            "grid_column": null,
            "grid_gap": null,
            "grid_row": null,
            "grid_template_areas": null,
            "grid_template_columns": null,
            "grid_template_rows": null,
            "height": null,
            "justify_content": null,
            "justify_items": null,
            "left": null,
            "margin": null,
            "max_height": null,
            "max_width": null,
            "min_height": null,
            "min_width": null,
            "object_fit": null,
            "object_position": null,
            "order": null,
            "overflow": null,
            "overflow_x": null,
            "overflow_y": null,
            "padding": null,
            "right": null,
            "top": null,
            "visibility": null,
            "width": null
          }
        },
        "e94cedff8c6740ddbc85af29e06c45bb": {
          "model_module": "@jupyter-widgets/base",
          "model_module_version": "1.2.0",
          "model_name": "LayoutModel",
          "state": {
            "_model_module": "@jupyter-widgets/base",
            "_model_module_version": "1.2.0",
            "_model_name": "LayoutModel",
            "_view_count": null,
            "_view_module": "@jupyter-widgets/base",
            "_view_module_version": "1.2.0",
            "_view_name": "LayoutView",
            "align_content": null,
            "align_items": null,
            "align_self": null,
            "border": null,
            "bottom": null,
            "display": null,
            "flex": null,
            "flex_flow": null,
            "grid_area": null,
            "grid_auto_columns": null,
            "grid_auto_flow": null,
            "grid_auto_rows": null,
            "grid_column": null,
            "grid_gap": null,
            "grid_row": null,
            "grid_template_areas": null,
            "grid_template_columns": null,
            "grid_template_rows": null,
            "height": null,
            "justify_content": null,
            "justify_items": null,
            "left": null,
            "margin": null,
            "max_height": null,
            "max_width": null,
            "min_height": null,
            "min_width": null,
            "object_fit": null,
            "object_position": null,
            "order": null,
            "overflow": null,
            "overflow_x": null,
            "overflow_y": null,
            "padding": null,
            "right": null,
            "top": null,
            "visibility": null,
            "width": null
          }
        },
        "edb15c03de174b1c983ee2705c318c2f": {
          "model_module": "@jupyter-widgets/base",
          "model_module_version": "1.2.0",
          "model_name": "LayoutModel",
          "state": {
            "_model_module": "@jupyter-widgets/base",
            "_model_module_version": "1.2.0",
            "_model_name": "LayoutModel",
            "_view_count": null,
            "_view_module": "@jupyter-widgets/base",
            "_view_module_version": "1.2.0",
            "_view_name": "LayoutView",
            "align_content": null,
            "align_items": null,
            "align_self": null,
            "border": null,
            "bottom": null,
            "display": null,
            "flex": null,
            "flex_flow": null,
            "grid_area": null,
            "grid_auto_columns": null,
            "grid_auto_flow": null,
            "grid_auto_rows": null,
            "grid_column": null,
            "grid_gap": null,
            "grid_row": null,
            "grid_template_areas": null,
            "grid_template_columns": null,
            "grid_template_rows": null,
            "height": null,
            "justify_content": null,
            "justify_items": null,
            "left": null,
            "margin": null,
            "max_height": null,
            "max_width": null,
            "min_height": null,
            "min_width": null,
            "object_fit": null,
            "object_position": null,
            "order": null,
            "overflow": null,
            "overflow_x": null,
            "overflow_y": null,
            "padding": null,
            "right": null,
            "top": null,
            "visibility": null,
            "width": "150px"
          }
        },
        "ef2fea4cf4794911bccd2c96d140cc6e": {
          "model_module": "@jupyter-widgets/controls",
          "model_module_version": "1.5.0",
          "model_name": "ButtonStyleModel",
          "state": {
            "_model_module": "@jupyter-widgets/controls",
            "_model_module_version": "1.5.0",
            "_model_name": "ButtonStyleModel",
            "_view_count": null,
            "_view_module": "@jupyter-widgets/base",
            "_view_module_version": "1.2.0",
            "_view_name": "StyleView",
            "button_color": null,
            "font_weight": ""
          }
        }
      }
    }
  },
  "nbformat": 4,
  "nbformat_minor": 0
}
