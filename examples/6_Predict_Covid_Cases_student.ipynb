{
  "cells": [
    {
      "cell_type": "code",
      "execution_count": 1,
      "metadata": {
        "colab": {
          "base_uri": "https://localhost:8080/",
          "height": 123
        },
        "id": "5w6r-V571a6z",
        "outputId": "a82acaae-12c8-4e2d-990f-4730211892ba"
      },
      "outputs": [
        {
          "name": "stdout",
          "output_type": "stream",
          "text": [
            "\u001b[37mRUN pip/apt install [colab]: descartes [0s],\u001b[0m\n",
            "Import BULK Helper cOURSe (\u001b[0m\u001b[36mversion='5.2.25'\u001b[0m🚀'):\n",
            "(db, subject, virtual_room, nb_id, user) = (bkloud@, s, light_side, dscience, luke.skywalker@jedi.com✅)\n",
            "LOG import of openai failed 💥\n"
          ]
        },
        {
          "data": {
            "text/markdown": [
              "[![Open In Colab](https://colab.research.google.com/assets/colab-badge.svg)](https://colab.research.google.com/github/guydegnol/bulkhours/blob/main/examples/6_Predict_Covid_Cases_student.ipynb) [![Open In Kaggle](https://kaggle.com/static/images/open-in-kaggle.svg)](https://kaggle.com/kernels/welcome?src=https://github.com/gtherin/bulkhours/blob/main/examples/6_Predict_Covid_Cases_student.ipynb) [![GitHub](https://badgen.net/badge/icon/Open%20in%20Github?icon=github&label)](https://github.com/gtherin/bulkhours/blob/main/examples/6_Predict_Covid_Cases_student.ipynb) [![Open in Visual Studio Code](https://img.shields.io/static/v1?logo=visualstudiocode&label=&message=Open%20in%20Visual%20Studio&labelColor=2c2c32&color=007acc&logoColor=007acc)](https://vscode.dev/github/guydegnol/bulkhours/blob/main/examples/6_Predict_Covid_Cases_student.ipynb) [![CC-by-nc-sa license](https://badgen.net/badge/icon/CC%20by-nc-sa?label=Licence)](https://creativecommons.org/licenses/by-nc-sa/4.0)\n"
            ],
            "text/plain": [
              "<IPython.core.display.Markdown object>"
            ]
          },
          "metadata": {},
          "output_type": "display_data"
        }
      ],
      "source": [
        "#@title # Initialisation of the notebook\n",
        "\n",
        "# Install the bulkhours package, redirecting stdout and stderr to a null output\n",
        "!rm -rf bulkhours && git clone https://github.com/gtherin/bulkhours.git > /dev/null 2>&1\n",
        "\n",
        "#@markdown **Enter your email address:**\n",
        "email = \"luke.skywalker@jedi.com\" #@param {type:\"string\"}\n",
        "\n",
        "# import the bulkhours package\n",
        "import bulkhours\n",
        "bulkhours.init_env(email=email, notebook_id=\"dscience\", packages=\"descartes\")\n",
        "\n",
        "# import the bulkhours package\n",
        "import pandas as pd\n",
        "import IPython\n",
        "import statsmodels.tsa.api as smtsa\n",
        "import matplotlib.pyplot as plt\n",
        "import statsmodels.api as sm\n",
        "\n",
        "# Generate header links\n",
        "bulkhours.generate_header_links(\"examples/6_Predict_Covid_Cases_student.ipynb\")"
      ]
    },
    {
      "cell_type": "markdown",
      "metadata": {
        "id": "IHVKc1Xf2dy4"
      },
      "source": [
        "# Worldwide incomes inequalities💢\n",
        "\n",
        "In the next cell, we represent income inequalities (throught the Gini coefficient) for different countries."
      ]
    },
    {
      "cell_type": "code",
      "execution_count": 3,
      "metadata": {
        "colab": {
          "base_uri": "https://localhost:8080/",
          "height": 800,
          "referenced_widgets": [
            "31ae0be442fd4cb888dc3a3df036af4d",
            "e67a6b4a5c384bff9731a4ffebb8a2c1",
            "cabdf3a437c44880880705102e9da0d7",
            "23dc8bd48e5645c49bf137e5d89d938a",
            "79e8d1c6f75f49aeaf9efb47cffc9da5",
            "20e0d27887234e309e1da277ead4ebb3",
            "3200a1e4015d475e8667c1502a7d3895",
            "c610306387834272a30a691fca3dc697",
            "190c31b655af4424ba1d1b0285b9245d",
            "3cbb998980fa43e18c52673f1bdc7b72"
          ]
        },
        "id": "CFz5WZNv2d7Q",
        "outputId": "cbc1c703-541f-4778-e1bf-dd65ea1bae2c"
      },
      "outputs": [
        {
          "data": {
            "application/vnd.jupyter.widget-view+json": {
              "model_id": "31ae0be442fd4cb888dc3a3df036af4d",
              "version_major": 2,
              "version_minor": 0
            },
            "text/plain": [
              "HBox(children=(Button(button_style='primary', description='Envoyer au correcteur', layout=Layout(width='150px'…"
            ]
          },
          "metadata": {},
          "output_type": "display_data"
        },
        {
          "data": {
            "application/vnd.jupyter.widget-view+json": {
              "model_id": "190c31b655af4424ba1d1b0285b9245d",
              "version_major": 2,
              "version_minor": 0
            },
            "text/plain": [
              "Output()"
            ]
          },
          "metadata": {},
          "output_type": "display_data"
        }
      ],
      "source": [
        "%%evaluation_cell_id -i gini\n",
        "# Get the data\n",
        "world_data = bulkhours.get_data(\"world.mappoverty\", credit=True, timeopt=\"last\")\n",
        "\n",
        "# Find the extremum quantities: min_name, min_gini, max_name, max_gini\n",
        "min_name, min_gini = \"...\", 0\n",
        "max_name, max_gini = \"...\", 1\n",
        "\n",
        "# Highlight the extremum countries and some iconic ones\n",
        "hightlight = [min_name, \"France\", \"United States of America\", \"Brazil\", max_name]\n",
        "bulkhours.geo_plot(world_data, timeopt=\"last\", column=\"gini\", hightlight=hightlight)\n",
        "\n",
        "# Conclude\n",
        "IPython.display.Markdown(f\"\"\"\n",
        "<h3>The least egalitarian country in the world ({world_data.year.max():.0f}) is the {max_name} (gini={max_gini:.2f}). The most egalitarian country in the world is the {min_name} (gini={min_gini:.2f})</h3>\n",
        "\"\"\")"
      ]
    },
    {
      "cell_type": "markdown",
      "metadata": {
        "id": "WAWZ3hSUC_ju"
      },
      "source": [
        "# Predict covid cases🦠\n",
        "\n",
        "**Prediction des cas de covid en France dans le prochain mois:**"
      ]
    },
    {
      "cell_type": "code",
      "execution_count": 11,
      "metadata": {
        "colab": {
          "base_uri": "https://localhost:8080/",
          "height": 201,
          "referenced_widgets": [
            "8bfa31b2a8444e61b25cccdb5954f8b6",
            "101b813980684e6ea86d19c842357836",
            "9fa36de5511f414aae1b5320bb2b1cee",
            "a0c956c8d30945edb097f95e56faa82a",
            "e598f0e5ff974b4eb3092713d50baf1c",
            "2dbbcecf9e584daa97e79077880ec710",
            "85e6b38ed8aa4dafb3f309353d14e834",
            "f67add7c1bb3490383262d10f6b278a0",
            "08017403a49b4771aa0276b022a67fc6",
            "4aa54f91b9df4b97a7800c4f69f3d2fc"
          ]
        },
        "id": "uAq52jp3IMDd",
        "outputId": "8582a059-4603-4d38-d28b-d2cd97abb269"
      },
      "outputs": [
        {
          "data": {
            "application/vnd.jupyter.widget-view+json": {
              "model_id": "8bfa31b2a8444e61b25cccdb5954f8b6",
              "version_major": 2,
              "version_minor": 0
            },
            "text/plain": [
              "HBox(children=(Button(button_style='primary', description='Envoyer au correcteur', layout=Layout(width='150px'…"
            ]
          },
          "metadata": {},
          "output_type": "display_data"
        },
        {
          "data": {
            "application/vnd.jupyter.widget-view+json": {
              "model_id": "08017403a49b4771aa0276b022a67fc6",
              "version_major": 2,
              "version_minor": 0
            },
            "text/plain": [
              "Output()"
            ]
          },
          "metadata": {},
          "output_type": "display_data"
        }
      ],
      "source": [
        "%%evaluation_cell_id -i covidf\n",
        "# Get the data (updated weekly)\n",
        "covid = bulkhours.get_data(\"covid\", credit=True, query=\"iso_code in ('FRA')\", index=\"date\")['new_cases']\n",
        "# ..."
      ]
    },
    {
      "cell_type": "markdown",
      "metadata": {
        "id": "hzK6tORd2lrm"
      },
      "source": [
        "# Quand voir les aurores boreales☀️\n",
        "\n",
        "**En fonction des cycles solaires, estimer quel est le meilleur moment pour aller voir les horaires boréales dans les prochaines années:**"
      ]
    },
    {
      "cell_type": "code",
      "execution_count": 10,
      "metadata": {
        "colab": {
          "base_uri": "https://localhost:8080/",
          "height": 236,
          "referenced_widgets": [
            "cf4bdca4c2d041c09263d0d41da8b391",
            "826c82770bf64663b9de86412201375b",
            "4de878af06f64e1fa4a7293637b5d0ae",
            "e8d89852f799438a84f40f5d93c0342e",
            "b1228acab83c408b9fd4ed4486580870",
            "b16459ad30aa454e93381b1579440bc4",
            "0ebf09fef3ac49dd8d7fafd69f2c2989",
            "8672e835064f4890acb04f40c46b94f6",
            "f0c3fdbff7374c2cbf5909be77e260b2",
            "1b48208534914139946970d275561a05"
          ]
        },
        "id": "5ZgQJ5k5mYAC",
        "outputId": "ce71ad0a-c763-4998-a64f-280135932f0a"
      },
      "outputs": [
        {
          "data": {
            "application/vnd.jupyter.widget-view+json": {
              "model_id": "cf4bdca4c2d041c09263d0d41da8b391",
              "version_major": 2,
              "version_minor": 0
            },
            "text/plain": [
              "HBox(children=(Button(button_style='primary', description='Envoyer au correcteur', layout=Layout(width='150px'…"
            ]
          },
          "metadata": {},
          "output_type": "display_data"
        },
        {
          "data": {
            "application/vnd.jupyter.widget-view+json": {
              "model_id": "f0c3fdbff7374c2cbf5909be77e260b2",
              "version_major": 2,
              "version_minor": 0
            },
            "text/plain": [
              "Output()"
            ]
          },
          "metadata": {},
          "output_type": "display_data"
        }
      ],
      "source": [
        "%%evaluation_cell_id -i sunspots\n",
        "# Get and fit the data\n",
        "sun_data = bulkhours.get_data(\"sunspots\", credit=True)[\"ssn\"]\n",
        "# ..."
      ]
    },
    {
      "cell_type": "markdown",
      "metadata": {
        "id": "Bbkpp0Ma2s2i"
      },
      "source": [
        "# Reproduction de la loi de Moore💻\n",
        "\n",
        "Plot the log of FLOPS (using `bulkhours.get_data(\"supercomputers\")`):\n",
        "Conclude."
      ]
    },
    {
      "cell_type": "code",
      "execution_count": 12,
      "metadata": {
        "colab": {
          "base_uri": "https://localhost:8080/",
          "height": 49,
          "referenced_widgets": [
            "8accc7e9edfa4e55add2698aee6d6b6c",
            "5c8484758609428e9090f9a9716037ff",
            "3ebe7d2cd8c941e6ba28fe32ef5f7d05",
            "255b51a52dfb4ec2b404c25439b10557",
            "3e40ca0f46a6450783abbb225cb768e6",
            "97a060265c474513a2383be79d863c8a",
            "1849906047e44c48b64a1a0f143ebf06",
            "119c5cb391584d51a64b93db6f1548a1",
            "037cef4157e44dab8105145be2aa403f",
            "12a7a28620564f35868c5b524ae32cca"
          ]
        },
        "id": "9uDApl8e2s9K",
        "outputId": "34304ee5-9f3b-44f7-b37b-7fe829ba7eef"
      },
      "outputs": [
        {
          "data": {
            "application/vnd.jupyter.widget-view+json": {
              "model_id": "8accc7e9edfa4e55add2698aee6d6b6c",
              "version_major": 2,
              "version_minor": 0
            },
            "text/plain": [
              "HBox(children=(Button(button_style='primary', description='Envoyer au correcteur', layout=Layout(width='150px'…"
            ]
          },
          "metadata": {},
          "output_type": "display_data"
        },
        {
          "data": {
            "application/vnd.jupyter.widget-view+json": {
              "model_id": "037cef4157e44dab8105145be2aa403f",
              "version_major": 2,
              "version_minor": 0
            },
            "text/plain": [
              "Output()"
            ]
          },
          "metadata": {},
          "output_type": "display_data"
        }
      ],
      "source": [
        "%%evaluation_cell_id -i moore\n",
        "# ..."
      ]
    },
    {
      "cell_type": "code",
      "execution_count": null,
      "metadata": {
        "id": "pooa2kcq6Moa"
      },
      "outputs": [],
      "source": []
    }
  ],
  "metadata": {
    "colab": {
      "provenance": [],
      "toc_visible": true
    },
    "gpuClass": "standard",
    "kernelspec": {
      "display_name": "Python 3",
      "name": "python3"
    },
    "widgets": {
      "application/vnd.jupyter.widget-state+json": {
        "037cef4157e44dab8105145be2aa403f": {
          "model_module": "@jupyter-widgets/output",
          "model_module_version": "1.0.0",
          "model_name": "OutputModel",
          "state": {
            "_dom_classes": [],
            "_model_module": "@jupyter-widgets/output",
            "_model_module_version": "1.0.0",
            "_model_name": "OutputModel",
            "_view_count": null,
            "_view_module": "@jupyter-widgets/output",
            "_view_module_version": "1.0.0",
            "_view_name": "OutputView",
            "layout": "IPY_MODEL_12a7a28620564f35868c5b524ae32cca",
            "msg_id": "",
            "outputs": []
          }
        },
        "08017403a49b4771aa0276b022a67fc6": {
          "model_module": "@jupyter-widgets/output",
          "model_module_version": "1.0.0",
          "model_name": "OutputModel",
          "state": {
            "_dom_classes": [],
            "_model_module": "@jupyter-widgets/output",
            "_model_module_version": "1.0.0",
            "_model_name": "OutputModel",
            "_view_count": null,
            "_view_module": "@jupyter-widgets/output",
            "_view_module_version": "1.0.0",
            "_view_name": "OutputView",
            "layout": "IPY_MODEL_4aa54f91b9df4b97a7800c4f69f3d2fc",
            "msg_id": "",
            "outputs": [
              {
                "data": {
                  "text/markdown": "#### Coronavirus Pandemic (COVID-19) data\n- Raw data: [owid-covid-data.csv](https://covid.ourworldindata.org/data/owid-covid-data.csv)  ([raw](https://covid.ourworldindata.org/data/owid-covid-data.csv))\n- Direct source: https://ourworldindata.org/coronavirus\n- Reference site: https://covid19.who.int/data\n\n<details>\n<summary>Show columns info</summary>\n> <a href=\"https://github.com/owid/covid-19-data/tree/master/public/data/\">https://github.com/owid/covid-19-data/tree/master/public/data/</a>\n\n| Column   |      Info |\n|-----------|:-----------|\n| iso_code |  |\n| continent |  |\n| location |  |\n| total_cases |  |\n| new_cases |  |\n| new_cases_smoothed |  |\n| total_deaths |  |\n| new_deaths |  |\n| new_deaths_smoothed |  |\n| total_cases_per_million |  |\n| new_cases_per_million |  |\n| new_cases_smoothed_per_million |  |\n| total_deaths_per_million |  |\n| new_deaths_per_million |  |\n| new_deaths_smoothed_per_million |  |\n| reproduction_rate |  |\n| icu_patients |  |\n| icu_patients_per_million |  |\n| hosp_patients |  |\n| hosp_patients_per_million |  |\n| weekly_icu_admissions |  |\n| weekly_icu_admissions_per_million |  |\n| weekly_hosp_admissions |  |\n| weekly_hosp_admissions_per_million |  |\n| total_tests |  |\n| new_tests |  |\n| total_tests_per_thousand |  |\n| new_tests_per_thousand |  |\n| new_tests_smoothed |  |\n| new_tests_smoothed_per_thousand |  |\n| positive_rate |  |\n| tests_per_case |  |\n| tests_units |  |\n| total_vaccinations |  |\n| people_vaccinated |  |\n| people_fully_vaccinated |  |\n| total_boosters |  |\n| new_vaccinations |  |\n| new_vaccinations_smoothed |  |\n| total_vaccinations_per_hundred |  |\n| people_vaccinated_per_hundred |  |\n| people_fully_vaccinated_per_hundred |  |\n| total_boosters_per_hundred |  |\n| new_vaccinations_smoothed_per_million |  |\n| new_people_vaccinated_smoothed |  |\n| new_people_vaccinated_smoothed_per_hundred |  |\n| stringency_index |  |\n| population_density |  |\n| median_age |  |\n| aged_65_older |  |\n| aged_70_older |  |\n| gdp_per_capita |  |\n| extreme_poverty |  |\n| cardiovasc_death_rate |  |\n| diabetes_prevalence |  |\n| female_smokers |  |\n| male_smokers |  |\n| handwashing_facilities |  |\n| hospital_beds_per_thousand |  |\n| life_expectancy |  |\n| human_development_index |  |\n| population |  |\n| excess_mortality_cumulative_absolute |  |\n| excess_mortality_cumulative |  |\n| excess_mortality |  |\n| excess_mortality_cumulative_per_million |  |\n\n</details>\n\n",
                  "text/plain": "<IPython.core.display.Markdown object>"
                },
                "metadata": {},
                "output_type": "display_data"
              },
              {
                "name": "stdout",
                "output_type": "stream",
                "text": [
                  "\u001b[31mBulkHours database info:\u001b[0m https://github.com/gtherin/bulkhours/blob/main/data/README.md\n",
                  "bulkhours.get_data(\"covid\", credit=\u001b[1mFalse\u001b[0m)  # To stop showing this text\n"
                ]
              }
            ]
          }
        },
        "0ebf09fef3ac49dd8d7fafd69f2c2989": {
          "model_module": "@jupyter-widgets/base",
          "model_module_version": "1.2.0",
          "model_name": "LayoutModel",
          "state": {
            "_model_module": "@jupyter-widgets/base",
            "_model_module_version": "1.2.0",
            "_model_name": "LayoutModel",
            "_view_count": null,
            "_view_module": "@jupyter-widgets/base",
            "_view_module_version": "1.2.0",
            "_view_name": "LayoutView",
            "align_content": null,
            "align_items": null,
            "align_self": null,
            "border": null,
            "bottom": null,
            "display": null,
            "flex": null,
            "flex_flow": null,
            "grid_area": null,
            "grid_auto_columns": null,
            "grid_auto_flow": null,
            "grid_auto_rows": null,
            "grid_column": null,
            "grid_gap": null,
            "grid_row": null,
            "grid_template_areas": null,
            "grid_template_columns": null,
            "grid_template_rows": null,
            "height": null,
            "justify_content": null,
            "justify_items": null,
            "left": null,
            "margin": null,
            "max_height": null,
            "max_width": null,
            "min_height": null,
            "min_width": null,
            "object_fit": null,
            "object_position": null,
            "order": null,
            "overflow": null,
            "overflow_x": null,
            "overflow_y": null,
            "padding": null,
            "right": null,
            "top": null,
            "visibility": null,
            "width": "150px"
          }
        },
        "101b813980684e6ea86d19c842357836": {
          "model_module": "@jupyter-widgets/controls",
          "model_module_version": "1.5.0",
          "model_name": "ButtonModel",
          "state": {
            "_dom_classes": [],
            "_model_module": "@jupyter-widgets/controls",
            "_model_module_version": "1.5.0",
            "_model_name": "ButtonModel",
            "_view_count": null,
            "_view_module": "@jupyter-widgets/controls",
            "_view_module_version": "1.5.0",
            "_view_name": "ButtonView",
            "button_style": "primary",
            "description": "Envoyer au correcteur",
            "disabled": false,
            "icon": "",
            "layout": "IPY_MODEL_e598f0e5ff974b4eb3092713d50baf1c",
            "style": "IPY_MODEL_2dbbcecf9e584daa97e79077880ec710",
            "tooltip": "Envoi de la réponse (contenu de la cellule actuelle) au correcteur.\nLa réponse pourra être utilisée pour évaluation\n"
          }
        },
        "119c5cb391584d51a64b93db6f1548a1": {
          "model_module": "@jupyter-widgets/controls",
          "model_module_version": "1.5.0",
          "model_name": "ButtonStyleModel",
          "state": {
            "_model_module": "@jupyter-widgets/controls",
            "_model_module_version": "1.5.0",
            "_model_name": "ButtonStyleModel",
            "_view_count": null,
            "_view_module": "@jupyter-widgets/base",
            "_view_module_version": "1.2.0",
            "_view_name": "StyleView",
            "button_color": null,
            "font_weight": ""
          }
        },
        "12a7a28620564f35868c5b524ae32cca": {
          "model_module": "@jupyter-widgets/base",
          "model_module_version": "1.2.0",
          "model_name": "LayoutModel",
          "state": {
            "_model_module": "@jupyter-widgets/base",
            "_model_module_version": "1.2.0",
            "_model_name": "LayoutModel",
            "_view_count": null,
            "_view_module": "@jupyter-widgets/base",
            "_view_module_version": "1.2.0",
            "_view_name": "LayoutView",
            "align_content": null,
            "align_items": null,
            "align_self": null,
            "border": null,
            "bottom": null,
            "display": null,
            "flex": null,
            "flex_flow": null,
            "grid_area": null,
            "grid_auto_columns": null,
            "grid_auto_flow": null,
            "grid_auto_rows": null,
            "grid_column": null,
            "grid_gap": null,
            "grid_row": null,
            "grid_template_areas": null,
            "grid_template_columns": null,
            "grid_template_rows": null,
            "height": null,
            "justify_content": null,
            "justify_items": null,
            "left": null,
            "margin": null,
            "max_height": null,
            "max_width": null,
            "min_height": null,
            "min_width": null,
            "object_fit": null,
            "object_position": null,
            "order": null,
            "overflow": null,
            "overflow_x": null,
            "overflow_y": null,
            "padding": null,
            "right": null,
            "top": null,
            "visibility": null,
            "width": null
          }
        },
        "1849906047e44c48b64a1a0f143ebf06": {
          "model_module": "@jupyter-widgets/base",
          "model_module_version": "1.2.0",
          "model_name": "LayoutModel",
          "state": {
            "_model_module": "@jupyter-widgets/base",
            "_model_module_version": "1.2.0",
            "_model_name": "LayoutModel",
            "_view_count": null,
            "_view_module": "@jupyter-widgets/base",
            "_view_module_version": "1.2.0",
            "_view_name": "LayoutView",
            "align_content": null,
            "align_items": null,
            "align_self": null,
            "border": null,
            "bottom": null,
            "display": null,
            "flex": null,
            "flex_flow": null,
            "grid_area": null,
            "grid_auto_columns": null,
            "grid_auto_flow": null,
            "grid_auto_rows": null,
            "grid_column": null,
            "grid_gap": null,
            "grid_row": null,
            "grid_template_areas": null,
            "grid_template_columns": null,
            "grid_template_rows": null,
            "height": null,
            "justify_content": null,
            "justify_items": null,
            "left": null,
            "margin": null,
            "max_height": null,
            "max_width": null,
            "min_height": null,
            "min_width": null,
            "object_fit": null,
            "object_position": null,
            "order": null,
            "overflow": null,
            "overflow_x": null,
            "overflow_y": null,
            "padding": null,
            "right": null,
            "top": null,
            "visibility": null,
            "width": "150px"
          }
        },
        "190c31b655af4424ba1d1b0285b9245d": {
          "model_module": "@jupyter-widgets/output",
          "model_module_version": "1.0.0",
          "model_name": "OutputModel",
          "state": {
            "_dom_classes": [],
            "_model_module": "@jupyter-widgets/output",
            "_model_module_version": "1.0.0",
            "_model_name": "OutputModel",
            "_view_count": null,
            "_view_module": "@jupyter-widgets/output",
            "_view_module_version": "1.0.0",
            "_view_name": "OutputView",
            "layout": "IPY_MODEL_3cbb998980fa43e18c52673f1bdc7b72",
            "msg_id": "",
            "outputs": [
              {
                "name": "stderr",
                "output_type": "stream",
                "text": [
                  "/content/bulkhours/bulkhours/data/world.py:12: FutureWarning: The geopandas.dataset module is deprecated and will be removed in GeoPandas 1.0. You can get the original 'naturalearth_lowres' data from https://www.naturalearthdata.com/downloads/110m-cultural-vectors/.\n",
                  "  filepath = gpd.datasets.get_path(\"naturalearth_lowres\")\n"
                ]
              },
              {
                "name": "stderr",
                "output_type": "stream",
                "text": [
                  "/content/bulkhours/bulkhours/data/world.py:12: FutureWarning: The geopandas.dataset module is deprecated and will be removed in GeoPandas 1.0. You can get the original 'naturalearth_lowres' data from https://www.naturalearthdata.com/downloads/110m-cultural-vectors/.\n",
                  "  filepath = gpd.datasets.get_path(\"naturalearth_lowres\")\n"
                ]
              },
              {
                "data": {
                  "text/markdown": "#### World Bank Poverty and Inequality data (with gpx extra info)\n- Raw data: [pip_dataset.csv](https://nyc3.digitaloceanspaces.com/owid-public/data/poverty/pip_dataset.csv)  ([raw](https://nyc3.digitaloceanspaces.com/owid-public/data/poverty/pip_dataset.csv))\n- Enrich data: [world.py](https://github.com/gtherin/bulkhours/blob/main/bulkhours/data/world.py)  ([raw](https://raw.githubusercontent.com/guydegnol/bulkhours/main/bulkhours/data/world.py))\n- Direct source: https://ourworldindata.org/poverty\n- Reference site: https://pip.worldbank.org/\n\n<details>\n<summary>Show columns info</summary>\n> <a href=\"https://github.com/owid/poverty-data/blob/main/datasets/pip_codebook.csv\">https://github.com/owid/poverty-data/blob/main/datasets/pip_codebook.csv</a>\n\n| Column   |      Info |\n|-----------|:-----------|\n| pop_est |  |\n| continent |  |\n| name |  |\n| iso_a3 |  |\n| gdp_md_est |  |\n| geometry |  |\n| year |  |\n| ppp_version |  |\n| survey_year |  |\n| survey_comparability |  |\n| headcount_ratio_international_povline |  |\n| headcount_ratio_lower_mid_income_povline |  |\n| headcount_ratio_upper_mid_income_povline |  |\n| headcount_ratio_100 |  |\n| headcount_ratio_1000 |  |\n| headcount_ratio_2000 |  |\n| headcount_ratio_3000 |  |\n| headcount_ratio_4000 |  |\n| headcount_ratio_40_median |  |\n| headcount_ratio_50_median |  |\n| headcount_ratio_60_median |  |\n| headcount_international_povline |  |\n| headcount_lower_mid_income_povline |  |\n| headcount_upper_mid_income_povline |  |\n| headcount_100 |  |\n| headcount_1000 |  |\n| headcount_2000 |  |\n| headcount_3000 |  |\n| headcount_4000 |  |\n| headcount_40_median |  |\n| headcount_50_median |  |\n| headcount_60_median |  |\n| avg_shortfall_international_povline |  |\n| avg_shortfall_lower_mid_income_povline |  |\n| avg_shortfall_upper_mid_income_povline |  |\n| avg_shortfall_100 |  |\n| avg_shortfall_1000 |  |\n| avg_shortfall_2000 |  |\n| avg_shortfall_3000 |  |\n| avg_shortfall_4000 |  |\n| avg_shortfall_40_median |  |\n| avg_shortfall_50_median |  |\n| avg_shortfall_60_median |  |\n| total_shortfall_international_povline |  |\n| total_shortfall_lower_mid_income_povline |  |\n| total_shortfall_upper_mid_income_povline |  |\n| total_shortfall_100 |  |\n| total_shortfall_1000 |  |\n| total_shortfall_2000 |  |\n| total_shortfall_3000 |  |\n| total_shortfall_4000 |  |\n| total_shortfall_40_median |  |\n| total_shortfall_50_median |  |\n| total_shortfall_60_median |  |\n| income_gap_ratio_international_povline |  |\n| income_gap_ratio_lower_mid_income_povline |  |\n| income_gap_ratio_upper_mid_income_povline |  |\n| income_gap_ratio_100 |  |\n| income_gap_ratio_1000 |  |\n| income_gap_ratio_2000 |  |\n| income_gap_ratio_3000 |  |\n| income_gap_ratio_4000 |  |\n| income_gap_ratio_40_median |  |\n| income_gap_ratio_50_median |  |\n| income_gap_ratio_60_median |  |\n| poverty_gap_index_international_povline |  |\n| poverty_gap_index_lower_mid_income_povline |  |\n| poverty_gap_index_upper_mid_income_povline |  |\n| poverty_gap_index_100 |  |\n| poverty_gap_index_1000 |  |\n| poverty_gap_index_2000 |  |\n| poverty_gap_index_3000 |  |\n| poverty_gap_index_4000 |  |\n| mean |  |\n| median |  |\n| decile1_avg |  |\n| decile2_avg |  |\n| decile3_avg |  |\n| decile4_avg |  |\n| decile5_avg |  |\n| decile6_avg |  |\n| decile7_avg |  |\n| decile8_avg |  |\n| decile9_avg |  |\n| decile10_avg |  |\n| decile1_share |  |\n| decile2_share |  |\n| decile3_share |  |\n| decile4_share |  |\n| decile5_share |  |\n| decile6_share |  |\n| decile7_share |  |\n| decile8_share |  |\n| decile9_share |  |\n| decile10_share |  |\n| decile1_thr |  |\n| decile2_thr |  |\n| decile3_thr |  |\n| decile4_thr |  |\n| decile6_thr |  |\n| decile7_thr |  |\n| decile8_thr |  |\n| decile9_thr |  |\n| gini |  |\n| mld |  |\n| polarization |  |\n| palma_ratio |  |\n| s80_s20_ratio |  |\n| p90_p10_ratio |  |\n| p90_p50_ratio |  |\n| p50_p10_ratio |  |\n| index |  |\n| m49 |  |\n\n</details>\n\n\n<details>\n<summary>Show code</summary>\n<code>\ndef get_mappoverty(self, **kwargs):\n    return get_mapgeneric(get_poverty(self, **kwargs))\n</code>\n</details>\n\n",
                  "text/plain": "<IPython.core.display.Markdown object>"
                },
                "metadata": {},
                "output_type": "display_data"
              },
              {
                "name": "stdout",
                "output_type": "stream",
                "text": [
                  "\u001b[31mBulkHours database info:\u001b[0m https://github.com/gtherin/bulkhours/blob/main/data/README.md\n",
                  "bulkhours.get_data(\"world.mappoverty\", credit=\u001b[1mFalse\u001b[0m)  # To stop showing this text\n"
                ]
              },
              {
                "data": {
                  "text/markdown": "\n<h3>The least egalitarian country in the world (2021) is the ... (gini=1.00). The most egalitarian country in the world is the ... (gini=0.00)</h3>\n",
                  "text/plain": "<IPython.core.display.Markdown object>"
                },
                "execution_count": 3,
                "metadata": {},
                "output_type": "execute_result"
              },
              {
                "data": {
                  "image/png": "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\n",
                  "text/plain": "<Figure size 1500x1000 with 2 Axes>"
                },
                "metadata": {
                  "needs_background": "light"
                },
                "output_type": "display_data"
              }
            ]
          }
        },
        "1b48208534914139946970d275561a05": {
          "model_module": "@jupyter-widgets/base",
          "model_module_version": "1.2.0",
          "model_name": "LayoutModel",
          "state": {
            "_model_module": "@jupyter-widgets/base",
            "_model_module_version": "1.2.0",
            "_model_name": "LayoutModel",
            "_view_count": null,
            "_view_module": "@jupyter-widgets/base",
            "_view_module_version": "1.2.0",
            "_view_name": "LayoutView",
            "align_content": null,
            "align_items": null,
            "align_self": null,
            "border": null,
            "bottom": null,
            "display": null,
            "flex": null,
            "flex_flow": null,
            "grid_area": null,
            "grid_auto_columns": null,
            "grid_auto_flow": null,
            "grid_auto_rows": null,
            "grid_column": null,
            "grid_gap": null,
            "grid_row": null,
            "grid_template_areas": null,
            "grid_template_columns": null,
            "grid_template_rows": null,
            "height": null,
            "justify_content": null,
            "justify_items": null,
            "left": null,
            "margin": null,
            "max_height": null,
            "max_width": null,
            "min_height": null,
            "min_width": null,
            "object_fit": null,
            "object_position": null,
            "order": null,
            "overflow": null,
            "overflow_x": null,
            "overflow_y": null,
            "padding": null,
            "right": null,
            "top": null,
            "visibility": null,
            "width": null
          }
        },
        "20e0d27887234e309e1da277ead4ebb3": {
          "model_module": "@jupyter-widgets/controls",
          "model_module_version": "1.5.0",
          "model_name": "ButtonStyleModel",
          "state": {
            "_model_module": "@jupyter-widgets/controls",
            "_model_module_version": "1.5.0",
            "_model_name": "ButtonStyleModel",
            "_view_count": null,
            "_view_module": "@jupyter-widgets/base",
            "_view_module_version": "1.2.0",
            "_view_name": "StyleView",
            "button_color": null,
            "font_weight": ""
          }
        },
        "23dc8bd48e5645c49bf137e5d89d938a": {
          "model_module": "@jupyter-widgets/base",
          "model_module_version": "1.2.0",
          "model_name": "LayoutModel",
          "state": {
            "_model_module": "@jupyter-widgets/base",
            "_model_module_version": "1.2.0",
            "_model_name": "LayoutModel",
            "_view_count": null,
            "_view_module": "@jupyter-widgets/base",
            "_view_module_version": "1.2.0",
            "_view_name": "LayoutView",
            "align_content": null,
            "align_items": null,
            "align_self": null,
            "border": null,
            "bottom": null,
            "display": null,
            "flex": null,
            "flex_flow": null,
            "grid_area": null,
            "grid_auto_columns": null,
            "grid_auto_flow": null,
            "grid_auto_rows": null,
            "grid_column": null,
            "grid_gap": null,
            "grid_row": null,
            "grid_template_areas": null,
            "grid_template_columns": null,
            "grid_template_rows": null,
            "height": null,
            "justify_content": null,
            "justify_items": null,
            "left": null,
            "margin": null,
            "max_height": null,
            "max_width": null,
            "min_height": null,
            "min_width": null,
            "object_fit": null,
            "object_position": null,
            "order": null,
            "overflow": null,
            "overflow_x": null,
            "overflow_y": null,
            "padding": null,
            "right": null,
            "top": null,
            "visibility": null,
            "width": null
          }
        },
        "255b51a52dfb4ec2b404c25439b10557": {
          "model_module": "@jupyter-widgets/base",
          "model_module_version": "1.2.0",
          "model_name": "LayoutModel",
          "state": {
            "_model_module": "@jupyter-widgets/base",
            "_model_module_version": "1.2.0",
            "_model_name": "LayoutModel",
            "_view_count": null,
            "_view_module": "@jupyter-widgets/base",
            "_view_module_version": "1.2.0",
            "_view_name": "LayoutView",
            "align_content": null,
            "align_items": null,
            "align_self": null,
            "border": null,
            "bottom": null,
            "display": null,
            "flex": null,
            "flex_flow": null,
            "grid_area": null,
            "grid_auto_columns": null,
            "grid_auto_flow": null,
            "grid_auto_rows": null,
            "grid_column": null,
            "grid_gap": null,
            "grid_row": null,
            "grid_template_areas": null,
            "grid_template_columns": null,
            "grid_template_rows": null,
            "height": null,
            "justify_content": null,
            "justify_items": null,
            "left": null,
            "margin": null,
            "max_height": null,
            "max_width": null,
            "min_height": null,
            "min_width": null,
            "object_fit": null,
            "object_position": null,
            "order": null,
            "overflow": null,
            "overflow_x": null,
            "overflow_y": null,
            "padding": null,
            "right": null,
            "top": null,
            "visibility": null,
            "width": null
          }
        },
        "2dbbcecf9e584daa97e79077880ec710": {
          "model_module": "@jupyter-widgets/controls",
          "model_module_version": "1.5.0",
          "model_name": "ButtonStyleModel",
          "state": {
            "_model_module": "@jupyter-widgets/controls",
            "_model_module_version": "1.5.0",
            "_model_name": "ButtonStyleModel",
            "_view_count": null,
            "_view_module": "@jupyter-widgets/base",
            "_view_module_version": "1.2.0",
            "_view_name": "StyleView",
            "button_color": null,
            "font_weight": ""
          }
        },
        "31ae0be442fd4cb888dc3a3df036af4d": {
          "model_module": "@jupyter-widgets/controls",
          "model_module_version": "1.5.0",
          "model_name": "HBoxModel",
          "state": {
            "_dom_classes": [],
            "_model_module": "@jupyter-widgets/controls",
            "_model_module_version": "1.5.0",
            "_model_name": "HBoxModel",
            "_view_count": null,
            "_view_module": "@jupyter-widgets/controls",
            "_view_module_version": "1.5.0",
            "_view_name": "HBoxView",
            "box_style": "",
            "children": [
              "IPY_MODEL_e67a6b4a5c384bff9731a4ffebb8a2c1",
              "IPY_MODEL_cabdf3a437c44880880705102e9da0d7"
            ],
            "layout": "IPY_MODEL_23dc8bd48e5645c49bf137e5d89d938a"
          }
        },
        "3200a1e4015d475e8667c1502a7d3895": {
          "model_module": "@jupyter-widgets/base",
          "model_module_version": "1.2.0",
          "model_name": "LayoutModel",
          "state": {
            "_model_module": "@jupyter-widgets/base",
            "_model_module_version": "1.2.0",
            "_model_name": "LayoutModel",
            "_view_count": null,
            "_view_module": "@jupyter-widgets/base",
            "_view_module_version": "1.2.0",
            "_view_name": "LayoutView",
            "align_content": null,
            "align_items": null,
            "align_self": null,
            "border": null,
            "bottom": null,
            "display": null,
            "flex": null,
            "flex_flow": null,
            "grid_area": null,
            "grid_auto_columns": null,
            "grid_auto_flow": null,
            "grid_auto_rows": null,
            "grid_column": null,
            "grid_gap": null,
            "grid_row": null,
            "grid_template_areas": null,
            "grid_template_columns": null,
            "grid_template_rows": null,
            "height": null,
            "justify_content": null,
            "justify_items": null,
            "left": null,
            "margin": null,
            "max_height": null,
            "max_width": null,
            "min_height": null,
            "min_width": null,
            "object_fit": null,
            "object_position": null,
            "order": null,
            "overflow": null,
            "overflow_x": null,
            "overflow_y": null,
            "padding": null,
            "right": null,
            "top": null,
            "visibility": null,
            "width": "150px"
          }
        },
        "3cbb998980fa43e18c52673f1bdc7b72": {
          "model_module": "@jupyter-widgets/base",
          "model_module_version": "1.2.0",
          "model_name": "LayoutModel",
          "state": {
            "_model_module": "@jupyter-widgets/base",
            "_model_module_version": "1.2.0",
            "_model_name": "LayoutModel",
            "_view_count": null,
            "_view_module": "@jupyter-widgets/base",
            "_view_module_version": "1.2.0",
            "_view_name": "LayoutView",
            "align_content": null,
            "align_items": null,
            "align_self": null,
            "border": null,
            "bottom": null,
            "display": null,
            "flex": null,
            "flex_flow": null,
            "grid_area": null,
            "grid_auto_columns": null,
            "grid_auto_flow": null,
            "grid_auto_rows": null,
            "grid_column": null,
            "grid_gap": null,
            "grid_row": null,
            "grid_template_areas": null,
            "grid_template_columns": null,
            "grid_template_rows": null,
            "height": null,
            "justify_content": null,
            "justify_items": null,
            "left": null,
            "margin": null,
            "max_height": null,
            "max_width": null,
            "min_height": null,
            "min_width": null,
            "object_fit": null,
            "object_position": null,
            "order": null,
            "overflow": null,
            "overflow_x": null,
            "overflow_y": null,
            "padding": null,
            "right": null,
            "top": null,
            "visibility": null,
            "width": null
          }
        },
        "3e40ca0f46a6450783abbb225cb768e6": {
          "model_module": "@jupyter-widgets/base",
          "model_module_version": "1.2.0",
          "model_name": "LayoutModel",
          "state": {
            "_model_module": "@jupyter-widgets/base",
            "_model_module_version": "1.2.0",
            "_model_name": "LayoutModel",
            "_view_count": null,
            "_view_module": "@jupyter-widgets/base",
            "_view_module_version": "1.2.0",
            "_view_name": "LayoutView",
            "align_content": null,
            "align_items": null,
            "align_self": null,
            "border": null,
            "bottom": null,
            "display": null,
            "flex": null,
            "flex_flow": null,
            "grid_area": null,
            "grid_auto_columns": null,
            "grid_auto_flow": null,
            "grid_auto_rows": null,
            "grid_column": null,
            "grid_gap": null,
            "grid_row": null,
            "grid_template_areas": null,
            "grid_template_columns": null,
            "grid_template_rows": null,
            "height": null,
            "justify_content": null,
            "justify_items": null,
            "left": null,
            "margin": null,
            "max_height": null,
            "max_width": null,
            "min_height": null,
            "min_width": null,
            "object_fit": null,
            "object_position": null,
            "order": null,
            "overflow": null,
            "overflow_x": null,
            "overflow_y": null,
            "padding": null,
            "right": null,
            "top": null,
            "visibility": null,
            "width": "150px"
          }
        },
        "3ebe7d2cd8c941e6ba28fe32ef5f7d05": {
          "model_module": "@jupyter-widgets/controls",
          "model_module_version": "1.5.0",
          "model_name": "ButtonModel",
          "state": {
            "_dom_classes": [],
            "_model_module": "@jupyter-widgets/controls",
            "_model_module_version": "1.5.0",
            "_model_name": "ButtonModel",
            "_view_count": null,
            "_view_module": "@jupyter-widgets/controls",
            "_view_module_version": "1.5.0",
            "_view_name": "ButtonView",
            "button_style": "primary",
            "description": "Voir la correction",
            "disabled": false,
            "icon": "",
            "layout": "IPY_MODEL_1849906047e44c48b64a1a0f143ebf06",
            "style": "IPY_MODEL_119c5cb391584d51a64b93db6f1548a1",
            "tooltip": "Récupération de la solution du correcteur. Si la solution est disponible, \n- Elle est affichée  \n- Elle peut-etre comparée avec le code de la cellule actuelle\n"
          }
        },
        "4aa54f91b9df4b97a7800c4f69f3d2fc": {
          "model_module": "@jupyter-widgets/base",
          "model_module_version": "1.2.0",
          "model_name": "LayoutModel",
          "state": {
            "_model_module": "@jupyter-widgets/base",
            "_model_module_version": "1.2.0",
            "_model_name": "LayoutModel",
            "_view_count": null,
            "_view_module": "@jupyter-widgets/base",
            "_view_module_version": "1.2.0",
            "_view_name": "LayoutView",
            "align_content": null,
            "align_items": null,
            "align_self": null,
            "border": null,
            "bottom": null,
            "display": null,
            "flex": null,
            "flex_flow": null,
            "grid_area": null,
            "grid_auto_columns": null,
            "grid_auto_flow": null,
            "grid_auto_rows": null,
            "grid_column": null,
            "grid_gap": null,
            "grid_row": null,
            "grid_template_areas": null,
            "grid_template_columns": null,
            "grid_template_rows": null,
            "height": null,
            "justify_content": null,
            "justify_items": null,
            "left": null,
            "margin": null,
            "max_height": null,
            "max_width": null,
            "min_height": null,
            "min_width": null,
            "object_fit": null,
            "object_position": null,
            "order": null,
            "overflow": null,
            "overflow_x": null,
            "overflow_y": null,
            "padding": null,
            "right": null,
            "top": null,
            "visibility": null,
            "width": null
          }
        },
        "4de878af06f64e1fa4a7293637b5d0ae": {
          "model_module": "@jupyter-widgets/controls",
          "model_module_version": "1.5.0",
          "model_name": "ButtonModel",
          "state": {
            "_dom_classes": [],
            "_model_module": "@jupyter-widgets/controls",
            "_model_module_version": "1.5.0",
            "_model_name": "ButtonModel",
            "_view_count": null,
            "_view_module": "@jupyter-widgets/controls",
            "_view_module_version": "1.5.0",
            "_view_name": "ButtonView",
            "button_style": "primary",
            "description": "Voir la correction",
            "disabled": false,
            "icon": "",
            "layout": "IPY_MODEL_0ebf09fef3ac49dd8d7fafd69f2c2989",
            "style": "IPY_MODEL_8672e835064f4890acb04f40c46b94f6",
            "tooltip": "Récupération de la solution du correcteur. Si la solution est disponible, \n- Elle est affichée  \n- Elle peut-etre comparée avec le code de la cellule actuelle\n"
          }
        },
        "5c8484758609428e9090f9a9716037ff": {
          "model_module": "@jupyter-widgets/controls",
          "model_module_version": "1.5.0",
          "model_name": "ButtonModel",
          "state": {
            "_dom_classes": [],
            "_model_module": "@jupyter-widgets/controls",
            "_model_module_version": "1.5.0",
            "_model_name": "ButtonModel",
            "_view_count": null,
            "_view_module": "@jupyter-widgets/controls",
            "_view_module_version": "1.5.0",
            "_view_name": "ButtonView",
            "button_style": "primary",
            "description": "Envoyer au correcteur",
            "disabled": false,
            "icon": "",
            "layout": "IPY_MODEL_3e40ca0f46a6450783abbb225cb768e6",
            "style": "IPY_MODEL_97a060265c474513a2383be79d863c8a",
            "tooltip": "Envoi de la réponse (contenu de la cellule actuelle) au correcteur.\nLa réponse pourra être utilisée pour évaluation\n"
          }
        },
        "79e8d1c6f75f49aeaf9efb47cffc9da5": {
          "model_module": "@jupyter-widgets/base",
          "model_module_version": "1.2.0",
          "model_name": "LayoutModel",
          "state": {
            "_model_module": "@jupyter-widgets/base",
            "_model_module_version": "1.2.0",
            "_model_name": "LayoutModel",
            "_view_count": null,
            "_view_module": "@jupyter-widgets/base",
            "_view_module_version": "1.2.0",
            "_view_name": "LayoutView",
            "align_content": null,
            "align_items": null,
            "align_self": null,
            "border": null,
            "bottom": null,
            "display": null,
            "flex": null,
            "flex_flow": null,
            "grid_area": null,
            "grid_auto_columns": null,
            "grid_auto_flow": null,
            "grid_auto_rows": null,
            "grid_column": null,
            "grid_gap": null,
            "grid_row": null,
            "grid_template_areas": null,
            "grid_template_columns": null,
            "grid_template_rows": null,
            "height": null,
            "justify_content": null,
            "justify_items": null,
            "left": null,
            "margin": null,
            "max_height": null,
            "max_width": null,
            "min_height": null,
            "min_width": null,
            "object_fit": null,
            "object_position": null,
            "order": null,
            "overflow": null,
            "overflow_x": null,
            "overflow_y": null,
            "padding": null,
            "right": null,
            "top": null,
            "visibility": null,
            "width": "150px"
          }
        },
        "826c82770bf64663b9de86412201375b": {
          "model_module": "@jupyter-widgets/controls",
          "model_module_version": "1.5.0",
          "model_name": "ButtonModel",
          "state": {
            "_dom_classes": [],
            "_model_module": "@jupyter-widgets/controls",
            "_model_module_version": "1.5.0",
            "_model_name": "ButtonModel",
            "_view_count": null,
            "_view_module": "@jupyter-widgets/controls",
            "_view_module_version": "1.5.0",
            "_view_name": "ButtonView",
            "button_style": "primary",
            "description": "Envoyer au correcteur",
            "disabled": false,
            "icon": "",
            "layout": "IPY_MODEL_b1228acab83c408b9fd4ed4486580870",
            "style": "IPY_MODEL_b16459ad30aa454e93381b1579440bc4",
            "tooltip": "Envoi de la réponse (contenu de la cellule actuelle) au correcteur.\nLa réponse pourra être utilisée pour évaluation\n"
          }
        },
        "85e6b38ed8aa4dafb3f309353d14e834": {
          "model_module": "@jupyter-widgets/base",
          "model_module_version": "1.2.0",
          "model_name": "LayoutModel",
          "state": {
            "_model_module": "@jupyter-widgets/base",
            "_model_module_version": "1.2.0",
            "_model_name": "LayoutModel",
            "_view_count": null,
            "_view_module": "@jupyter-widgets/base",
            "_view_module_version": "1.2.0",
            "_view_name": "LayoutView",
            "align_content": null,
            "align_items": null,
            "align_self": null,
            "border": null,
            "bottom": null,
            "display": null,
            "flex": null,
            "flex_flow": null,
            "grid_area": null,
            "grid_auto_columns": null,
            "grid_auto_flow": null,
            "grid_auto_rows": null,
            "grid_column": null,
            "grid_gap": null,
            "grid_row": null,
            "grid_template_areas": null,
            "grid_template_columns": null,
            "grid_template_rows": null,
            "height": null,
            "justify_content": null,
            "justify_items": null,
            "left": null,
            "margin": null,
            "max_height": null,
            "max_width": null,
            "min_height": null,
            "min_width": null,
            "object_fit": null,
            "object_position": null,
            "order": null,
            "overflow": null,
            "overflow_x": null,
            "overflow_y": null,
            "padding": null,
            "right": null,
            "top": null,
            "visibility": null,
            "width": "150px"
          }
        },
        "8672e835064f4890acb04f40c46b94f6": {
          "model_module": "@jupyter-widgets/controls",
          "model_module_version": "1.5.0",
          "model_name": "ButtonStyleModel",
          "state": {
            "_model_module": "@jupyter-widgets/controls",
            "_model_module_version": "1.5.0",
            "_model_name": "ButtonStyleModel",
            "_view_count": null,
            "_view_module": "@jupyter-widgets/base",
            "_view_module_version": "1.2.0",
            "_view_name": "StyleView",
            "button_color": null,
            "font_weight": ""
          }
        },
        "8accc7e9edfa4e55add2698aee6d6b6c": {
          "model_module": "@jupyter-widgets/controls",
          "model_module_version": "1.5.0",
          "model_name": "HBoxModel",
          "state": {
            "_dom_classes": [],
            "_model_module": "@jupyter-widgets/controls",
            "_model_module_version": "1.5.0",
            "_model_name": "HBoxModel",
            "_view_count": null,
            "_view_module": "@jupyter-widgets/controls",
            "_view_module_version": "1.5.0",
            "_view_name": "HBoxView",
            "box_style": "",
            "children": [
              "IPY_MODEL_5c8484758609428e9090f9a9716037ff",
              "IPY_MODEL_3ebe7d2cd8c941e6ba28fe32ef5f7d05"
            ],
            "layout": "IPY_MODEL_255b51a52dfb4ec2b404c25439b10557"
          }
        },
        "8bfa31b2a8444e61b25cccdb5954f8b6": {
          "model_module": "@jupyter-widgets/controls",
          "model_module_version": "1.5.0",
          "model_name": "HBoxModel",
          "state": {
            "_dom_classes": [],
            "_model_module": "@jupyter-widgets/controls",
            "_model_module_version": "1.5.0",
            "_model_name": "HBoxModel",
            "_view_count": null,
            "_view_module": "@jupyter-widgets/controls",
            "_view_module_version": "1.5.0",
            "_view_name": "HBoxView",
            "box_style": "",
            "children": [
              "IPY_MODEL_101b813980684e6ea86d19c842357836",
              "IPY_MODEL_9fa36de5511f414aae1b5320bb2b1cee"
            ],
            "layout": "IPY_MODEL_a0c956c8d30945edb097f95e56faa82a"
          }
        },
        "97a060265c474513a2383be79d863c8a": {
          "model_module": "@jupyter-widgets/controls",
          "model_module_version": "1.5.0",
          "model_name": "ButtonStyleModel",
          "state": {
            "_model_module": "@jupyter-widgets/controls",
            "_model_module_version": "1.5.0",
            "_model_name": "ButtonStyleModel",
            "_view_count": null,
            "_view_module": "@jupyter-widgets/base",
            "_view_module_version": "1.2.0",
            "_view_name": "StyleView",
            "button_color": null,
            "font_weight": ""
          }
        },
        "9fa36de5511f414aae1b5320bb2b1cee": {
          "model_module": "@jupyter-widgets/controls",
          "model_module_version": "1.5.0",
          "model_name": "ButtonModel",
          "state": {
            "_dom_classes": [],
            "_model_module": "@jupyter-widgets/controls",
            "_model_module_version": "1.5.0",
            "_model_name": "ButtonModel",
            "_view_count": null,
            "_view_module": "@jupyter-widgets/controls",
            "_view_module_version": "1.5.0",
            "_view_name": "ButtonView",
            "button_style": "primary",
            "description": "Voir la correction",
            "disabled": false,
            "icon": "",
            "layout": "IPY_MODEL_85e6b38ed8aa4dafb3f309353d14e834",
            "style": "IPY_MODEL_f67add7c1bb3490383262d10f6b278a0",
            "tooltip": "Récupération de la solution du correcteur. Si la solution est disponible, \n- Elle est affichée  \n- Elle peut-etre comparée avec le code de la cellule actuelle\n"
          }
        },
        "a0c956c8d30945edb097f95e56faa82a": {
          "model_module": "@jupyter-widgets/base",
          "model_module_version": "1.2.0",
          "model_name": "LayoutModel",
          "state": {
            "_model_module": "@jupyter-widgets/base",
            "_model_module_version": "1.2.0",
            "_model_name": "LayoutModel",
            "_view_count": null,
            "_view_module": "@jupyter-widgets/base",
            "_view_module_version": "1.2.0",
            "_view_name": "LayoutView",
            "align_content": null,
            "align_items": null,
            "align_self": null,
            "border": null,
            "bottom": null,
            "display": null,
            "flex": null,
            "flex_flow": null,
            "grid_area": null,
            "grid_auto_columns": null,
            "grid_auto_flow": null,
            "grid_auto_rows": null,
            "grid_column": null,
            "grid_gap": null,
            "grid_row": null,
            "grid_template_areas": null,
            "grid_template_columns": null,
            "grid_template_rows": null,
            "height": null,
            "justify_content": null,
            "justify_items": null,
            "left": null,
            "margin": null,
            "max_height": null,
            "max_width": null,
            "min_height": null,
            "min_width": null,
            "object_fit": null,
            "object_position": null,
            "order": null,
            "overflow": null,
            "overflow_x": null,
            "overflow_y": null,
            "padding": null,
            "right": null,
            "top": null,
            "visibility": null,
            "width": null
          }
        },
        "b1228acab83c408b9fd4ed4486580870": {
          "model_module": "@jupyter-widgets/base",
          "model_module_version": "1.2.0",
          "model_name": "LayoutModel",
          "state": {
            "_model_module": "@jupyter-widgets/base",
            "_model_module_version": "1.2.0",
            "_model_name": "LayoutModel",
            "_view_count": null,
            "_view_module": "@jupyter-widgets/base",
            "_view_module_version": "1.2.0",
            "_view_name": "LayoutView",
            "align_content": null,
            "align_items": null,
            "align_self": null,
            "border": null,
            "bottom": null,
            "display": null,
            "flex": null,
            "flex_flow": null,
            "grid_area": null,
            "grid_auto_columns": null,
            "grid_auto_flow": null,
            "grid_auto_rows": null,
            "grid_column": null,
            "grid_gap": null,
            "grid_row": null,
            "grid_template_areas": null,
            "grid_template_columns": null,
            "grid_template_rows": null,
            "height": null,
            "justify_content": null,
            "justify_items": null,
            "left": null,
            "margin": null,
            "max_height": null,
            "max_width": null,
            "min_height": null,
            "min_width": null,
            "object_fit": null,
            "object_position": null,
            "order": null,
            "overflow": null,
            "overflow_x": null,
            "overflow_y": null,
            "padding": null,
            "right": null,
            "top": null,
            "visibility": null,
            "width": "150px"
          }
        },
        "b16459ad30aa454e93381b1579440bc4": {
          "model_module": "@jupyter-widgets/controls",
          "model_module_version": "1.5.0",
          "model_name": "ButtonStyleModel",
          "state": {
            "_model_module": "@jupyter-widgets/controls",
            "_model_module_version": "1.5.0",
            "_model_name": "ButtonStyleModel",
            "_view_count": null,
            "_view_module": "@jupyter-widgets/base",
            "_view_module_version": "1.2.0",
            "_view_name": "StyleView",
            "button_color": null,
            "font_weight": ""
          }
        },
        "c610306387834272a30a691fca3dc697": {
          "model_module": "@jupyter-widgets/controls",
          "model_module_version": "1.5.0",
          "model_name": "ButtonStyleModel",
          "state": {
            "_model_module": "@jupyter-widgets/controls",
            "_model_module_version": "1.5.0",
            "_model_name": "ButtonStyleModel",
            "_view_count": null,
            "_view_module": "@jupyter-widgets/base",
            "_view_module_version": "1.2.0",
            "_view_name": "StyleView",
            "button_color": null,
            "font_weight": ""
          }
        },
        "cabdf3a437c44880880705102e9da0d7": {
          "model_module": "@jupyter-widgets/controls",
          "model_module_version": "1.5.0",
          "model_name": "ButtonModel",
          "state": {
            "_dom_classes": [],
            "_model_module": "@jupyter-widgets/controls",
            "_model_module_version": "1.5.0",
            "_model_name": "ButtonModel",
            "_view_count": null,
            "_view_module": "@jupyter-widgets/controls",
            "_view_module_version": "1.5.0",
            "_view_name": "ButtonView",
            "button_style": "primary",
            "description": "Voir la correction",
            "disabled": false,
            "icon": "",
            "layout": "IPY_MODEL_3200a1e4015d475e8667c1502a7d3895",
            "style": "IPY_MODEL_c610306387834272a30a691fca3dc697",
            "tooltip": "Récupération de la solution du correcteur. Si la solution est disponible, \n- Elle est affichée  \n- Elle peut-etre comparée avec le code de la cellule actuelle\n"
          }
        },
        "cf4bdca4c2d041c09263d0d41da8b391": {
          "model_module": "@jupyter-widgets/controls",
          "model_module_version": "1.5.0",
          "model_name": "HBoxModel",
          "state": {
            "_dom_classes": [],
            "_model_module": "@jupyter-widgets/controls",
            "_model_module_version": "1.5.0",
            "_model_name": "HBoxModel",
            "_view_count": null,
            "_view_module": "@jupyter-widgets/controls",
            "_view_module_version": "1.5.0",
            "_view_name": "HBoxView",
            "box_style": "",
            "children": [
              "IPY_MODEL_826c82770bf64663b9de86412201375b",
              "IPY_MODEL_4de878af06f64e1fa4a7293637b5d0ae"
            ],
            "layout": "IPY_MODEL_e8d89852f799438a84f40f5d93c0342e"
          }
        },
        "e598f0e5ff974b4eb3092713d50baf1c": {
          "model_module": "@jupyter-widgets/base",
          "model_module_version": "1.2.0",
          "model_name": "LayoutModel",
          "state": {
            "_model_module": "@jupyter-widgets/base",
            "_model_module_version": "1.2.0",
            "_model_name": "LayoutModel",
            "_view_count": null,
            "_view_module": "@jupyter-widgets/base",
            "_view_module_version": "1.2.0",
            "_view_name": "LayoutView",
            "align_content": null,
            "align_items": null,
            "align_self": null,
            "border": null,
            "bottom": null,
            "display": null,
            "flex": null,
            "flex_flow": null,
            "grid_area": null,
            "grid_auto_columns": null,
            "grid_auto_flow": null,
            "grid_auto_rows": null,
            "grid_column": null,
            "grid_gap": null,
            "grid_row": null,
            "grid_template_areas": null,
            "grid_template_columns": null,
            "grid_template_rows": null,
            "height": null,
            "justify_content": null,
            "justify_items": null,
            "left": null,
            "margin": null,
            "max_height": null,
            "max_width": null,
            "min_height": null,
            "min_width": null,
            "object_fit": null,
            "object_position": null,
            "order": null,
            "overflow": null,
            "overflow_x": null,
            "overflow_y": null,
            "padding": null,
            "right": null,
            "top": null,
            "visibility": null,
            "width": "150px"
          }
        },
        "e67a6b4a5c384bff9731a4ffebb8a2c1": {
          "model_module": "@jupyter-widgets/controls",
          "model_module_version": "1.5.0",
          "model_name": "ButtonModel",
          "state": {
            "_dom_classes": [],
            "_model_module": "@jupyter-widgets/controls",
            "_model_module_version": "1.5.0",
            "_model_name": "ButtonModel",
            "_view_count": null,
            "_view_module": "@jupyter-widgets/controls",
            "_view_module_version": "1.5.0",
            "_view_name": "ButtonView",
            "button_style": "primary",
            "description": "Envoyer au correcteur",
            "disabled": false,
            "icon": "",
            "layout": "IPY_MODEL_79e8d1c6f75f49aeaf9efb47cffc9da5",
            "style": "IPY_MODEL_20e0d27887234e309e1da277ead4ebb3",
            "tooltip": "Envoi de la réponse (contenu de la cellule actuelle) au correcteur.\nLa réponse pourra être utilisée pour évaluation\n"
          }
        },
        "e8d89852f799438a84f40f5d93c0342e": {
          "model_module": "@jupyter-widgets/base",
          "model_module_version": "1.2.0",
          "model_name": "LayoutModel",
          "state": {
            "_model_module": "@jupyter-widgets/base",
            "_model_module_version": "1.2.0",
            "_model_name": "LayoutModel",
            "_view_count": null,
            "_view_module": "@jupyter-widgets/base",
            "_view_module_version": "1.2.0",
            "_view_name": "LayoutView",
            "align_content": null,
            "align_items": null,
            "align_self": null,
            "border": null,
            "bottom": null,
            "display": null,
            "flex": null,
            "flex_flow": null,
            "grid_area": null,
            "grid_auto_columns": null,
            "grid_auto_flow": null,
            "grid_auto_rows": null,
            "grid_column": null,
            "grid_gap": null,
            "grid_row": null,
            "grid_template_areas": null,
            "grid_template_columns": null,
            "grid_template_rows": null,
            "height": null,
            "justify_content": null,
            "justify_items": null,
            "left": null,
            "margin": null,
            "max_height": null,
            "max_width": null,
            "min_height": null,
            "min_width": null,
            "object_fit": null,
            "object_position": null,
            "order": null,
            "overflow": null,
            "overflow_x": null,
            "overflow_y": null,
            "padding": null,
            "right": null,
            "top": null,
            "visibility": null,
            "width": null
          }
        },
        "f0c3fdbff7374c2cbf5909be77e260b2": {
          "model_module": "@jupyter-widgets/output",
          "model_module_version": "1.0.0",
          "model_name": "OutputModel",
          "state": {
            "_dom_classes": [],
            "_model_module": "@jupyter-widgets/output",
            "_model_module_version": "1.0.0",
            "_model_name": "OutputModel",
            "_view_count": null,
            "_view_module": "@jupyter-widgets/output",
            "_view_module_version": "1.0.0",
            "_view_name": "OutputView",
            "layout": "IPY_MODEL_1b48208534914139946970d275561a05",
            "msg_id": "",
            "outputs": [
              {
                "data": {
                  "text/markdown": "#### Quarterly sunspots activity (ssn)\n- Raw data: [observed-solar-cycle-indices.json](https://services.swpc.noaa.gov/json/solar-cycle/observed-solar-cycle-indices.json)  ([raw](https://services.swpc.noaa.gov/json/solar-cycle/observed-solar-cycle-indices.json))\n- Enrich data: [statsdata.py](https://github.com/gtherin/bulkhours/blob/main/bulkhours/data/statsdata.py)  ([raw](https://raw.githubusercontent.com/guydegnol/bulkhours/main/bulkhours/data/statsdata.py))\n- Direct source: https://www.swpc.noaa.gov/products/solar-cycle-progression\n- Reference site: https://services.swpc.noaa.gov/json/solar-cycle/observed-solar-cycle-indices.json\n\n<details>\n<summary>Show columns info</summary>\n\n| Column   |      Info |\n|-----------|:-----------|\n| ssn | SunSpot Number (aka Wolf Number or Zürich number): number of sunspots and groups of sunspots present on the surface of the Sun (source: S.I.D.C. Brussels International Sunspot Number) |\n| smoothed_ssn | smoothed ssn (source: S.I.D.C. Brussels International Sunspot Number) |\n| observed_swpc_ssn | mean monthly SWPC/SWO ssn (source: SWPC Space Weather Operations) |\n| smoothed_swpc_ssn | smoothed ssn (source: SWPC Space Weather Operations) |\n| f10.7 | mean monthly  flux values (sfu) (source: Penticton, B.C. 10.7cm radio) |\n| smoothed_f10.7 | smoothed radio flux values (source: Penticton, B.C. 10.7cm radio) |\n\n</details>\n\n\n<details>\n<summary>Show code</summary>\n<code>\ndef get_sunspots(self):\n    dta = pd.read_json(self.raw_data)\n    sunspots = dta.set_index(\"time-tag\")\n    sunspots.index = pd.to_datetime(sunspots.index)\n    sunspots.index.freq = sunspots.index.inferred_freq\n\n    sunspots = sunspots.resample(\"MS\").mean()\n    sunspots = sunspots.resample(\"Q\").mean().iloc[-400:]\n\n    return sunspots\n</code>\n</details>\n\n",
                  "text/plain": "<IPython.core.display.Markdown object>"
                },
                "metadata": {},
                "output_type": "display_data"
              },
              {
                "name": "stdout",
                "output_type": "stream",
                "text": [
                  "\u001b[31mBulkHours database info:\u001b[0m https://github.com/gtherin/bulkhours/blob/main/data/README.md\n",
                  "bulkhours.get_data(\"sunspots\", credit=\u001b[1mFalse\u001b[0m)  # To stop showing this text\n"
                ]
              }
            ]
          }
        },
        "f67add7c1bb3490383262d10f6b278a0": {
          "model_module": "@jupyter-widgets/controls",
          "model_module_version": "1.5.0",
          "model_name": "ButtonStyleModel",
          "state": {
            "_model_module": "@jupyter-widgets/controls",
            "_model_module_version": "1.5.0",
            "_model_name": "ButtonStyleModel",
            "_view_count": null,
            "_view_module": "@jupyter-widgets/base",
            "_view_module_version": "1.2.0",
            "_view_name": "StyleView",
            "button_color": null,
            "font_weight": ""
          }
        }
      }
    }
  },
  "nbformat": 4,
  "nbformat_minor": 0
}
