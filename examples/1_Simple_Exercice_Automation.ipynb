{
  "cells": [
    {
      "cell_type": "markdown",
      "metadata": {
        "id": "4ZQuN02JnkDZ"
      },
      "source": [
        "# Initialization of the notebook"
      ]
    },
    {
      "cell_type": "markdown",
      "metadata": {
        "id": "cxb4MUu_VnLD"
      },
      "source": [
        "## Install the package\n",
        "\n",
        "First, you need to install the package from github and import it:"
      ]
    },
    {
      "cell_type": "code",
      "execution_count": 1,
      "metadata": {
        "colab": {
          "base_uri": "https://localhost:8080/",
          "height": 175
        },
        "id": "rSpNjxbXy0TB",
        "outputId": "38817da4-3ef2-45aa-da7d-a00ffc240ed4"
      },
      "outputs": [
        {
          "name": "stdout",
          "output_type": "stream",
          "text": [
            "Cloning into 'bulkhours'...\n",
            "remote: Enumerating objects: 5909, done.\u001b[K\n",
            "remote: Counting objects: 100% (1508/1508), done.\u001b[K\n",
            "remote: Compressing objects: 100% (553/553), done.\u001b[K\n",
            "remote: Total 5909 (delta 1022), reused 1389 (delta 909), pack-reused 4401\u001b[K\n",
            "Receiving objects: 100% (5909/5909), 42.66 MiB | 18.48 MiB/s, done.\n",
            "Resolving deltas: 100% (3859/3859), done.\n"
          ]
        },
        {
          "data": {
            "text/markdown": [
              "[![Open In Colab](https://colab.research.google.com/assets/colab-badge.svg)](https://colab.research.google.com/github/guydegnol/bulkhours/blob/main/examples/1_Simple_Exercice_Automation.ipynb) [![GitHub](https://badgen.net/badge/icon/Open%20in%20Github?icon=github&label)](https://github.com/gtherin/bulkhours/blob/main/examples/1_Simple_Exercice_Automation.ipynb) [![Open in AWS Studio](https://studiolab.sagemaker.aws/studiolab.svg)](https://studiolab.sagemaker.aws/import/github/guydegnol/bulkhours/blob/main/examples/1_Simple_Exercice_Automation.ipynb) [![Open in Visual Studio Code](https://img.shields.io/static/v1?logo=visualstudiocode&label=&message=Open%20in%20Visual%20Studio&labelColor=2c2c32&color=007acc&logoColor=007acc)](https://vscode.dev/github/guydegnol/bulkhours/blob/main/examples/1_Simple_Exercice_Automation.ipynb) [![CC-by-nc-sa license](https://badgen.net/badge/icon/CC%20by-nc-sa?label=Licence)](https://creativecommons.org/licenses/by-nc-sa/4.0) \n"
            ],
            "text/plain": [
              "<IPython.core.display.Markdown object>"
            ]
          },
          "metadata": {},
          "output_type": "display_data"
        }
      ],
      "source": [
        "# Install the bulkhours package\n",
        "!rm -rf bulkhours && git clone https://github.com/gtherin/bulkhours.git\n",
        "\n",
        "# Import the bulkhours package\n",
        "import bulkhours\n",
        "\n",
        "# Import needed libraries\n",
        "import numpy as np\n",
        "\n",
        "# Generate header links (only for the demo)\n",
        "bulkhours.generate_header_links(\"examples/1_Simple_Exercice_Automation.ipynb\")"
      ]
    },
    {
      "cell_type": "markdown",
      "metadata": {
        "id": "eKq60wOFhp4I"
      },
      "source": [
        "## Connection to the evaluation database\n",
        "\n",
        "To activate the evaluation tools, you need to identify yourself on the database server.\n"
      ]
    },
    {
      "cell_type": "code",
      "execution_count": 2,
      "metadata": {
        "colab": {
          "base_uri": "https://localhost:8080/"
        },
        "id": "acIlYk26hYoB",
        "outputId": "c2a1fd6a-fc55-4bc4-ee35-3eba011e5ec4"
      },
      "outputs": [
        {
          "name": "stdout",
          "output_type": "stream",
          "text": [
            "Import BULK Helper cOURSe (\u001b[0m\u001b[36mversion='5.2.29'\u001b[0m🚀'):⚠️\u001b[31mDatabase is local (security_level=0). Export your config file if you need persistency.\u001b[0m⚠️\n",
            "(db, subject, virtual_room, nb_id, user) = (starwars.json, s, light_side, n, luke.skywalker@jedi.com✅)\n"
          ]
        }
      ],
      "source": [
        "# You need to identify yourself first to activate the evaluation tools\n",
        "bulkhours.init_env(email=\"luke.skywalker@jedi.com\", database=None)"
      ]
    },
    {
      "cell_type": "markdown",
      "metadata": {
        "id": "FKiX55TGjCP5"
      },
      "source": [
        "* If the database `argument` is not set up, it will simply be the following local file:\n",
        "```python\n",
        "# This file will be loaded from the bulkhours package directory\n",
        "database =\"data/cache/starwars.json\"\n",
        "```\n",
        "\n",
        "* You can configure it with your own server:\n",
        "```python\n",
        "# This file will be loaded from the server absolute path\n",
        "database =\"/content/mydatabase.json\"\n",
        "```\n",
        "\n",
        "* It can also be a database config information:\n",
        "```python\n",
        "# This config file is only compatible with a google firestore server for now.\n",
        "database = {\n",
        "    \"type\": \"service_account\",\n",
        "    ...,\n",
        "    \"universe_domain\": \"googleapis.com\"\n",
        "    }\n",
        "```\n",
        "\n",
        "* Another solution is to ask a token to bulkhours@guydegnol.net . With this token, you should have access to a secured database (with id check and separated rights between students and admins), api to openai, huggingface, etc...\n",
        "```python\n",
        "database = \"bkloud@SUBJECT/teacher::eNq-XXXXXXXXXXXHXXXXX-L29tB\"\n",
        "database = \"bkloud@SUBJECT/CLASSROOM_student::eNq-XXXXXXXXXXXHXXXXX-9tB\"\n",
        "```\n",
        "\n",
        "\n",
        ">[💡Documentation: 📱**`bulkhours.init_env`**](https://github.com/gtherin/bulkhours/wiki/init_env)\n",
        "\n"
      ]
    },
    {
      "cell_type": "markdown",
      "metadata": {
        "id": "WAWZ3hSUC_ju"
      },
      "source": [
        "# Create an exercice with automatic evaluation\n",
        "\n",
        "Here is the exercice I want to give to my students:\n",
        "\n",
        "> **Exercise**: Using `numpy.exp`, implement the $\\sigma(z) = \\frac{1}{1 + e^{-z}}$ to make predictions.\n",
        "\n",
        "The expected solution is the following:\n",
        "\n",
        "```python\n",
        "def sigmoid(z):\n",
        "  s = 1 / (1 + np.exp(-z))\n",
        "  return s\n",
        "```"
      ]
    },
    {
      "cell_type": "markdown",
      "metadata": {
        "id": "CIrOZMQ-DrRC"
      },
      "source": [
        "## Define an exercice id\n",
        "\n",
        "To identify an exercice, we need to define an id for each cell (aka `cell_id`). We can do it by using the `%%evaluation_cell_id` magic method.\n",
        "\n",
        "For instance, here is the content of a cell that a student might see:"
      ]
    },
    {
      "cell_type": "code",
      "execution_count": 3,
      "metadata": {
        "colab": {
          "base_uri": "https://localhost:8080/",
          "height": 101,
          "referenced_widgets": [
            "842b8b0309de45999a1f1160a187fa02",
            "59a20c7669134fc59de2d017a079f794",
            "f971f0f4e6f0462283b6165112e2e476",
            "25069c1af37344b09497c834f976f91f",
            "12886473f4034532b79f4bdf2d61dd13",
            "66746a63c5b947d28e14e5e06a82b4d6",
            "a842b83a4cd5481bb91e3d8ac2c9980a",
            "c4601ed95254438b9b63396eb784a907",
            "d013a9600883454fa2bb11d62cd78281",
            "6ae3f157399d4a31bb62dd6fa13b7a37"
          ]
        },
        "id": "xyPNN-G5Uv7v",
        "outputId": "8a9b2627-b2b9-48d7-d6ea-97df60668324"
      },
      "outputs": [
        {
          "data": {
            "application/vnd.jupyter.widget-view+json": {
              "model_id": "842b8b0309de45999a1f1160a187fa02",
              "version_major": 2,
              "version_minor": 0
            },
            "text/plain": [
              "HBox(children=(Button(button_style='primary', description='Envoyer au correcteur', layout=Layout(width='150px'…"
            ]
          },
          "metadata": {},
          "output_type": "display_data"
        },
        {
          "data": {
            "application/vnd.jupyter.widget-view+json": {
              "model_id": "d013a9600883454fa2bb11d62cd78281",
              "version_major": 2,
              "version_minor": 0
            },
            "text/plain": [
              "Output()"
            ]
          },
          "metadata": {},
          "output_type": "display_data"
        }
      ],
      "source": [
        "%%evaluation_cell_id -i demo_exercice\n",
        "\n",
        "def sigmoid(z):\n",
        "  # Implement the sigmoid function\n",
        "  s = z # ...\n",
        "  return s\n",
        "\n",
        "for z in [1, 3, 7]:\n",
        "  print(f\"sigmoid({z})={sigmoid(z)}\")"
      ]
    },
    {
      "cell_type": "markdown",
      "metadata": {
        "id": "-DBpDhtJEK7e"
      },
      "source": [
        "The id of the exercice has been chosen as `demo_exercice`.\n",
        "With this identification, we should ne able to exchange information from one notebook to another.\n",
        "\n",
        "**As a student, you have by defaults 2 available buttons:**\n",
        "* One to submit the cell content as an answer,\n",
        "* Another one to get the solution when it is available.\n",
        "\n",
        ">[💡Documentation: 🔗**`evaluation_cell_id`**](https://github.com/gtherin/bulkhours/wiki/evaluation_cell_id)"
      ]
    },
    {
      "cell_type": "markdown",
      "metadata": {
        "id": "GJr4KCvMuiWY"
      },
      "source": [
        "## Teacher mode versus student mode"
      ]
    },
    {
      "cell_type": "markdown",
      "metadata": {
        "id": "ylhoreJQb1I7"
      },
      "source": [
        "Normaly, all the following code should be runned in a teacher notebook.\n",
        "In demo mode, you can simply switch to the teacher mode calling the\n",
        "```bulkhours.init_env``` with the ```is_admin=True``` argument.\n"
      ]
    },
    {
      "cell_type": "code",
      "execution_count": 4,
      "metadata": {
        "colab": {
          "base_uri": "https://localhost:8080/"
        },
        "id": "ITm3ZI9ZE8f5",
        "outputId": "62b68599-6712-417c-d0bf-5299a7e146f1"
      },
      "outputs": [
        {
          "name": "stdout",
          "output_type": "stream",
          "text": [
            "Import BULK Helper cOURSe (\u001b[0m\u001b[36mversion='5.2.29'\u001b[0m🚀', ⚠️\u001b[31m\u001b[41m\u001b[37m in admin/teacher🎓 mode\u001b[0m⚠️):⚠️\u001b[31mDatabase is local (security_level=0). Export your config file if you need persistency.\u001b[0m⚠️\n",
            "(db, subject, virtual_room, nb_id, user) = (starwars.json, s, light_side, n, yoda@jedi.com🎓)\n"
          ]
        }
      ],
      "source": [
        "bulkhours.init_env(email=\"yo.da@jedi.com\", is_admin=True)"
      ]
    },
    {
      "cell_type": "markdown",
      "metadata": {
        "id": "KZhMIN2pxfjo"
      },
      "source": [
        "## Accessing someone else notebook cell\n"
      ]
    },
    {
      "cell_type": "markdown",
      "metadata": {
        "id": "wHkOSnlmyWkP"
      },
      "source": [
        "As an admin of the project, you can access the cell content of another user like that:"
      ]
    },
    {
      "cell_type": "code",
      "execution_count": 5,
      "metadata": {
        "colab": {
          "base_uri": "https://localhost:8080/",
          "height": 352,
          "referenced_widgets": [
            "14ecf96c16ea4b1a840d00fb6d62dbe1",
            "fb5b4018203845d7ba44bfbd824a445e",
            "d1dba479a8ef4e8aaa2c615907929187",
            "2bfeebf717c4418f8c83fedc9920c4c2",
            "55ff8890effb4cdc8a638e00b7d54872",
            "76a409f13d41412d9ba0d22cdd0ecf65",
            "98f256f8f082459da9fbdc7d91bb8b00",
            "e52eb96ceca349989f0ab073a0ba81c3",
            "544b7eb4157443c5b6aeae99496efd28",
            "65dc70c66a084b17b7b7f4103a96e572",
            "9a3ff73e826945a2b5d798a03ef32fe7",
            "372d4a2d9c744089a3846eb8a8b4d8d9",
            "a9a89c129fb74651a310a4f4a9ebfbb9",
            "32ccfff71c654cf9bdaeab6b0d6654e2",
            "0e3e6f6239bb4057b8733d3e9503eae9",
            "65e40126ff1d4de987c4466fd03ff07a",
            "18d0d4368a4a4481805479b95fcb79b3",
            "e83479bbbbe640e081d1028d8be26329",
            "4527bc2492a24c768d730b56b71f10f7"
          ]
        },
        "id": "TP_1tQGQx1ST",
        "outputId": "2b858f43-6d87-4dd7-ff58-ab1b410c4e2b"
      },
      "outputs": [
        {
          "name": "stdout",
          "output_type": "stream",
          "text": [
            "\n"
          ]
        },
        {
          "data": {
            "application/vnd.jupyter.widget-view+json": {
              "model_id": "14ecf96c16ea4b1a840d00fb6d62dbe1",
              "version_major": 2,
              "version_minor": 0
            },
            "text/plain": [
              "HTML(value=\"<b><font face='FiraCode Nerd Font' size=4 color='red'>Code (Luke.s)📚<font></b>\", layout=Layout(hei…"
            ]
          },
          "metadata": {},
          "output_type": "display_data"
        },
        {
          "name": "stdout",
          "output_type": "stream",
          "text": [
            "\n"
          ]
        },
        {
          "data": {
            "text/html": [
              "<style>pre { line-height: 125%; }\n",
              "td.linenos .normal { color: inherit; background-color: transparent; padding-left: 5px; padding-right: 5px; }\n",
              "span.linenos { color: inherit; background-color: transparent; padding-left: 5px; padding-right: 5px; }\n",
              "td.linenos .special { color: #000000; background-color: #ffffc0; padding-left: 5px; padding-right: 5px; }\n",
              "span.linenos.special { color: #000000; background-color: #ffffc0; padding-left: 5px; padding-right: 5px; }\n",
              ".output_html .hll { background-color: #ffffcc }\n",
              ".output_html { background: #f8f8f8; }\n",
              ".output_html .c { color: #3D7B7B; font-style: italic } /* Comment */\n",
              ".output_html .err { border: 1px solid #FF0000 } /* Error */\n",
              ".output_html .k { color: #008000; font-weight: bold } /* Keyword */\n",
              ".output_html .o { color: #666666 } /* Operator */\n",
              ".output_html .ch { color: #3D7B7B; font-style: italic } /* Comment.Hashbang */\n",
              ".output_html .cm { color: #3D7B7B; font-style: italic } /* Comment.Multiline */\n",
              ".output_html .cp { color: #9C6500 } /* Comment.Preproc */\n",
              ".output_html .cpf { color: #3D7B7B; font-style: italic } /* Comment.PreprocFile */\n",
              ".output_html .c1 { color: #3D7B7B; font-style: italic } /* Comment.Single */\n",
              ".output_html .cs { color: #3D7B7B; font-style: italic } /* Comment.Special */\n",
              ".output_html .gd { color: #A00000 } /* Generic.Deleted */\n",
              ".output_html .ge { font-style: italic } /* Generic.Emph */\n",
              ".output_html .ges { font-weight: bold; font-style: italic } /* Generic.EmphStrong */\n",
              ".output_html .gr { color: #E40000 } /* Generic.Error */\n",
              ".output_html .gh { color: #000080; font-weight: bold } /* Generic.Heading */\n",
              ".output_html .gi { color: #008400 } /* Generic.Inserted */\n",
              ".output_html .go { color: #717171 } /* Generic.Output */\n",
              ".output_html .gp { color: #000080; font-weight: bold } /* Generic.Prompt */\n",
              ".output_html .gs { font-weight: bold } /* Generic.Strong */\n",
              ".output_html .gu { color: #800080; font-weight: bold } /* Generic.Subheading */\n",
              ".output_html .gt { color: #0044DD } /* Generic.Traceback */\n",
              ".output_html .kc { color: #008000; font-weight: bold } /* Keyword.Constant */\n",
              ".output_html .kd { color: #008000; font-weight: bold } /* Keyword.Declaration */\n",
              ".output_html .kn { color: #008000; font-weight: bold } /* Keyword.Namespace */\n",
              ".output_html .kp { color: #008000 } /* Keyword.Pseudo */\n",
              ".output_html .kr { color: #008000; font-weight: bold } /* Keyword.Reserved */\n",
              ".output_html .kt { color: #B00040 } /* Keyword.Type */\n",
              ".output_html .m { color: #666666 } /* Literal.Number */\n",
              ".output_html .s { color: #BA2121 } /* Literal.String */\n",
              ".output_html .na { color: #687822 } /* Name.Attribute */\n",
              ".output_html .nb { color: #008000 } /* Name.Builtin */\n",
              ".output_html .nc { color: #0000FF; font-weight: bold } /* Name.Class */\n",
              ".output_html .no { color: #880000 } /* Name.Constant */\n",
              ".output_html .nd { color: #AA22FF } /* Name.Decorator */\n",
              ".output_html .ni { color: #717171; font-weight: bold } /* Name.Entity */\n",
              ".output_html .ne { color: #CB3F38; font-weight: bold } /* Name.Exception */\n",
              ".output_html .nf { color: #0000FF } /* Name.Function */\n",
              ".output_html .nl { color: #767600 } /* Name.Label */\n",
              ".output_html .nn { color: #0000FF; font-weight: bold } /* Name.Namespace */\n",
              ".output_html .nt { color: #008000; font-weight: bold } /* Name.Tag */\n",
              ".output_html .nv { color: #19177C } /* Name.Variable */\n",
              ".output_html .ow { color: #AA22FF; font-weight: bold } /* Operator.Word */\n",
              ".output_html .w { color: #bbbbbb } /* Text.Whitespace */\n",
              ".output_html .mb { color: #666666 } /* Literal.Number.Bin */\n",
              ".output_html .mf { color: #666666 } /* Literal.Number.Float */\n",
              ".output_html .mh { color: #666666 } /* Literal.Number.Hex */\n",
              ".output_html .mi { color: #666666 } /* Literal.Number.Integer */\n",
              ".output_html .mo { color: #666666 } /* Literal.Number.Oct */\n",
              ".output_html .sa { color: #BA2121 } /* Literal.String.Affix */\n",
              ".output_html .sb { color: #BA2121 } /* Literal.String.Backtick */\n",
              ".output_html .sc { color: #BA2121 } /* Literal.String.Char */\n",
              ".output_html .dl { color: #BA2121 } /* Literal.String.Delimiter */\n",
              ".output_html .sd { color: #BA2121; font-style: italic } /* Literal.String.Doc */\n",
              ".output_html .s2 { color: #BA2121 } /* Literal.String.Double */\n",
              ".output_html .se { color: #AA5D1F; font-weight: bold } /* Literal.String.Escape */\n",
              ".output_html .sh { color: #BA2121 } /* Literal.String.Heredoc */\n",
              ".output_html .si { color: #A45A77; font-weight: bold } /* Literal.String.Interpol */\n",
              ".output_html .sx { color: #008000 } /* Literal.String.Other */\n",
              ".output_html .sr { color: #A45A77 } /* Literal.String.Regex */\n",
              ".output_html .s1 { color: #BA2121 } /* Literal.String.Single */\n",
              ".output_html .ss { color: #19177C } /* Literal.String.Symbol */\n",
              ".output_html .bp { color: #008000 } /* Name.Builtin.Pseudo */\n",
              ".output_html .fm { color: #0000FF } /* Name.Function.Magic */\n",
              ".output_html .vc { color: #19177C } /* Name.Variable.Class */\n",
              ".output_html .vg { color: #19177C } /* Name.Variable.Global */\n",
              ".output_html .vi { color: #19177C } /* Name.Variable.Instance */\n",
              ".output_html .vm { color: #19177C } /* Name.Variable.Magic */\n",
              ".output_html .il { color: #666666 } /* Literal.Number.Integer.Long */</style><div class=\"highlight\"><pre><span></span><span class=\"k\">def</span> <span class=\"nf\">sigmoid</span><span class=\"p\">(</span><span class=\"n\">z</span><span class=\"p\">):</span>\n",
              "  <span class=\"c1\"># Implement the sigmoid function</span>\n",
              "  <span class=\"n\">s</span> <span class=\"o\">=</span> <span class=\"n\">z</span> <span class=\"c1\"># ...</span>\n",
              "  <span class=\"k\">return</span> <span class=\"n\">s</span>\n",
              "\n",
              "<span class=\"k\">for</span> <span class=\"n\">z</span> <span class=\"ow\">in</span> <span class=\"p\">[</span><span class=\"mi\">1</span><span class=\"p\">,</span> <span class=\"mi\">3</span><span class=\"p\">,</span> <span class=\"mi\">7</span><span class=\"p\">]:</span>\n",
              "  <span class=\"nb\">print</span><span class=\"p\">(</span><span class=\"sa\">f</span><span class=\"s2\">&quot;sigmoid(</span><span class=\"si\">{</span><span class=\"n\">z</span><span class=\"si\">}</span><span class=\"s2\">)=</span><span class=\"si\">{</span><span class=\"n\">sigmoid</span><span class=\"p\">(</span><span class=\"n\">z</span><span class=\"p\">)</span><span class=\"si\">}</span><span class=\"s2\">&quot;</span><span class=\"p\">)</span>\n",
              "</pre></div>\n"
            ],
            "text/latex": [
              "\\begin{Verbatim}[commandchars=\\\\\\{\\}]\n",
              "\\PY{k}{def} \\PY{n+nf}{sigmoid}\\PY{p}{(}\\PY{n}{z}\\PY{p}{)}\\PY{p}{:}\n",
              "  \\PY{c+c1}{\\PYZsh{} Implement the sigmoid function}\n",
              "  \\PY{n}{s} \\PY{o}{=} \\PY{n}{z} \\PY{c+c1}{\\PYZsh{} ...}\n",
              "  \\PY{k}{return} \\PY{n}{s}\n",
              "\n",
              "\\PY{k}{for} \\PY{n}{z} \\PY{o+ow}{in} \\PY{p}{[}\\PY{l+m+mi}{1}\\PY{p}{,} \\PY{l+m+mi}{3}\\PY{p}{,} \\PY{l+m+mi}{7}\\PY{p}{]}\\PY{p}{:}\n",
              "  \\PY{n+nb}{print}\\PY{p}{(}\\PY{l+s+sa}{f}\\PY{l+s+s2}{\\PYZdq{}}\\PY{l+s+s2}{sigmoid(}\\PY{l+s+si}{\\PYZob{}}\\PY{n}{z}\\PY{l+s+si}{\\PYZcb{}}\\PY{l+s+s2}{)=}\\PY{l+s+si}{\\PYZob{}}\\PY{n}{sigmoid}\\PY{p}{(}\\PY{n}{z}\\PY{p}{)}\\PY{l+s+si}{\\PYZcb{}}\\PY{l+s+s2}{\\PYZdq{}}\\PY{p}{)}\n",
              "\\end{Verbatim}\n"
            ],
            "text/plain": [
              "\n",
              "def sigmoid(z):\n",
              "  # Implement the sigmoid function\n",
              "  s = z # ...\n",
              "  return s\n",
              "\n",
              "for z in [1, 3, 7]:\n",
              "  print(f\"sigmoid({z})={sigmoid(z)}\")"
            ]
          },
          "metadata": {},
          "output_type": "display_data"
        },
        {
          "name": "stdout",
          "output_type": "stream",
          "text": [
            "\n"
          ]
        },
        {
          "data": {
            "application/vnd.jupyter.widget-view+json": {
              "model_id": "2bfeebf717c4418f8c83fedc9920c4c2",
              "version_major": 2,
              "version_minor": 0
            },
            "text/plain": [
              "HTML(value=\"<b><font face='FiraCode Nerd Font' size=4 color='red'>Execution (Luke.s)💻<font></b>\", layout=Layou…"
            ]
          },
          "metadata": {},
          "output_type": "display_data"
        },
        {
          "name": "stdout",
          "output_type": "stream",
          "text": [
            "sigmoid(1)=1\n",
            "sigmoid(3)=3\n",
            "sigmoid(7)=7\n"
          ]
        },
        {
          "data": {
            "application/vnd.jupyter.widget-view+json": {
              "model_id": "98f256f8f082459da9fbdc7d91bb8b00",
              "version_major": 2,
              "version_minor": 0
            },
            "text/plain": [
              "HBox(children=(HTML(value=\"<b><font face='FiraCode Nerd Font' size=6 color='#4F4F4F'>Luke.s<font></b>\", layout…"
            ]
          },
          "metadata": {},
          "output_type": "display_data"
        },
        {
          "data": {
            "application/vnd.jupyter.widget-view+json": {
              "model_id": "e83479bbbbe640e081d1028d8be26329",
              "version_major": 2,
              "version_minor": 0
            },
            "text/plain": [
              "Output()"
            ]
          },
          "metadata": {},
          "output_type": "display_data"
        }
      ],
      "source": [
        "bulkhours.admin.evaluate(\"demo_exercice\", user=\"luke.skywalker@jedi.com\")"
      ]
    },
    {
      "cell_type": "markdown",
      "metadata": {
        "id": "7NxwwMMAu9Xt"
      },
      "source": [
        "You also have the possibility to directly evaluate the work of a student.\n",
        "\n",
        ">[💡Documentation: ✏️**`bulkhours.admin.evaluate`**](https://github.com/gtherin/bulkhours/wiki/evaluate)\n"
      ]
    },
    {
      "cell_type": "markdown",
      "metadata": {
        "id": "OBb4Vr4bE0OJ"
      },
      "source": [
        "## Definition of a criterion for automatic correction\n"
      ]
    },
    {
      "cell_type": "markdown",
      "metadata": {
        "id": "W6Fe9ZVUUqg3"
      },
      "source": [
        "Now, we want to have an automatic way of evaluate one student, for several data points. You can dot it like this:\n"
      ]
    },
    {
      "cell_type": "code",
      "execution_count": 6,
      "metadata": {
        "colab": {
          "base_uri": "https://localhost:8080/",
          "height": 315,
          "referenced_widgets": [
            "e35523a8538b44eca4297424971a15f9",
            "587851a7581f4e3d8f1d637cf03f416d",
            "c48efbd5461d4dcc8e8674266bce3c11",
            "3f7a46eb55f64d6a9eb58de74b135a0f",
            "1a169b9031644d0ba01d833d72543c5a",
            "dafb0a8477b840a999529dadf50a383a",
            "f4f51c0de60747c6a0dda41726a18c2d",
            "d9b1412387f1436d8d4314a52919f98f",
            "64c07df3f8484848aba93272e9eb0539",
            "d111344348324ed5aa4c9348d20bbe82",
            "c4f07a3f8eb2445dbb017d82c4ad10b4",
            "46c09079313e455c9a99b108f8813377",
            "abce01320f644565b65ee200222a2652",
            "3340a1f20a4845e18a7398a915dd020d",
            "b9017033c773433f8c53d40c2f58e1ae",
            "c8445d6cb7b54811a0be56e807480da0",
            "9d677cd39ee34725ac9e1a829613d03b",
            "dd7e476d3f64436aa5784effe189b6f2",
            "fd2dc6b7ac29467a963f10ec43c963e5"
          ]
        },
        "id": "83iMiWRuTWJk",
        "outputId": "55bad54f-ba09-44b0-9d5f-4b4e92f076dc"
      },
      "outputs": [
        {
          "data": {
            "application/vnd.jupyter.widget-view+json": {
              "model_id": "e35523a8538b44eca4297424971a15f9",
              "version_major": 2,
              "version_minor": 0
            },
            "text/plain": [
              "HBox(children=(Button(button_style='primary', description='Envoyer au correcteur', layout=Layout(width='150px'…"
            ]
          },
          "metadata": {},
          "output_type": "display_data"
        },
        {
          "data": {
            "application/vnd.jupyter.widget-view+json": {
              "model_id": "b9017033c773433f8c53d40c2f58e1ae",
              "version_major": 2,
              "version_minor": 0
            },
            "text/plain": [
              "Output()"
            ]
          },
          "metadata": {},
          "output_type": "display_data"
        }
      ],
      "source": [
        "%%evaluation_cell_id -i demo_exercice\n",
        "import numpy as np\n",
        "\n",
        "def sigmoid(z):\n",
        "  s = 1 / (1 + np.exp(-z))\n",
        "  return s\n",
        "\n",
        "for z in [1, 3, 7]:\n",
        "  print(f\"sigmoid({z})={sigmoid(z)}\")\n",
        "\n",
        "def student_evaluation_function():\n",
        "    score = 0\n",
        "    score += bulkhours.is_equal(student.sigmoid(np.array([1, 3, 7])), max_score=5)\n",
        "    score += 2.5 * (student.sigmoid(3) == teacher.sigmoid(3))\n",
        "    score += bulkhours.is_equal(student.sigmoid(4), teacher.sigmoid(4), max_score=2.5)\n",
        "    return score"
      ]
    },
    {
      "cell_type": "markdown",
      "metadata": {
        "id": "ljm0Y0bD4dn3"
      },
      "source": [
        "\n",
        "Executing the previous cell, **as a teacher, you have 4 available buttons:**\n",
        "* One to submit the cell content as an answer (student mode),\n",
        "* Another one to get the solution when it is available (student mode),\n",
        "* One to publush the current cell as the answer (student_evaluation_function is ignored) (teacher mode),\n",
        "* Another to evaluate all students who have submitted answers (teacher mode).\n",
        "\n",
        "**Methods used:**\n",
        "* `student_evaluation_function`\n",
        "> When found in a cell, the `student_evaluation_function` is used to perform the automatic evaluation. It returns the student's 'score'.\n",
        ">\n",
        ">[💡Documentation: ❓**`student_evaluation_function`**](https://github.com/gtherin/bulkhours/wiki/student_evaluation_function)\n",
        "\n",
        "\n",
        "* `bulkhours.is_equal`\n",
        "> This method compares the students results data with reference data (by default, the teacher's data).\n",
        ">\n",
        ">[💡Documentation: 💻**`bulkhours.is_equal`**](https://github.com/gtherin/bulkhours/wiki/is_equal)\n"
      ]
    }
  ],
  "metadata": {
    "colab": {
      "provenance": [],
      "toc_visible": true
    },
    "gpuClass": "standard",
    "kernelspec": {
      "display_name": "bulkhours_py3.10",
      "language": "python",
      "name": "bulkhours_py3.10"
    },
    "language_info": {
      "name": "python",
      "version": "3.10.9"
    },
    "widgets": {
      "application/vnd.jupyter.widget-state+json": {
        "0e3e6f6239bb4057b8733d3e9503eae9": {
          "model_module": "@jupyter-widgets/controls",
          "model_module_version": "1.5.0",
          "model_name": "SliderStyleModel",
          "state": {
            "_model_module": "@jupyter-widgets/controls",
            "_model_module_version": "1.5.0",
            "_model_name": "SliderStyleModel",
            "_view_count": null,
            "_view_module": "@jupyter-widgets/base",
            "_view_module_version": "1.2.0",
            "_view_name": "StyleView",
            "description_width": "",
            "handle_color": "lightblue"
          }
        },
        "12886473f4034532b79f4bdf2d61dd13": {
          "model_module": "@jupyter-widgets/base",
          "model_module_version": "1.2.0",
          "model_name": "LayoutModel",
          "state": {
            "_model_module": "@jupyter-widgets/base",
            "_model_module_version": "1.2.0",
            "_model_name": "LayoutModel",
            "_view_count": null,
            "_view_module": "@jupyter-widgets/base",
            "_view_module_version": "1.2.0",
            "_view_name": "LayoutView",
            "align_content": null,
            "align_items": null,
            "align_self": null,
            "border": null,
            "bottom": null,
            "display": null,
            "flex": null,
            "flex_flow": null,
            "grid_area": null,
            "grid_auto_columns": null,
            "grid_auto_flow": null,
            "grid_auto_rows": null,
            "grid_column": null,
            "grid_gap": null,
            "grid_row": null,
            "grid_template_areas": null,
            "grid_template_columns": null,
            "grid_template_rows": null,
            "height": null,
            "justify_content": null,
            "justify_items": null,
            "left": null,
            "margin": null,
            "max_height": null,
            "max_width": null,
            "min_height": null,
            "min_width": null,
            "object_fit": null,
            "object_position": null,
            "order": null,
            "overflow": null,
            "overflow_x": null,
            "overflow_y": null,
            "padding": null,
            "right": null,
            "top": null,
            "visibility": null,
            "width": "150px"
          }
        },
        "14ecf96c16ea4b1a840d00fb6d62dbe1": {
          "model_module": "@jupyter-widgets/controls",
          "model_module_version": "1.5.0",
          "model_name": "HTMLModel",
          "state": {
            "_dom_classes": [],
            "_model_module": "@jupyter-widgets/controls",
            "_model_module_version": "1.5.0",
            "_model_name": "HTMLModel",
            "_view_count": null,
            "_view_module": "@jupyter-widgets/controls",
            "_view_module_version": "1.5.0",
            "_view_name": "HTMLView",
            "description": "",
            "description_tooltip": null,
            "layout": "IPY_MODEL_fb5b4018203845d7ba44bfbd824a445e",
            "placeholder": "​",
            "style": "IPY_MODEL_d1dba479a8ef4e8aaa2c615907929187",
            "value": "<b><font face='FiraCode Nerd Font' size=4 color='red'>Code (Luke.s)📚<font></b>"
          }
        },
        "18d0d4368a4a4481805479b95fcb79b3": {
          "model_module": "@jupyter-widgets/controls",
          "model_module_version": "1.5.0",
          "model_name": "ButtonStyleModel",
          "state": {
            "_model_module": "@jupyter-widgets/controls",
            "_model_module_version": "1.5.0",
            "_model_name": "ButtonStyleModel",
            "_view_count": null,
            "_view_module": "@jupyter-widgets/base",
            "_view_module_version": "1.2.0",
            "_view_name": "StyleView",
            "button_color": null,
            "font_weight": ""
          }
        },
        "1a169b9031644d0ba01d833d72543c5a": {
          "model_module": "@jupyter-widgets/controls",
          "model_module_version": "1.5.0",
          "model_name": "ButtonModel",
          "state": {
            "_dom_classes": [],
            "_model_module": "@jupyter-widgets/controls",
            "_model_module_version": "1.5.0",
            "_model_name": "ButtonModel",
            "_view_count": null,
            "_view_module": "@jupyter-widgets/controls",
            "_view_module_version": "1.5.0",
            "_view_name": "ButtonView",
            "button_style": "danger",
            "description": "Corriger les étudiants ",
            "disabled": false,
            "icon": "",
            "layout": "IPY_MODEL_abce01320f644565b65ee200222a2652",
            "style": "IPY_MODEL_3340a1f20a4845e18a7398a915dd020d",
            "tooltip": "⚠️Seulement disponible à l'évaluateur⚠️.\nUtilise le code de la fonction 'student_evaluation_function' pour évaluer tous les étudiants de la classe virtuelle.\n"
          }
        },
        "25069c1af37344b09497c834f976f91f": {
          "model_module": "@jupyter-widgets/base",
          "model_module_version": "1.2.0",
          "model_name": "LayoutModel",
          "state": {
            "_model_module": "@jupyter-widgets/base",
            "_model_module_version": "1.2.0",
            "_model_name": "LayoutModel",
            "_view_count": null,
            "_view_module": "@jupyter-widgets/base",
            "_view_module_version": "1.2.0",
            "_view_name": "LayoutView",
            "align_content": null,
            "align_items": null,
            "align_self": null,
            "border": null,
            "bottom": null,
            "display": null,
            "flex": null,
            "flex_flow": null,
            "grid_area": null,
            "grid_auto_columns": null,
            "grid_auto_flow": null,
            "grid_auto_rows": null,
            "grid_column": null,
            "grid_gap": null,
            "grid_row": null,
            "grid_template_areas": null,
            "grid_template_columns": null,
            "grid_template_rows": null,
            "height": null,
            "justify_content": null,
            "justify_items": null,
            "left": null,
            "margin": null,
            "max_height": null,
            "max_width": null,
            "min_height": null,
            "min_width": null,
            "object_fit": null,
            "object_position": null,
            "order": null,
            "overflow": null,
            "overflow_x": null,
            "overflow_y": null,
            "padding": null,
            "right": null,
            "top": null,
            "visibility": null,
            "width": null
          }
        },
        "2bfeebf717c4418f8c83fedc9920c4c2": {
          "model_module": "@jupyter-widgets/controls",
          "model_module_version": "1.5.0",
          "model_name": "HTMLModel",
          "state": {
            "_dom_classes": [],
            "_model_module": "@jupyter-widgets/controls",
            "_model_module_version": "1.5.0",
            "_model_name": "HTMLModel",
            "_view_count": null,
            "_view_module": "@jupyter-widgets/controls",
            "_view_module_version": "1.5.0",
            "_view_name": "HTMLView",
            "description": "",
            "description_tooltip": null,
            "layout": "IPY_MODEL_55ff8890effb4cdc8a638e00b7d54872",
            "placeholder": "​",
            "style": "IPY_MODEL_76a409f13d41412d9ba0d22cdd0ecf65",
            "value": "<b><font face='FiraCode Nerd Font' size=4 color='red'>Execution (Luke.s)💻<font></b>"
          }
        },
        "32ccfff71c654cf9bdaeab6b0d6654e2": {
          "model_module": "@jupyter-widgets/base",
          "model_module_version": "1.2.0",
          "model_name": "LayoutModel",
          "state": {
            "_model_module": "@jupyter-widgets/base",
            "_model_module_version": "1.2.0",
            "_model_name": "LayoutModel",
            "_view_count": null,
            "_view_module": "@jupyter-widgets/base",
            "_view_module_version": "1.2.0",
            "_view_name": "LayoutView",
            "align_content": null,
            "align_items": null,
            "align_self": null,
            "border": null,
            "bottom": null,
            "display": null,
            "flex": null,
            "flex_flow": null,
            "grid_area": null,
            "grid_auto_columns": null,
            "grid_auto_flow": null,
            "grid_auto_rows": null,
            "grid_column": null,
            "grid_gap": null,
            "grid_row": null,
            "grid_template_areas": null,
            "grid_template_columns": null,
            "grid_template_rows": null,
            "height": null,
            "justify_content": null,
            "justify_items": null,
            "left": null,
            "margin": null,
            "max_height": null,
            "max_width": null,
            "min_height": null,
            "min_width": null,
            "object_fit": null,
            "object_position": null,
            "order": null,
            "overflow": null,
            "overflow_x": null,
            "overflow_y": null,
            "padding": null,
            "right": null,
            "top": null,
            "visibility": null,
            "width": null
          }
        },
        "3340a1f20a4845e18a7398a915dd020d": {
          "model_module": "@jupyter-widgets/controls",
          "model_module_version": "1.5.0",
          "model_name": "ButtonStyleModel",
          "state": {
            "_model_module": "@jupyter-widgets/controls",
            "_model_module_version": "1.5.0",
            "_model_name": "ButtonStyleModel",
            "_view_count": null,
            "_view_module": "@jupyter-widgets/base",
            "_view_module_version": "1.2.0",
            "_view_name": "StyleView",
            "button_color": null,
            "font_weight": ""
          }
        },
        "372d4a2d9c744089a3846eb8a8b4d8d9": {
          "model_module": "@jupyter-widgets/base",
          "model_module_version": "1.2.0",
          "model_name": "LayoutModel",
          "state": {
            "_model_module": "@jupyter-widgets/base",
            "_model_module_version": "1.2.0",
            "_model_name": "LayoutModel",
            "_view_count": null,
            "_view_module": "@jupyter-widgets/base",
            "_view_module_version": "1.2.0",
            "_view_name": "LayoutView",
            "align_content": null,
            "align_items": null,
            "align_self": null,
            "border": null,
            "bottom": null,
            "display": null,
            "flex": null,
            "flex_flow": null,
            "grid_area": null,
            "grid_auto_columns": null,
            "grid_auto_flow": null,
            "grid_auto_rows": null,
            "grid_column": null,
            "grid_gap": null,
            "grid_row": null,
            "grid_template_areas": null,
            "grid_template_columns": null,
            "grid_template_rows": null,
            "height": "auto",
            "justify_content": null,
            "justify_items": null,
            "left": null,
            "margin": null,
            "max_height": null,
            "max_width": null,
            "min_height": null,
            "min_width": null,
            "object_fit": null,
            "object_position": null,
            "order": null,
            "overflow": null,
            "overflow_x": null,
            "overflow_y": null,
            "padding": null,
            "right": null,
            "top": null,
            "visibility": null,
            "width": "auto"
          }
        },
        "3f7a46eb55f64d6a9eb58de74b135a0f": {
          "model_module": "@jupyter-widgets/controls",
          "model_module_version": "1.5.0",
          "model_name": "ButtonModel",
          "state": {
            "_dom_classes": [],
            "_model_module": "@jupyter-widgets/controls",
            "_model_module_version": "1.5.0",
            "_model_name": "ButtonModel",
            "_view_count": null,
            "_view_module": "@jupyter-widgets/controls",
            "_view_module_version": "1.5.0",
            "_view_name": "ButtonView",
            "button_style": "warning",
            "description": "Publier la solution ",
            "disabled": false,
            "icon": "",
            "layout": "IPY_MODEL_c4f07a3f8eb2445dbb017d82c4ad10b4",
            "style": "IPY_MODEL_46c09079313e455c9a99b108f8813377",
            "tooltip": "⚠️Seulement disponible à l'évaluateur⚠️.\nEnvoi de la réponse (contenu de la cellule actuelle) comme solution officielle.\nSi la fonction 'student_evaluation_function' est diponible, elle pourra être utilisée pour évaluer les étudiants.\n"
          }
        },
        "4527bc2492a24c768d730b56b71f10f7": {
          "model_module": "@jupyter-widgets/base",
          "model_module_version": "1.2.0",
          "model_name": "LayoutModel",
          "state": {
            "_model_module": "@jupyter-widgets/base",
            "_model_module_version": "1.2.0",
            "_model_name": "LayoutModel",
            "_view_count": null,
            "_view_module": "@jupyter-widgets/base",
            "_view_module_version": "1.2.0",
            "_view_name": "LayoutView",
            "align_content": null,
            "align_items": null,
            "align_self": null,
            "border": null,
            "bottom": null,
            "display": null,
            "flex": null,
            "flex_flow": null,
            "grid_area": null,
            "grid_auto_columns": null,
            "grid_auto_flow": null,
            "grid_auto_rows": null,
            "grid_column": null,
            "grid_gap": null,
            "grid_row": null,
            "grid_template_areas": null,
            "grid_template_columns": null,
            "grid_template_rows": null,
            "height": null,
            "justify_content": null,
            "justify_items": null,
            "left": null,
            "margin": null,
            "max_height": null,
            "max_width": null,
            "min_height": null,
            "min_width": null,
            "object_fit": null,
            "object_position": null,
            "order": null,
            "overflow": null,
            "overflow_x": null,
            "overflow_y": null,
            "padding": null,
            "right": null,
            "top": null,
            "visibility": null,
            "width": null
          }
        },
        "46c09079313e455c9a99b108f8813377": {
          "model_module": "@jupyter-widgets/controls",
          "model_module_version": "1.5.0",
          "model_name": "ButtonStyleModel",
          "state": {
            "_model_module": "@jupyter-widgets/controls",
            "_model_module_version": "1.5.0",
            "_model_name": "ButtonStyleModel",
            "_view_count": null,
            "_view_module": "@jupyter-widgets/base",
            "_view_module_version": "1.2.0",
            "_view_name": "StyleView",
            "button_color": null,
            "font_weight": ""
          }
        },
        "544b7eb4157443c5b6aeae99496efd28": {
          "model_module": "@jupyter-widgets/controls",
          "model_module_version": "1.5.0",
          "model_name": "FloatSliderModel",
          "state": {
            "_dom_classes": [],
            "_model_module": "@jupyter-widgets/controls",
            "_model_module_version": "1.5.0",
            "_model_name": "FloatSliderModel",
            "_view_count": null,
            "_view_module": "@jupyter-widgets/controls",
            "_view_module_version": "1.5.0",
            "_view_name": "FloatSliderView",
            "continuous_update": true,
            "description": "",
            "description_tooltip": null,
            "disabled": false,
            "layout": "IPY_MODEL_32ccfff71c654cf9bdaeab6b0d6654e2",
            "max": 10,
            "min": 0,
            "orientation": "horizontal",
            "readout": true,
            "readout_format": ".1f",
            "step": 0.5,
            "style": "IPY_MODEL_0e3e6f6239bb4057b8733d3e9503eae9",
            "value": 0
          }
        },
        "55ff8890effb4cdc8a638e00b7d54872": {
          "model_module": "@jupyter-widgets/base",
          "model_module_version": "1.2.0",
          "model_name": "LayoutModel",
          "state": {
            "_model_module": "@jupyter-widgets/base",
            "_model_module_version": "1.2.0",
            "_model_name": "LayoutModel",
            "_view_count": null,
            "_view_module": "@jupyter-widgets/base",
            "_view_module_version": "1.2.0",
            "_view_name": "LayoutView",
            "align_content": null,
            "align_items": null,
            "align_self": null,
            "border": null,
            "bottom": null,
            "display": null,
            "flex": null,
            "flex_flow": null,
            "grid_area": null,
            "grid_auto_columns": null,
            "grid_auto_flow": null,
            "grid_auto_rows": null,
            "grid_column": null,
            "grid_gap": null,
            "grid_row": null,
            "grid_template_areas": null,
            "grid_template_columns": null,
            "grid_template_rows": null,
            "height": "auto",
            "justify_content": null,
            "justify_items": null,
            "left": null,
            "margin": null,
            "max_height": null,
            "max_width": null,
            "min_height": null,
            "min_width": null,
            "object_fit": null,
            "object_position": null,
            "order": null,
            "overflow": null,
            "overflow_x": null,
            "overflow_y": null,
            "padding": null,
            "right": null,
            "top": null,
            "visibility": null,
            "width": "auto"
          }
        },
        "587851a7581f4e3d8f1d637cf03f416d": {
          "model_module": "@jupyter-widgets/controls",
          "model_module_version": "1.5.0",
          "model_name": "ButtonModel",
          "state": {
            "_dom_classes": [],
            "_model_module": "@jupyter-widgets/controls",
            "_model_module_version": "1.5.0",
            "_model_name": "ButtonModel",
            "_view_count": null,
            "_view_module": "@jupyter-widgets/controls",
            "_view_module_version": "1.5.0",
            "_view_name": "ButtonView",
            "button_style": "primary",
            "description": "Envoyer au correcteur",
            "disabled": false,
            "icon": "",
            "layout": "IPY_MODEL_f4f51c0de60747c6a0dda41726a18c2d",
            "style": "IPY_MODEL_d9b1412387f1436d8d4314a52919f98f",
            "tooltip": "Envoi de la réponse (contenu de la cellule actuelle) au correcteur.\nLa réponse pourra être utilisée pour évaluation\n"
          }
        },
        "59a20c7669134fc59de2d017a079f794": {
          "model_module": "@jupyter-widgets/controls",
          "model_module_version": "1.5.0",
          "model_name": "ButtonModel",
          "state": {
            "_dom_classes": [],
            "_model_module": "@jupyter-widgets/controls",
            "_model_module_version": "1.5.0",
            "_model_name": "ButtonModel",
            "_view_count": null,
            "_view_module": "@jupyter-widgets/controls",
            "_view_module_version": "1.5.0",
            "_view_name": "ButtonView",
            "button_style": "primary",
            "description": "Envoyer au correcteur",
            "disabled": false,
            "icon": "",
            "layout": "IPY_MODEL_12886473f4034532b79f4bdf2d61dd13",
            "style": "IPY_MODEL_66746a63c5b947d28e14e5e06a82b4d6",
            "tooltip": "Envoi de la réponse (contenu de la cellule actuelle) au correcteur.\nLa réponse pourra être utilisée pour évaluation\n"
          }
        },
        "64c07df3f8484848aba93272e9eb0539": {
          "model_module": "@jupyter-widgets/base",
          "model_module_version": "1.2.0",
          "model_name": "LayoutModel",
          "state": {
            "_model_module": "@jupyter-widgets/base",
            "_model_module_version": "1.2.0",
            "_model_name": "LayoutModel",
            "_view_count": null,
            "_view_module": "@jupyter-widgets/base",
            "_view_module_version": "1.2.0",
            "_view_name": "LayoutView",
            "align_content": null,
            "align_items": null,
            "align_self": null,
            "border": null,
            "bottom": null,
            "display": null,
            "flex": null,
            "flex_flow": null,
            "grid_area": null,
            "grid_auto_columns": null,
            "grid_auto_flow": null,
            "grid_auto_rows": null,
            "grid_column": null,
            "grid_gap": null,
            "grid_row": null,
            "grid_template_areas": null,
            "grid_template_columns": null,
            "grid_template_rows": null,
            "height": null,
            "justify_content": null,
            "justify_items": null,
            "left": null,
            "margin": null,
            "max_height": null,
            "max_width": null,
            "min_height": null,
            "min_width": null,
            "object_fit": null,
            "object_position": null,
            "order": null,
            "overflow": null,
            "overflow_x": null,
            "overflow_y": null,
            "padding": null,
            "right": null,
            "top": null,
            "visibility": null,
            "width": "150px"
          }
        },
        "65dc70c66a084b17b7b7f4103a96e572": {
          "model_module": "@jupyter-widgets/controls",
          "model_module_version": "1.5.0",
          "model_name": "ButtonModel",
          "state": {
            "_dom_classes": [],
            "_model_module": "@jupyter-widgets/controls",
            "_model_module_version": "1.5.0",
            "_model_name": "ButtonModel",
            "_view_count": null,
            "_view_module": "@jupyter-widgets/controls",
            "_view_module_version": "1.5.0",
            "_view_name": "ButtonView",
            "button_style": "info",
            "description": "Sauvegarder la note",
            "disabled": false,
            "icon": "",
            "layout": "IPY_MODEL_65e40126ff1d4de987c4466fd03ff07a",
            "style": "IPY_MODEL_18d0d4368a4a4481805479b95fcb79b3",
            "tooltip": "Sauvegarder la note"
          }
        },
        "65e40126ff1d4de987c4466fd03ff07a": {
          "model_module": "@jupyter-widgets/base",
          "model_module_version": "1.2.0",
          "model_name": "LayoutModel",
          "state": {
            "_model_module": "@jupyter-widgets/base",
            "_model_module_version": "1.2.0",
            "_model_name": "LayoutModel",
            "_view_count": null,
            "_view_module": "@jupyter-widgets/base",
            "_view_module_version": "1.2.0",
            "_view_name": "LayoutView",
            "align_content": null,
            "align_items": null,
            "align_self": null,
            "border": null,
            "bottom": null,
            "display": null,
            "flex": null,
            "flex_flow": null,
            "grid_area": null,
            "grid_auto_columns": null,
            "grid_auto_flow": null,
            "grid_auto_rows": null,
            "grid_column": null,
            "grid_gap": null,
            "grid_row": null,
            "grid_template_areas": null,
            "grid_template_columns": null,
            "grid_template_rows": null,
            "height": null,
            "justify_content": null,
            "justify_items": null,
            "left": null,
            "margin": null,
            "max_height": null,
            "max_width": null,
            "min_height": null,
            "min_width": null,
            "object_fit": null,
            "object_position": null,
            "order": null,
            "overflow": null,
            "overflow_x": null,
            "overflow_y": null,
            "padding": null,
            "right": null,
            "top": null,
            "visibility": null,
            "width": "150px"
          }
        },
        "66746a63c5b947d28e14e5e06a82b4d6": {
          "model_module": "@jupyter-widgets/controls",
          "model_module_version": "1.5.0",
          "model_name": "ButtonStyleModel",
          "state": {
            "_model_module": "@jupyter-widgets/controls",
            "_model_module_version": "1.5.0",
            "_model_name": "ButtonStyleModel",
            "_view_count": null,
            "_view_module": "@jupyter-widgets/base",
            "_view_module_version": "1.2.0",
            "_view_name": "StyleView",
            "button_color": null,
            "font_weight": ""
          }
        },
        "6ae3f157399d4a31bb62dd6fa13b7a37": {
          "model_module": "@jupyter-widgets/base",
          "model_module_version": "1.2.0",
          "model_name": "LayoutModel",
          "state": {
            "_model_module": "@jupyter-widgets/base",
            "_model_module_version": "1.2.0",
            "_model_name": "LayoutModel",
            "_view_count": null,
            "_view_module": "@jupyter-widgets/base",
            "_view_module_version": "1.2.0",
            "_view_name": "LayoutView",
            "align_content": null,
            "align_items": null,
            "align_self": null,
            "border": null,
            "bottom": null,
            "display": null,
            "flex": null,
            "flex_flow": null,
            "grid_area": null,
            "grid_auto_columns": null,
            "grid_auto_flow": null,
            "grid_auto_rows": null,
            "grid_column": null,
            "grid_gap": null,
            "grid_row": null,
            "grid_template_areas": null,
            "grid_template_columns": null,
            "grid_template_rows": null,
            "height": null,
            "justify_content": null,
            "justify_items": null,
            "left": null,
            "margin": null,
            "max_height": null,
            "max_width": null,
            "min_height": null,
            "min_width": null,
            "object_fit": null,
            "object_position": null,
            "order": null,
            "overflow": null,
            "overflow_x": null,
            "overflow_y": null,
            "padding": null,
            "right": null,
            "top": null,
            "visibility": null,
            "width": null
          }
        },
        "76a409f13d41412d9ba0d22cdd0ecf65": {
          "model_module": "@jupyter-widgets/controls",
          "model_module_version": "1.5.0",
          "model_name": "DescriptionStyleModel",
          "state": {
            "_model_module": "@jupyter-widgets/controls",
            "_model_module_version": "1.5.0",
            "_model_name": "DescriptionStyleModel",
            "_view_count": null,
            "_view_module": "@jupyter-widgets/base",
            "_view_module_version": "1.2.0",
            "_view_name": "StyleView",
            "description_width": ""
          }
        },
        "842b8b0309de45999a1f1160a187fa02": {
          "model_module": "@jupyter-widgets/controls",
          "model_module_version": "1.5.0",
          "model_name": "HBoxModel",
          "state": {
            "_dom_classes": [],
            "_model_module": "@jupyter-widgets/controls",
            "_model_module_version": "1.5.0",
            "_model_name": "HBoxModel",
            "_view_count": null,
            "_view_module": "@jupyter-widgets/controls",
            "_view_module_version": "1.5.0",
            "_view_name": "HBoxView",
            "box_style": "",
            "children": [
              "IPY_MODEL_59a20c7669134fc59de2d017a079f794",
              "IPY_MODEL_f971f0f4e6f0462283b6165112e2e476"
            ],
            "layout": "IPY_MODEL_25069c1af37344b09497c834f976f91f"
          }
        },
        "98f256f8f082459da9fbdc7d91bb8b00": {
          "model_module": "@jupyter-widgets/controls",
          "model_module_version": "1.5.0",
          "model_name": "HBoxModel",
          "state": {
            "_dom_classes": [],
            "_model_module": "@jupyter-widgets/controls",
            "_model_module_version": "1.5.0",
            "_model_name": "HBoxModel",
            "_view_count": null,
            "_view_module": "@jupyter-widgets/controls",
            "_view_module_version": "1.5.0",
            "_view_name": "HBoxView",
            "box_style": "",
            "children": [
              "IPY_MODEL_e52eb96ceca349989f0ab073a0ba81c3",
              "IPY_MODEL_544b7eb4157443c5b6aeae99496efd28",
              "IPY_MODEL_65dc70c66a084b17b7b7f4103a96e572"
            ],
            "layout": "IPY_MODEL_9a3ff73e826945a2b5d798a03ef32fe7"
          }
        },
        "9a3ff73e826945a2b5d798a03ef32fe7": {
          "model_module": "@jupyter-widgets/base",
          "model_module_version": "1.2.0",
          "model_name": "LayoutModel",
          "state": {
            "_model_module": "@jupyter-widgets/base",
            "_model_module_version": "1.2.0",
            "_model_name": "LayoutModel",
            "_view_count": null,
            "_view_module": "@jupyter-widgets/base",
            "_view_module_version": "1.2.0",
            "_view_name": "LayoutView",
            "align_content": null,
            "align_items": null,
            "align_self": null,
            "border": null,
            "bottom": null,
            "display": null,
            "flex": null,
            "flex_flow": null,
            "grid_area": null,
            "grid_auto_columns": null,
            "grid_auto_flow": null,
            "grid_auto_rows": null,
            "grid_column": null,
            "grid_gap": null,
            "grid_row": null,
            "grid_template_areas": null,
            "grid_template_columns": null,
            "grid_template_rows": null,
            "height": null,
            "justify_content": null,
            "justify_items": null,
            "left": null,
            "margin": null,
            "max_height": null,
            "max_width": null,
            "min_height": null,
            "min_width": null,
            "object_fit": null,
            "object_position": null,
            "order": null,
            "overflow": null,
            "overflow_x": null,
            "overflow_y": null,
            "padding": null,
            "right": null,
            "top": null,
            "visibility": null,
            "width": null
          }
        },
        "9d677cd39ee34725ac9e1a829613d03b": {
          "model_module": "@jupyter-widgets/controls",
          "model_module_version": "1.5.0",
          "model_name": "HTMLModel",
          "state": {
            "_dom_classes": [],
            "_model_module": "@jupyter-widgets/controls",
            "_model_module_version": "1.5.0",
            "_model_name": "HTMLModel",
            "_view_count": null,
            "_view_module": "@jupyter-widgets/controls",
            "_view_module_version": "1.5.0",
            "_view_name": "HTMLView",
            "description": "",
            "description_tooltip": null,
            "layout": "IPY_MODEL_dd7e476d3f64436aa5784effe189b6f2",
            "placeholder": "​",
            "style": "IPY_MODEL_fd2dc6b7ac29467a963f10ec43c963e5",
            "value": "<style>\n            .sol_background {background-color:#f7d1d1}\n            .cell_background {background-color:#F7F7F7}\n            .cell_border {background-color:#CFCFCF}\n\nbuttonb {\n   border: none;\n   color: red;\n   font-weight: bolder;\n   padding: 20px;\n   font-size: 18px;\n   cursor: pointer;\n   border-radius: 6px;\n}\n.button3 {background-color:#eaeaea}\n.button1 {background-color:#eaeaea ; color:red ; font-size:100% ; border: 1px solid #eaeaea}\n.button2 {background-color:#eaeaea ; color:red}\n        </style>\n    "
          }
        },
        "a842b83a4cd5481bb91e3d8ac2c9980a": {
          "model_module": "@jupyter-widgets/base",
          "model_module_version": "1.2.0",
          "model_name": "LayoutModel",
          "state": {
            "_model_module": "@jupyter-widgets/base",
            "_model_module_version": "1.2.0",
            "_model_name": "LayoutModel",
            "_view_count": null,
            "_view_module": "@jupyter-widgets/base",
            "_view_module_version": "1.2.0",
            "_view_name": "LayoutView",
            "align_content": null,
            "align_items": null,
            "align_self": null,
            "border": null,
            "bottom": null,
            "display": null,
            "flex": null,
            "flex_flow": null,
            "grid_area": null,
            "grid_auto_columns": null,
            "grid_auto_flow": null,
            "grid_auto_rows": null,
            "grid_column": null,
            "grid_gap": null,
            "grid_row": null,
            "grid_template_areas": null,
            "grid_template_columns": null,
            "grid_template_rows": null,
            "height": null,
            "justify_content": null,
            "justify_items": null,
            "left": null,
            "margin": null,
            "max_height": null,
            "max_width": null,
            "min_height": null,
            "min_width": null,
            "object_fit": null,
            "object_position": null,
            "order": null,
            "overflow": null,
            "overflow_x": null,
            "overflow_y": null,
            "padding": null,
            "right": null,
            "top": null,
            "visibility": null,
            "width": "150px"
          }
        },
        "a9a89c129fb74651a310a4f4a9ebfbb9": {
          "model_module": "@jupyter-widgets/controls",
          "model_module_version": "1.5.0",
          "model_name": "DescriptionStyleModel",
          "state": {
            "_model_module": "@jupyter-widgets/controls",
            "_model_module_version": "1.5.0",
            "_model_name": "DescriptionStyleModel",
            "_view_count": null,
            "_view_module": "@jupyter-widgets/base",
            "_view_module_version": "1.2.0",
            "_view_name": "StyleView",
            "description_width": ""
          }
        },
        "abce01320f644565b65ee200222a2652": {
          "model_module": "@jupyter-widgets/base",
          "model_module_version": "1.2.0",
          "model_name": "LayoutModel",
          "state": {
            "_model_module": "@jupyter-widgets/base",
            "_model_module_version": "1.2.0",
            "_model_name": "LayoutModel",
            "_view_count": null,
            "_view_module": "@jupyter-widgets/base",
            "_view_module_version": "1.2.0",
            "_view_name": "LayoutView",
            "align_content": null,
            "align_items": null,
            "align_self": null,
            "border": null,
            "bottom": null,
            "display": null,
            "flex": null,
            "flex_flow": null,
            "grid_area": null,
            "grid_auto_columns": null,
            "grid_auto_flow": null,
            "grid_auto_rows": null,
            "grid_column": null,
            "grid_gap": null,
            "grid_row": null,
            "grid_template_areas": null,
            "grid_template_columns": null,
            "grid_template_rows": null,
            "height": null,
            "justify_content": null,
            "justify_items": null,
            "left": null,
            "margin": null,
            "max_height": null,
            "max_width": null,
            "min_height": null,
            "min_width": null,
            "object_fit": null,
            "object_position": null,
            "order": null,
            "overflow": null,
            "overflow_x": null,
            "overflow_y": null,
            "padding": null,
            "right": null,
            "top": null,
            "visibility": null,
            "width": "150px"
          }
        },
        "b9017033c773433f8c53d40c2f58e1ae": {
          "model_module": "@jupyter-widgets/output",
          "model_module_version": "1.0.0",
          "model_name": "OutputModel",
          "state": {
            "_dom_classes": [
              "<style>\n            .sol_background {background-color:#f7d1d1}\n            .cell_background {background-color:#F7F7F7}\n            .cell_border {background-color:#CFCFCF}\n\nbuttonb {\n   border: none;\n   color: red;\n   font-weight: bolder;\n   padding: 20px;\n   font-size: 18px;\n   cursor: pointer;\n   border-radius: 6px;\n}\n.button3 {background-color:#eaeaea}\n.button1 {background-color:#eaeaea ; color:red ; font-size:100% ; border: 1px solid #eaeaea}\n.button2 {background-color:#eaeaea ; color:red}\n        </style>\n    "
            ],
            "_model_module": "@jupyter-widgets/output",
            "_model_module_version": "1.0.0",
            "_model_name": "OutputModel",
            "_view_count": null,
            "_view_module": "@jupyter-widgets/output",
            "_view_module_version": "1.0.0",
            "_view_name": "OutputView",
            "layout": "IPY_MODEL_c8445d6cb7b54811a0be56e807480da0",
            "msg_id": "",
            "outputs": [
              {
                "data": {
                  "application/vnd.jupyter.widget-view+json": {
                    "model_id": "9d677cd39ee34725ac9e1a829613d03b",
                    "version_major": 2,
                    "version_minor": 0
                  },
                  "text/plain": "HTML(value='<style>\\n            .sol_background {background-color:#f7d1d1}\\n            .cell_background {bac…"
                },
                "metadata": {},
                "output_type": "display_data"
              },
              {
                "name": "stdout",
                "output_type": "stream",
                "text": [
                  "\u001b[35m\u001b[1mPour my_first_exercice/luke.skywalker@jedi.com, mise à jour de la note de 0.0 à 0.0 (2023-08-14 10:03:58)\u001b[m"
                ]
              },
              {
                "name": "stdout",
                "output_type": "stream",
                "text": [
                  "\n"
                ]
              },
              {
                "name": "stdout",
                "output_type": "stream",
                "text": [
                  "\u001b[35m\u001b[1mPour my_first_exercice/solution, mise à jour de la note de 10.0 à 10.0 (2023-08-14 10:03:58)\u001b[m"
                ]
              },
              {
                "name": "stdout",
                "output_type": "stream",
                "text": [
                  "\n"
                ]
              },
              {
                "name": "stdout",
                "output_type": "stream",
                "text": [
                  "\u001b[35m\u001b[1mPour my_first_exercice/yoda@jedi.com, mise à jour de la note de 10.0 à 10.0 (2023-08-14 10:03:58)\u001b[m"
                ]
              },
              {
                "name": "stdout",
                "output_type": "stream",
                "text": [
                  "\n"
                ]
              },
              {
                "data": {
                  "text/html": "<style type=\"text/css\">\n#T_b4586_row0_col2 {\n  background-color: #000000;\n  color: #f1f1f1;\n  color: #FF3B52;\n  background-color: #FF3B52;\n  opacity: 20%;\n  opacity: 70%;\n}\n#T_b4586_row1_col2 {\n  background-color: #67001f;\n  color: #f1f1f1;\n  opacity: 70%;\n}\n#T_b4586_row2_col2, #T_b4586_row3_col2 {\n  background-color: #053061;\n  color: #f1f1f1;\n  opacity: 70%;\n}\n</style>\n<table id=\"T_b4586\" class=\"dataframe\">\n  <thead>\n    <tr>\n      <th id=\"T_b4586_level0_col0\" class=\"col_heading level0 col0\" >nom</th>\n      <th id=\"T_b4586_level0_col1\" class=\"col_heading level0 col1\" >prenom</th>\n      <th id=\"T_b4586_level0_col2\" class=\"col_heading level0 col2\" >my_first_exercice</th>\n    </tr>\n  </thead>\n  <tbody>\n    <tr>\n      <td id=\"T_b4586_row0_col0\" class=\"data row0 col0\" >Kenobi</td>\n      <td id=\"T_b4586_row0_col1\" class=\"data row0 col1\" >Obiwan</td>\n      <td id=\"T_b4586_row0_col2\" class=\"data row0 col2\" >nan</td>\n    </tr>\n    <tr>\n      <td id=\"T_b4586_row1_col0\" class=\"data row1 col0\" >Skywalker</td>\n      <td id=\"T_b4586_row1_col1\" class=\"data row1 col1\" >Luke</td>\n      <td id=\"T_b4586_row1_col2\" class=\"data row1 col2\" >0.0</td>\n    </tr>\n    <tr>\n      <td id=\"T_b4586_row2_col0\" class=\"data row2 col0\" >Ution</td>\n      <td id=\"T_b4586_row2_col1\" class=\"data row2 col1\" >Sol</td>\n      <td id=\"T_b4586_row2_col2\" class=\"data row2 col2\" >10.0</td>\n    </tr>\n    <tr>\n      <td id=\"T_b4586_row3_col0\" class=\"data row3 col0\" >None</td>\n      <td id=\"T_b4586_row3_col1\" class=\"data row3 col1\" >Yoda</td>\n      <td id=\"T_b4586_row3_col2\" class=\"data row3 col2\" >10.0</td>\n    </tr>\n  </tbody>\n</table>\n",
                  "text/plain": "<pandas.io.formats.style.Styler at 0x79a768a10eb0>"
                },
                "metadata": {},
                "output_type": "display_data"
              }
            ]
          }
        },
        "c4601ed95254438b9b63396eb784a907": {
          "model_module": "@jupyter-widgets/controls",
          "model_module_version": "1.5.0",
          "model_name": "ButtonStyleModel",
          "state": {
            "_model_module": "@jupyter-widgets/controls",
            "_model_module_version": "1.5.0",
            "_model_name": "ButtonStyleModel",
            "_view_count": null,
            "_view_module": "@jupyter-widgets/base",
            "_view_module_version": "1.2.0",
            "_view_name": "StyleView",
            "button_color": null,
            "font_weight": ""
          }
        },
        "c48efbd5461d4dcc8e8674266bce3c11": {
          "model_module": "@jupyter-widgets/controls",
          "model_module_version": "1.5.0",
          "model_name": "ButtonModel",
          "state": {
            "_dom_classes": [],
            "_model_module": "@jupyter-widgets/controls",
            "_model_module_version": "1.5.0",
            "_model_name": "ButtonModel",
            "_view_count": null,
            "_view_module": "@jupyter-widgets/controls",
            "_view_module_version": "1.5.0",
            "_view_name": "ButtonView",
            "button_style": "primary",
            "description": "Voir la correction",
            "disabled": false,
            "icon": "",
            "layout": "IPY_MODEL_64c07df3f8484848aba93272e9eb0539",
            "style": "IPY_MODEL_d111344348324ed5aa4c9348d20bbe82",
            "tooltip": "Récupération de la solution du correcteur. Si la solution est disponible, \n- Elle est affichée  \n- Elle peut-etre comparée avec le code de la cellule actuelle\n"
          }
        },
        "c4f07a3f8eb2445dbb017d82c4ad10b4": {
          "model_module": "@jupyter-widgets/base",
          "model_module_version": "1.2.0",
          "model_name": "LayoutModel",
          "state": {
            "_model_module": "@jupyter-widgets/base",
            "_model_module_version": "1.2.0",
            "_model_name": "LayoutModel",
            "_view_count": null,
            "_view_module": "@jupyter-widgets/base",
            "_view_module_version": "1.2.0",
            "_view_name": "LayoutView",
            "align_content": null,
            "align_items": null,
            "align_self": null,
            "border": null,
            "bottom": null,
            "display": null,
            "flex": null,
            "flex_flow": null,
            "grid_area": null,
            "grid_auto_columns": null,
            "grid_auto_flow": null,
            "grid_auto_rows": null,
            "grid_column": null,
            "grid_gap": null,
            "grid_row": null,
            "grid_template_areas": null,
            "grid_template_columns": null,
            "grid_template_rows": null,
            "height": null,
            "justify_content": null,
            "justify_items": null,
            "left": null,
            "margin": null,
            "max_height": null,
            "max_width": null,
            "min_height": null,
            "min_width": null,
            "object_fit": null,
            "object_position": null,
            "order": null,
            "overflow": null,
            "overflow_x": null,
            "overflow_y": null,
            "padding": null,
            "right": null,
            "top": null,
            "visibility": null,
            "width": "150px"
          }
        },
        "c8445d6cb7b54811a0be56e807480da0": {
          "model_module": "@jupyter-widgets/base",
          "model_module_version": "1.2.0",
          "model_name": "LayoutModel",
          "state": {
            "_model_module": "@jupyter-widgets/base",
            "_model_module_version": "1.2.0",
            "_model_name": "LayoutModel",
            "_view_count": null,
            "_view_module": "@jupyter-widgets/base",
            "_view_module_version": "1.2.0",
            "_view_name": "LayoutView",
            "align_content": null,
            "align_items": null,
            "align_self": null,
            "border": null,
            "bottom": null,
            "display": null,
            "flex": null,
            "flex_flow": null,
            "grid_area": null,
            "grid_auto_columns": null,
            "grid_auto_flow": null,
            "grid_auto_rows": null,
            "grid_column": null,
            "grid_gap": null,
            "grid_row": null,
            "grid_template_areas": null,
            "grid_template_columns": null,
            "grid_template_rows": null,
            "height": null,
            "justify_content": null,
            "justify_items": null,
            "left": null,
            "margin": null,
            "max_height": null,
            "max_width": null,
            "min_height": null,
            "min_width": null,
            "object_fit": null,
            "object_position": null,
            "order": null,
            "overflow": null,
            "overflow_x": null,
            "overflow_y": null,
            "padding": null,
            "right": null,
            "top": null,
            "visibility": null,
            "width": null
          }
        },
        "d013a9600883454fa2bb11d62cd78281": {
          "model_module": "@jupyter-widgets/output",
          "model_module_version": "1.0.0",
          "model_name": "OutputModel",
          "state": {
            "_dom_classes": [],
            "_model_module": "@jupyter-widgets/output",
            "_model_module_version": "1.0.0",
            "_model_name": "OutputModel",
            "_view_count": null,
            "_view_module": "@jupyter-widgets/output",
            "_view_module_version": "1.0.0",
            "_view_name": "OutputView",
            "layout": "IPY_MODEL_6ae3f157399d4a31bb62dd6fa13b7a37",
            "msg_id": "",
            "outputs": [
              {
                "name": "stdout",
                "output_type": "stream",
                "text": [
                  "sigmoid(1)=1\n",
                  "sigmoid(3)=3\n",
                  "sigmoid(7)=7\n"
                ]
              }
            ]
          }
        },
        "d111344348324ed5aa4c9348d20bbe82": {
          "model_module": "@jupyter-widgets/controls",
          "model_module_version": "1.5.0",
          "model_name": "ButtonStyleModel",
          "state": {
            "_model_module": "@jupyter-widgets/controls",
            "_model_module_version": "1.5.0",
            "_model_name": "ButtonStyleModel",
            "_view_count": null,
            "_view_module": "@jupyter-widgets/base",
            "_view_module_version": "1.2.0",
            "_view_name": "StyleView",
            "button_color": null,
            "font_weight": ""
          }
        },
        "d1dba479a8ef4e8aaa2c615907929187": {
          "model_module": "@jupyter-widgets/controls",
          "model_module_version": "1.5.0",
          "model_name": "DescriptionStyleModel",
          "state": {
            "_model_module": "@jupyter-widgets/controls",
            "_model_module_version": "1.5.0",
            "_model_name": "DescriptionStyleModel",
            "_view_count": null,
            "_view_module": "@jupyter-widgets/base",
            "_view_module_version": "1.2.0",
            "_view_name": "StyleView",
            "description_width": ""
          }
        },
        "d9b1412387f1436d8d4314a52919f98f": {
          "model_module": "@jupyter-widgets/controls",
          "model_module_version": "1.5.0",
          "model_name": "ButtonStyleModel",
          "state": {
            "_model_module": "@jupyter-widgets/controls",
            "_model_module_version": "1.5.0",
            "_model_name": "ButtonStyleModel",
            "_view_count": null,
            "_view_module": "@jupyter-widgets/base",
            "_view_module_version": "1.2.0",
            "_view_name": "StyleView",
            "button_color": null,
            "font_weight": ""
          }
        },
        "dafb0a8477b840a999529dadf50a383a": {
          "model_module": "@jupyter-widgets/base",
          "model_module_version": "1.2.0",
          "model_name": "LayoutModel",
          "state": {
            "_model_module": "@jupyter-widgets/base",
            "_model_module_version": "1.2.0",
            "_model_name": "LayoutModel",
            "_view_count": null,
            "_view_module": "@jupyter-widgets/base",
            "_view_module_version": "1.2.0",
            "_view_name": "LayoutView",
            "align_content": null,
            "align_items": null,
            "align_self": null,
            "border": null,
            "bottom": null,
            "display": null,
            "flex": null,
            "flex_flow": null,
            "grid_area": null,
            "grid_auto_columns": null,
            "grid_auto_flow": null,
            "grid_auto_rows": null,
            "grid_column": null,
            "grid_gap": null,
            "grid_row": null,
            "grid_template_areas": null,
            "grid_template_columns": null,
            "grid_template_rows": null,
            "height": null,
            "justify_content": null,
            "justify_items": null,
            "left": null,
            "margin": null,
            "max_height": null,
            "max_width": null,
            "min_height": null,
            "min_width": null,
            "object_fit": null,
            "object_position": null,
            "order": null,
            "overflow": null,
            "overflow_x": null,
            "overflow_y": null,
            "padding": null,
            "right": null,
            "top": null,
            "visibility": null,
            "width": null
          }
        },
        "dd7e476d3f64436aa5784effe189b6f2": {
          "model_module": "@jupyter-widgets/base",
          "model_module_version": "1.2.0",
          "model_name": "LayoutModel",
          "state": {
            "_model_module": "@jupyter-widgets/base",
            "_model_module_version": "1.2.0",
            "_model_name": "LayoutModel",
            "_view_count": null,
            "_view_module": "@jupyter-widgets/base",
            "_view_module_version": "1.2.0",
            "_view_name": "LayoutView",
            "align_content": null,
            "align_items": null,
            "align_self": null,
            "border": null,
            "bottom": null,
            "display": null,
            "flex": null,
            "flex_flow": null,
            "grid_area": null,
            "grid_auto_columns": null,
            "grid_auto_flow": null,
            "grid_auto_rows": null,
            "grid_column": null,
            "grid_gap": null,
            "grid_row": null,
            "grid_template_areas": null,
            "grid_template_columns": null,
            "grid_template_rows": null,
            "height": null,
            "justify_content": null,
            "justify_items": null,
            "left": null,
            "margin": null,
            "max_height": null,
            "max_width": null,
            "min_height": null,
            "min_width": null,
            "object_fit": null,
            "object_position": null,
            "order": null,
            "overflow": null,
            "overflow_x": null,
            "overflow_y": null,
            "padding": null,
            "right": null,
            "top": null,
            "visibility": null,
            "width": null
          }
        },
        "e35523a8538b44eca4297424971a15f9": {
          "model_module": "@jupyter-widgets/controls",
          "model_module_version": "1.5.0",
          "model_name": "HBoxModel",
          "state": {
            "_dom_classes": [],
            "_model_module": "@jupyter-widgets/controls",
            "_model_module_version": "1.5.0",
            "_model_name": "HBoxModel",
            "_view_count": null,
            "_view_module": "@jupyter-widgets/controls",
            "_view_module_version": "1.5.0",
            "_view_name": "HBoxView",
            "box_style": "",
            "children": [
              "IPY_MODEL_587851a7581f4e3d8f1d637cf03f416d",
              "IPY_MODEL_c48efbd5461d4dcc8e8674266bce3c11",
              "IPY_MODEL_3f7a46eb55f64d6a9eb58de74b135a0f",
              "IPY_MODEL_1a169b9031644d0ba01d833d72543c5a"
            ],
            "layout": "IPY_MODEL_dafb0a8477b840a999529dadf50a383a"
          }
        },
        "e52eb96ceca349989f0ab073a0ba81c3": {
          "model_module": "@jupyter-widgets/controls",
          "model_module_version": "1.5.0",
          "model_name": "HTMLModel",
          "state": {
            "_dom_classes": [],
            "_model_module": "@jupyter-widgets/controls",
            "_model_module_version": "1.5.0",
            "_model_name": "HTMLModel",
            "_view_count": null,
            "_view_module": "@jupyter-widgets/controls",
            "_view_module_version": "1.5.0",
            "_view_name": "HTMLView",
            "description": "",
            "description_tooltip": null,
            "layout": "IPY_MODEL_372d4a2d9c744089a3846eb8a8b4d8d9",
            "placeholder": "​",
            "style": "IPY_MODEL_a9a89c129fb74651a310a4f4a9ebfbb9",
            "value": "<b><font face='FiraCode Nerd Font' size=6 color='#4F4F4F'>Luke.s<font></b>"
          }
        },
        "e83479bbbbe640e081d1028d8be26329": {
          "model_module": "@jupyter-widgets/output",
          "model_module_version": "1.0.0",
          "model_name": "OutputModel",
          "state": {
            "_dom_classes": [],
            "_model_module": "@jupyter-widgets/output",
            "_model_module_version": "1.0.0",
            "_model_name": "OutputModel",
            "_view_count": null,
            "_view_module": "@jupyter-widgets/output",
            "_view_module_version": "1.0.0",
            "_view_name": "OutputView",
            "layout": "IPY_MODEL_4527bc2492a24c768d730b56b71f10f7",
            "msg_id": "",
            "outputs": []
          }
        },
        "f4f51c0de60747c6a0dda41726a18c2d": {
          "model_module": "@jupyter-widgets/base",
          "model_module_version": "1.2.0",
          "model_name": "LayoutModel",
          "state": {
            "_model_module": "@jupyter-widgets/base",
            "_model_module_version": "1.2.0",
            "_model_name": "LayoutModel",
            "_view_count": null,
            "_view_module": "@jupyter-widgets/base",
            "_view_module_version": "1.2.0",
            "_view_name": "LayoutView",
            "align_content": null,
            "align_items": null,
            "align_self": null,
            "border": null,
            "bottom": null,
            "display": null,
            "flex": null,
            "flex_flow": null,
            "grid_area": null,
            "grid_auto_columns": null,
            "grid_auto_flow": null,
            "grid_auto_rows": null,
            "grid_column": null,
            "grid_gap": null,
            "grid_row": null,
            "grid_template_areas": null,
            "grid_template_columns": null,
            "grid_template_rows": null,
            "height": null,
            "justify_content": null,
            "justify_items": null,
            "left": null,
            "margin": null,
            "max_height": null,
            "max_width": null,
            "min_height": null,
            "min_width": null,
            "object_fit": null,
            "object_position": null,
            "order": null,
            "overflow": null,
            "overflow_x": null,
            "overflow_y": null,
            "padding": null,
            "right": null,
            "top": null,
            "visibility": null,
            "width": "150px"
          }
        },
        "f971f0f4e6f0462283b6165112e2e476": {
          "model_module": "@jupyter-widgets/controls",
          "model_module_version": "1.5.0",
          "model_name": "ButtonModel",
          "state": {
            "_dom_classes": [],
            "_model_module": "@jupyter-widgets/controls",
            "_model_module_version": "1.5.0",
            "_model_name": "ButtonModel",
            "_view_count": null,
            "_view_module": "@jupyter-widgets/controls",
            "_view_module_version": "1.5.0",
            "_view_name": "ButtonView",
            "button_style": "primary",
            "description": "Voir la correction",
            "disabled": false,
            "icon": "",
            "layout": "IPY_MODEL_a842b83a4cd5481bb91e3d8ac2c9980a",
            "style": "IPY_MODEL_c4601ed95254438b9b63396eb784a907",
            "tooltip": "Récupération de la solution du correcteur. Si la solution est disponible, \n- Elle est affichée  \n- Elle peut-etre comparée avec le code de la cellule actuelle\n"
          }
        },
        "fb5b4018203845d7ba44bfbd824a445e": {
          "model_module": "@jupyter-widgets/base",
          "model_module_version": "1.2.0",
          "model_name": "LayoutModel",
          "state": {
            "_model_module": "@jupyter-widgets/base",
            "_model_module_version": "1.2.0",
            "_model_name": "LayoutModel",
            "_view_count": null,
            "_view_module": "@jupyter-widgets/base",
            "_view_module_version": "1.2.0",
            "_view_name": "LayoutView",
            "align_content": null,
            "align_items": null,
            "align_self": null,
            "border": null,
            "bottom": null,
            "display": null,
            "flex": null,
            "flex_flow": null,
            "grid_area": null,
            "grid_auto_columns": null,
            "grid_auto_flow": null,
            "grid_auto_rows": null,
            "grid_column": null,
            "grid_gap": null,
            "grid_row": null,
            "grid_template_areas": null,
            "grid_template_columns": null,
            "grid_template_rows": null,
            "height": "auto",
            "justify_content": null,
            "justify_items": null,
            "left": null,
            "margin": null,
            "max_height": null,
            "max_width": null,
            "min_height": null,
            "min_width": null,
            "object_fit": null,
            "object_position": null,
            "order": null,
            "overflow": null,
            "overflow_x": null,
            "overflow_y": null,
            "padding": null,
            "right": null,
            "top": null,
            "visibility": null,
            "width": "auto"
          }
        },
        "fd2dc6b7ac29467a963f10ec43c963e5": {
          "model_module": "@jupyter-widgets/controls",
          "model_module_version": "1.5.0",
          "model_name": "DescriptionStyleModel",
          "state": {
            "_model_module": "@jupyter-widgets/controls",
            "_model_module_version": "1.5.0",
            "_model_name": "DescriptionStyleModel",
            "_view_count": null,
            "_view_module": "@jupyter-widgets/base",
            "_view_module_version": "1.2.0",
            "_view_name": "StyleView",
            "description_width": ""
          }
        }
      }
    }
  },
  "nbformat": 4,
  "nbformat_minor": 0
}
