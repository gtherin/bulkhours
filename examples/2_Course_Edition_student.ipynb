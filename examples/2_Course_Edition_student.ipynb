{
  "nbformat": 4,
  "nbformat_minor": 0,
  "metadata": {
    "colab": {
      "provenance": [],
      "toc_visible": true
    },
    "kernelspec": {
      "name": "python3",
      "display_name": "Python 3"
    },
    "gpuClass": "standard"
  },
  "cells": [
    {
      "cell_type": "code",
      "source": [
        "#@title # Initialisation\n",
        "# Install the bulkhours package\n",
        "!rm -rf bulkhours && git clone https://github.com/gtherin/bulkhours.git > /dev/null 2>&1\n",
        "\n",
        "#@markdown **Enter your email address:**\n",
        "email = \"luke.skywalker@jedi.com\" #@param {type:\"string\"}\n",
        "\n",
        "# import the bulkhours package\n",
        "import bulkhours\n",
        "bulkhours.init_env(\n",
        "    email=email,\n",
        "    subject=\"s\",      # Recommended to be unique for one entire subject\n",
        "    notebook_id=\"course_edition\",   # Recommended to be unique per notebook (id of the current notenook)\n",
        "    database=\"data/cache/starwars.json\" # Database file\n",
        "    )\n",
        "\n",
        "# Generate header links\n",
        "bulkhours.generate_header_links(\"examples/2_Course_Edition_student.ipynb\")"
      ],
      "metadata": {
        "id": "rSpNjxbXy0TB",
        "colab": {
          "base_uri": "https://localhost:8080/",
          "height": 210
        },
        "outputId": "382c7a72-238c-41d8-89da-de11ea5bfe24"
      },
      "execution_count": null,
      "outputs": [
        {
          "output_type": "stream",
          "name": "stdout",
          "text": [
            "Cloning into 'bulkhours'...\n",
            "remote: Enumerating objects: 5352, done.\u001b[K\n",
            "remote: Counting objects: 100% (951/951), done.\u001b[K\n",
            "remote: Compressing objects: 100% (328/328), done.\u001b[K\n",
            "remote: Total 5352 (delta 618), reused 900 (delta 588), pack-reused 4401\u001b[K\n",
            "Receiving objects: 100% (5352/5352), 40.97 MiB | 17.04 MiB/s, done.\n",
            "Resolving deltas: 100% (3455/3455), done.\n",
            "Import BULK Helper cOURSe (\u001b[0m\u001b[36mversion='5.2.20'\u001b[0m🚀', ⚠️\u001b[31m\u001b[41m\u001b[37m in admin/teacher🎓 mode\u001b[0m⚠️):⚠️\u001b[31mDatabase is local (security_level=0). Export your config file if you need persistency.\u001b[0m⚠️\n",
            "(db, subject, virtual_room, nb_id, user) = (course2.json, '', winterfell, cadmin, the.lordoflight@got.grrm🎓)\n"
          ]
        },
        {
          "output_type": "display_data",
          "data": {
            "text/plain": [
              "<IPython.core.display.Markdown object>"
            ],
            "text/markdown": "[![Open In Colab](https://colab.research.google.com/assets/colab-badge.svg)](https://colab.research.google.com/github/guydegnol/bulkhours/blob/main/examples/2_Course_Edition.ipynb) [![Open In Kaggle](https://kaggle.com/static/images/open-in-kaggle.svg)](https://kaggle.com/kernels/welcome?src=https://github.com/gtherin/bulkhours/blob/main/examples/2_Course_Edition.ipynb) [![GitHub](https://badgen.net/badge/icon/Open%20in%20Github?icon=github&label)](https://github.com/gtherin/bulkhours/blob/main/examples/2_Course_Edition.ipynb) [![Open in Visual Studio Code](https://img.shields.io/static/v1?logo=visualstudiocode&label=&message=Open%20in%20Visual%20Studio&labelColor=2c2c32&color=007acc&logoColor=007acc)](https://vscode.dev/github/guydegnol/bulkhours/blob/main/examples/2_Course_Edition.ipynb) [![CC-by-nc-sa license](https://badgen.net/badge/icon/CC%20by-nc-sa?label=Licence)](https://creativecommons.org/licenses/by-nc-sa/4.0)\n"
          },
          "metadata": {}
        }
      ]
    },
    {
      "cell_type": "code",
      "source": [
        "%%evaluation_cell_id -i exo1\n",
        "print(\"exo1 solution\")"
      ],
      "metadata": {
        "id": "-BL-zeyC8Grz"
      },
      "execution_count": null,
      "outputs": []
    },
    {
      "cell_type": "code",
      "source": [
        "%%evaluation_cell_id -i exo2\n",
        "print(\"exo1 solution\")"
      ],
      "metadata": {
        "id": "A2fMwNhfzJLj"
      },
      "execution_count": null,
      "outputs": []
    }
  ]
}