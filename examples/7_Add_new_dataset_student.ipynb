{
  "nbformat": 4,
  "nbformat_minor": 0,
  "metadata": {
    "colab": {
      "provenance": [],
      "toc_visible": true
    },
    "kernelspec": {
      "name": "python3",
      "display_name": "Python 3"
    },
    "gpuClass": "standard",
    "widgets": {
      "application/vnd.jupyter.widget-state+json": {
        "de934c1c79c845199ed9a16266d37571": {
          "model_module": "@jupyter-widgets/controls",
          "model_name": "HBoxModel",
          "model_module_version": "1.5.0",
          "state": {
            "_dom_classes": [],
            "_model_module": "@jupyter-widgets/controls",
            "_model_module_version": "1.5.0",
            "_model_name": "HBoxModel",
            "_view_count": null,
            "_view_module": "@jupyter-widgets/controls",
            "_view_module_version": "1.5.0",
            "_view_name": "HBoxView",
            "box_style": "",
            "children": [
              "IPY_MODEL_d87d0c7df3c04ac58f665e6834fb5ff5",
              "IPY_MODEL_7a5215f8778540a3b107546923c13f9d"
            ],
            "layout": "IPY_MODEL_db8506c95c7e4a9e9c26cc4b180e1c9d"
          }
        },
        "d87d0c7df3c04ac58f665e6834fb5ff5": {
          "model_module": "@jupyter-widgets/controls",
          "model_name": "ButtonModel",
          "model_module_version": "1.5.0",
          "state": {
            "_dom_classes": [],
            "_model_module": "@jupyter-widgets/controls",
            "_model_module_version": "1.5.0",
            "_model_name": "ButtonModel",
            "_view_count": null,
            "_view_module": "@jupyter-widgets/controls",
            "_view_module_version": "1.5.0",
            "_view_name": "ButtonView",
            "button_style": "primary",
            "description": "Envoyer au correcteur",
            "disabled": false,
            "icon": "",
            "layout": "IPY_MODEL_577faee74c0846feb50ab9d396dfab7e",
            "style": "IPY_MODEL_68445a4fb505416f9d967ab3f2688687",
            "tooltip": "Envoi de la réponse (contenu de la cellule actuelle) au correcteur.\nLa réponse pourra être utilisée pour évaluation\n"
          }
        },
        "7a5215f8778540a3b107546923c13f9d": {
          "model_module": "@jupyter-widgets/controls",
          "model_name": "ButtonModel",
          "model_module_version": "1.5.0",
          "state": {
            "_dom_classes": [],
            "_model_module": "@jupyter-widgets/controls",
            "_model_module_version": "1.5.0",
            "_model_name": "ButtonModel",
            "_view_count": null,
            "_view_module": "@jupyter-widgets/controls",
            "_view_module_version": "1.5.0",
            "_view_name": "ButtonView",
            "button_style": "primary",
            "description": "Voir la correction",
            "disabled": false,
            "icon": "",
            "layout": "IPY_MODEL_1bf3a6a552ee4067943a0ce517325452",
            "style": "IPY_MODEL_800baa49625b4c7381b250f1ed1c56bb",
            "tooltip": "Récupération de la solution du correcteur. Si la solution est disponible, \n- Elle est affichée  \n- Elle peut-etre comparée avec le code de la cellule actuelle\n"
          }
        },
        "db8506c95c7e4a9e9c26cc4b180e1c9d": {
          "model_module": "@jupyter-widgets/base",
          "model_name": "LayoutModel",
          "model_module_version": "1.2.0",
          "state": {
            "_model_module": "@jupyter-widgets/base",
            "_model_module_version": "1.2.0",
            "_model_name": "LayoutModel",
            "_view_count": null,
            "_view_module": "@jupyter-widgets/base",
            "_view_module_version": "1.2.0",
            "_view_name": "LayoutView",
            "align_content": null,
            "align_items": null,
            "align_self": null,
            "border": null,
            "bottom": null,
            "display": null,
            "flex": null,
            "flex_flow": null,
            "grid_area": null,
            "grid_auto_columns": null,
            "grid_auto_flow": null,
            "grid_auto_rows": null,
            "grid_column": null,
            "grid_gap": null,
            "grid_row": null,
            "grid_template_areas": null,
            "grid_template_columns": null,
            "grid_template_rows": null,
            "height": null,
            "justify_content": null,
            "justify_items": null,
            "left": null,
            "margin": null,
            "max_height": null,
            "max_width": null,
            "min_height": null,
            "min_width": null,
            "object_fit": null,
            "object_position": null,
            "order": null,
            "overflow": null,
            "overflow_x": null,
            "overflow_y": null,
            "padding": null,
            "right": null,
            "top": null,
            "visibility": null,
            "width": null
          }
        },
        "577faee74c0846feb50ab9d396dfab7e": {
          "model_module": "@jupyter-widgets/base",
          "model_name": "LayoutModel",
          "model_module_version": "1.2.0",
          "state": {
            "_model_module": "@jupyter-widgets/base",
            "_model_module_version": "1.2.0",
            "_model_name": "LayoutModel",
            "_view_count": null,
            "_view_module": "@jupyter-widgets/base",
            "_view_module_version": "1.2.0",
            "_view_name": "LayoutView",
            "align_content": null,
            "align_items": null,
            "align_self": null,
            "border": null,
            "bottom": null,
            "display": null,
            "flex": null,
            "flex_flow": null,
            "grid_area": null,
            "grid_auto_columns": null,
            "grid_auto_flow": null,
            "grid_auto_rows": null,
            "grid_column": null,
            "grid_gap": null,
            "grid_row": null,
            "grid_template_areas": null,
            "grid_template_columns": null,
            "grid_template_rows": null,
            "height": null,
            "justify_content": null,
            "justify_items": null,
            "left": null,
            "margin": null,
            "max_height": null,
            "max_width": null,
            "min_height": null,
            "min_width": null,
            "object_fit": null,
            "object_position": null,
            "order": null,
            "overflow": null,
            "overflow_x": null,
            "overflow_y": null,
            "padding": null,
            "right": null,
            "top": null,
            "visibility": null,
            "width": "150px"
          }
        },
        "68445a4fb505416f9d967ab3f2688687": {
          "model_module": "@jupyter-widgets/controls",
          "model_name": "ButtonStyleModel",
          "model_module_version": "1.5.0",
          "state": {
            "_model_module": "@jupyter-widgets/controls",
            "_model_module_version": "1.5.0",
            "_model_name": "ButtonStyleModel",
            "_view_count": null,
            "_view_module": "@jupyter-widgets/base",
            "_view_module_version": "1.2.0",
            "_view_name": "StyleView",
            "button_color": null,
            "font_weight": ""
          }
        },
        "1bf3a6a552ee4067943a0ce517325452": {
          "model_module": "@jupyter-widgets/base",
          "model_name": "LayoutModel",
          "model_module_version": "1.2.0",
          "state": {
            "_model_module": "@jupyter-widgets/base",
            "_model_module_version": "1.2.0",
            "_model_name": "LayoutModel",
            "_view_count": null,
            "_view_module": "@jupyter-widgets/base",
            "_view_module_version": "1.2.0",
            "_view_name": "LayoutView",
            "align_content": null,
            "align_items": null,
            "align_self": null,
            "border": null,
            "bottom": null,
            "display": null,
            "flex": null,
            "flex_flow": null,
            "grid_area": null,
            "grid_auto_columns": null,
            "grid_auto_flow": null,
            "grid_auto_rows": null,
            "grid_column": null,
            "grid_gap": null,
            "grid_row": null,
            "grid_template_areas": null,
            "grid_template_columns": null,
            "grid_template_rows": null,
            "height": null,
            "justify_content": null,
            "justify_items": null,
            "left": null,
            "margin": null,
            "max_height": null,
            "max_width": null,
            "min_height": null,
            "min_width": null,
            "object_fit": null,
            "object_position": null,
            "order": null,
            "overflow": null,
            "overflow_x": null,
            "overflow_y": null,
            "padding": null,
            "right": null,
            "top": null,
            "visibility": null,
            "width": "150px"
          }
        },
        "800baa49625b4c7381b250f1ed1c56bb": {
          "model_module": "@jupyter-widgets/controls",
          "model_name": "ButtonStyleModel",
          "model_module_version": "1.5.0",
          "state": {
            "_model_module": "@jupyter-widgets/controls",
            "_model_module_version": "1.5.0",
            "_model_name": "ButtonStyleModel",
            "_view_count": null,
            "_view_module": "@jupyter-widgets/base",
            "_view_module_version": "1.2.0",
            "_view_name": "StyleView",
            "button_color": null,
            "font_weight": ""
          }
        },
        "f42c19e6356a43beb849bc83ed57395f": {
          "model_module": "@jupyter-widgets/output",
          "model_name": "OutputModel",
          "model_module_version": "1.0.0",
          "state": {
            "_dom_classes": [],
            "_model_module": "@jupyter-widgets/output",
            "_model_module_version": "1.0.0",
            "_model_name": "OutputModel",
            "_view_count": null,
            "_view_module": "@jupyter-widgets/output",
            "_view_module_version": "1.0.0",
            "_view_name": "OutputView",
            "layout": "IPY_MODEL_9f463778321f415c98cb053429dd3e9a",
            "msg_id": "",
            "outputs": [
              {
                "output_type": "display_data",
                "data": {
                  "text/plain": "<IPython.core.display.Markdown object>",
                  "text/markdown": "#### Greenhouse effect gaz concentrations\n- Raw data: [climate-change.csv](https://github.com/gtherin/bulkhours/blob/main/data/climate-change.csv)\n- Enrich data: [world.py](https://github.com/gtherin/bulkhours/blob/main/bulkhours/data/world.py)  ([raw](https://raw.githubusercontent.com/guydegnol/bulkhours/main/bulkhours/data/world.py))\n- Direct source: https://ourworldindata.org/atmospheric-concentrations\n\n<details>\n<summary>Show columns info</summary>\n\n| Column   |      Info |\n|-----------|:-----------|\n| country |  |\n| CO2 concentrations |  |\n| CH4 concentrations |  |\n| N2O concentrations |  |\n| February |  |\n| September |  |\n| Mass U.S. glaciers |  |\n| CSIRO |  |\n| IAP |  |\n| MRIJMA |  |\n| NOAA |  |\n| Snow cover |  |\n| Sea surface temp |  |\n| Sea surface temp (lower-bound) |  |\n| Sea surface temp (upper-bound) |  |\n| IAP.1 |  |\n| NOAA.1 |  |\n| MRIJMA.1 |  |\n| February.1 |  |\n| September.1 |  |\n\n</details>\n\n\n<details>\n<summary>Show code</summary>\n<code>\ndef get_concentrations(self, zone=\"World\", **data_info):\n    df = self.read_raw_data(self.raw_data)\n\n    df = df.rename(columns={\"Entity\": \"country\", \"Year\": \"year\"})\n\n    if zone is not None:\n        df = df.query(f\"country == '{zone}'\")\n    return df\n</code>\n</details>\n\n"
                },
                "metadata": {}
              },
              {
                "output_type": "stream",
                "name": "stdout",
                "text": [
                  "\u001b[31mBulkHours database info:\u001b[0m https://github.com/gtherin/bulkhours/blob/main/data/README.md\n",
                  "bulkhours.get_data(\"co2.concentrations\", credit=\u001b[1mFalse\u001b[0m)  # To stop showing this text\n"
                ]
              }
            ]
          }
        },
        "9f463778321f415c98cb053429dd3e9a": {
          "model_module": "@jupyter-widgets/base",
          "model_name": "LayoutModel",
          "model_module_version": "1.2.0",
          "state": {
            "_model_module": "@jupyter-widgets/base",
            "_model_module_version": "1.2.0",
            "_model_name": "LayoutModel",
            "_view_count": null,
            "_view_module": "@jupyter-widgets/base",
            "_view_module_version": "1.2.0",
            "_view_name": "LayoutView",
            "align_content": null,
            "align_items": null,
            "align_self": null,
            "border": null,
            "bottom": null,
            "display": null,
            "flex": null,
            "flex_flow": null,
            "grid_area": null,
            "grid_auto_columns": null,
            "grid_auto_flow": null,
            "grid_auto_rows": null,
            "grid_column": null,
            "grid_gap": null,
            "grid_row": null,
            "grid_template_areas": null,
            "grid_template_columns": null,
            "grid_template_rows": null,
            "height": null,
            "justify_content": null,
            "justify_items": null,
            "left": null,
            "margin": null,
            "max_height": null,
            "max_width": null,
            "min_height": null,
            "min_width": null,
            "object_fit": null,
            "object_position": null,
            "order": null,
            "overflow": null,
            "overflow_x": null,
            "overflow_y": null,
            "padding": null,
            "right": null,
            "top": null,
            "visibility": null,
            "width": null
          }
        },
        "3b1df8eadfb14eaa8de5c6aa0326580f": {
          "model_module": "@jupyter-widgets/controls",
          "model_name": "HBoxModel",
          "model_module_version": "1.5.0",
          "state": {
            "_dom_classes": [],
            "_model_module": "@jupyter-widgets/controls",
            "_model_module_version": "1.5.0",
            "_model_name": "HBoxModel",
            "_view_count": null,
            "_view_module": "@jupyter-widgets/controls",
            "_view_module_version": "1.5.0",
            "_view_name": "HBoxView",
            "box_style": "",
            "children": [
              "IPY_MODEL_ca3457b0cb334e1384c306594dcd1896",
              "IPY_MODEL_33ae612f0a41429c88ff075dc67b82d8"
            ],
            "layout": "IPY_MODEL_e7c62a75d3864902a2d79adf8d74c758"
          }
        },
        "ca3457b0cb334e1384c306594dcd1896": {
          "model_module": "@jupyter-widgets/controls",
          "model_name": "ButtonModel",
          "model_module_version": "1.5.0",
          "state": {
            "_dom_classes": [],
            "_model_module": "@jupyter-widgets/controls",
            "_model_module_version": "1.5.0",
            "_model_name": "ButtonModel",
            "_view_count": null,
            "_view_module": "@jupyter-widgets/controls",
            "_view_module_version": "1.5.0",
            "_view_name": "ButtonView",
            "button_style": "primary",
            "description": "Envoyer au correcteur",
            "disabled": false,
            "icon": "",
            "layout": "IPY_MODEL_3a6d3caf8bc6494d9cd61f2f4f427b58",
            "style": "IPY_MODEL_a9e2b038e4ca42069d92974c3d971446",
            "tooltip": "Envoi de la réponse (contenu de la cellule actuelle) au correcteur.\nLa réponse pourra être utilisée pour évaluation\n"
          }
        },
        "33ae612f0a41429c88ff075dc67b82d8": {
          "model_module": "@jupyter-widgets/controls",
          "model_name": "ButtonModel",
          "model_module_version": "1.5.0",
          "state": {
            "_dom_classes": [],
            "_model_module": "@jupyter-widgets/controls",
            "_model_module_version": "1.5.0",
            "_model_name": "ButtonModel",
            "_view_count": null,
            "_view_module": "@jupyter-widgets/controls",
            "_view_module_version": "1.5.0",
            "_view_name": "ButtonView",
            "button_style": "primary",
            "description": "Voir la correction",
            "disabled": false,
            "icon": "",
            "layout": "IPY_MODEL_c7805fc6805f403c9131433b2cf36c93",
            "style": "IPY_MODEL_4eda691e151c421c8f7e384eebc3119e",
            "tooltip": "Récupération de la solution du correcteur. Si la solution est disponible, \n- Elle est affichée  \n- Elle peut-etre comparée avec le code de la cellule actuelle\n"
          }
        },
        "e7c62a75d3864902a2d79adf8d74c758": {
          "model_module": "@jupyter-widgets/base",
          "model_name": "LayoutModel",
          "model_module_version": "1.2.0",
          "state": {
            "_model_module": "@jupyter-widgets/base",
            "_model_module_version": "1.2.0",
            "_model_name": "LayoutModel",
            "_view_count": null,
            "_view_module": "@jupyter-widgets/base",
            "_view_module_version": "1.2.0",
            "_view_name": "LayoutView",
            "align_content": null,
            "align_items": null,
            "align_self": null,
            "border": null,
            "bottom": null,
            "display": null,
            "flex": null,
            "flex_flow": null,
            "grid_area": null,
            "grid_auto_columns": null,
            "grid_auto_flow": null,
            "grid_auto_rows": null,
            "grid_column": null,
            "grid_gap": null,
            "grid_row": null,
            "grid_template_areas": null,
            "grid_template_columns": null,
            "grid_template_rows": null,
            "height": null,
            "justify_content": null,
            "justify_items": null,
            "left": null,
            "margin": null,
            "max_height": null,
            "max_width": null,
            "min_height": null,
            "min_width": null,
            "object_fit": null,
            "object_position": null,
            "order": null,
            "overflow": null,
            "overflow_x": null,
            "overflow_y": null,
            "padding": null,
            "right": null,
            "top": null,
            "visibility": null,
            "width": null
          }
        },
        "3a6d3caf8bc6494d9cd61f2f4f427b58": {
          "model_module": "@jupyter-widgets/base",
          "model_name": "LayoutModel",
          "model_module_version": "1.2.0",
          "state": {
            "_model_module": "@jupyter-widgets/base",
            "_model_module_version": "1.2.0",
            "_model_name": "LayoutModel",
            "_view_count": null,
            "_view_module": "@jupyter-widgets/base",
            "_view_module_version": "1.2.0",
            "_view_name": "LayoutView",
            "align_content": null,
            "align_items": null,
            "align_self": null,
            "border": null,
            "bottom": null,
            "display": null,
            "flex": null,
            "flex_flow": null,
            "grid_area": null,
            "grid_auto_columns": null,
            "grid_auto_flow": null,
            "grid_auto_rows": null,
            "grid_column": null,
            "grid_gap": null,
            "grid_row": null,
            "grid_template_areas": null,
            "grid_template_columns": null,
            "grid_template_rows": null,
            "height": null,
            "justify_content": null,
            "justify_items": null,
            "left": null,
            "margin": null,
            "max_height": null,
            "max_width": null,
            "min_height": null,
            "min_width": null,
            "object_fit": null,
            "object_position": null,
            "order": null,
            "overflow": null,
            "overflow_x": null,
            "overflow_y": null,
            "padding": null,
            "right": null,
            "top": null,
            "visibility": null,
            "width": "150px"
          }
        },
        "a9e2b038e4ca42069d92974c3d971446": {
          "model_module": "@jupyter-widgets/controls",
          "model_name": "ButtonStyleModel",
          "model_module_version": "1.5.0",
          "state": {
            "_model_module": "@jupyter-widgets/controls",
            "_model_module_version": "1.5.0",
            "_model_name": "ButtonStyleModel",
            "_view_count": null,
            "_view_module": "@jupyter-widgets/base",
            "_view_module_version": "1.2.0",
            "_view_name": "StyleView",
            "button_color": null,
            "font_weight": ""
          }
        },
        "c7805fc6805f403c9131433b2cf36c93": {
          "model_module": "@jupyter-widgets/base",
          "model_name": "LayoutModel",
          "model_module_version": "1.2.0",
          "state": {
            "_model_module": "@jupyter-widgets/base",
            "_model_module_version": "1.2.0",
            "_model_name": "LayoutModel",
            "_view_count": null,
            "_view_module": "@jupyter-widgets/base",
            "_view_module_version": "1.2.0",
            "_view_name": "LayoutView",
            "align_content": null,
            "align_items": null,
            "align_self": null,
            "border": null,
            "bottom": null,
            "display": null,
            "flex": null,
            "flex_flow": null,
            "grid_area": null,
            "grid_auto_columns": null,
            "grid_auto_flow": null,
            "grid_auto_rows": null,
            "grid_column": null,
            "grid_gap": null,
            "grid_row": null,
            "grid_template_areas": null,
            "grid_template_columns": null,
            "grid_template_rows": null,
            "height": null,
            "justify_content": null,
            "justify_items": null,
            "left": null,
            "margin": null,
            "max_height": null,
            "max_width": null,
            "min_height": null,
            "min_width": null,
            "object_fit": null,
            "object_position": null,
            "order": null,
            "overflow": null,
            "overflow_x": null,
            "overflow_y": null,
            "padding": null,
            "right": null,
            "top": null,
            "visibility": null,
            "width": "150px"
          }
        },
        "4eda691e151c421c8f7e384eebc3119e": {
          "model_module": "@jupyter-widgets/controls",
          "model_name": "ButtonStyleModel",
          "model_module_version": "1.5.0",
          "state": {
            "_model_module": "@jupyter-widgets/controls",
            "_model_module_version": "1.5.0",
            "_model_name": "ButtonStyleModel",
            "_view_count": null,
            "_view_module": "@jupyter-widgets/base",
            "_view_module_version": "1.2.0",
            "_view_name": "StyleView",
            "button_color": null,
            "font_weight": ""
          }
        },
        "408a1f2e15a14abb85c0fc840c903c80": {
          "model_module": "@jupyter-widgets/output",
          "model_name": "OutputModel",
          "model_module_version": "1.0.0",
          "state": {
            "_dom_classes": [
              "<style>\n            .sol_background {background-color:#f7d1d1}\n            .cell_background {background-color:#F7F7F7}\n            .cell_border {background-color:#CFCFCF}\n\nbuttonb {\n   border: none;\n   color: red;\n   font-weight: bolder;\n   padding: 20px;\n   font-size: 18px;\n   cursor: pointer;\n   border-radius: 6px;\n}\n.button3 {background-color:#eaeaea}\n.button1 {background-color:#eaeaea ; color:red ; font-size:100% ; border: 1px solid #eaeaea}\n.button2 {background-color:#eaeaea ; color:red}\n        </style>\n    "
            ],
            "_model_module": "@jupyter-widgets/output",
            "_model_module_version": "1.0.0",
            "_model_name": "OutputModel",
            "_view_count": null,
            "_view_module": "@jupyter-widgets/output",
            "_view_module_version": "1.0.0",
            "_view_name": "OutputView",
            "layout": "IPY_MODEL_705ff8036dee4decbdcd5c0c303b6992",
            "msg_id": "",
            "outputs": [
              {
                "output_type": "display_data",
                "data": {
                  "text/plain": "HTML(value='<style>\\n            .sol_background {background-color:#f7d1d1}\\n            .cell_background {bac…",
                  "application/vnd.jupyter.widget-view+json": {
                    "version_major": 2,
                    "version_minor": 0,
                    "model_id": "18aae946e1a248b996334a8f8947a610"
                  }
                },
                "metadata": {}
              },
              {
                "output_type": "stream",
                "name": "stdout",
                "text": [
                  "\u001b[32m\u001b[1mRéponse soumise à 2023-07-06 16:06:53 pour 'cloud@s/light_side/data/serre/luke.s'. Vous pouvez soumettre plusieurs fois\u001b[m"
                ]
              },
              {
                "output_type": "stream",
                "name": "stdout",
                "text": [
                  "\n"
                ]
              }
            ]
          }
        },
        "705ff8036dee4decbdcd5c0c303b6992": {
          "model_module": "@jupyter-widgets/base",
          "model_name": "LayoutModel",
          "model_module_version": "1.2.0",
          "state": {
            "_model_module": "@jupyter-widgets/base",
            "_model_module_version": "1.2.0",
            "_model_name": "LayoutModel",
            "_view_count": null,
            "_view_module": "@jupyter-widgets/base",
            "_view_module_version": "1.2.0",
            "_view_name": "LayoutView",
            "align_content": null,
            "align_items": null,
            "align_self": null,
            "border": null,
            "bottom": null,
            "display": null,
            "flex": null,
            "flex_flow": null,
            "grid_area": null,
            "grid_auto_columns": null,
            "grid_auto_flow": null,
            "grid_auto_rows": null,
            "grid_column": null,
            "grid_gap": null,
            "grid_row": null,
            "grid_template_areas": null,
            "grid_template_columns": null,
            "grid_template_rows": null,
            "height": null,
            "justify_content": null,
            "justify_items": null,
            "left": null,
            "margin": null,
            "max_height": null,
            "max_width": null,
            "min_height": null,
            "min_width": null,
            "object_fit": null,
            "object_position": null,
            "order": null,
            "overflow": null,
            "overflow_x": null,
            "overflow_y": null,
            "padding": null,
            "right": null,
            "top": null,
            "visibility": null,
            "width": null
          }
        },
        "18aae946e1a248b996334a8f8947a610": {
          "model_module": "@jupyter-widgets/controls",
          "model_name": "HTMLModel",
          "model_module_version": "1.5.0",
          "state": {
            "_dom_classes": [],
            "_model_module": "@jupyter-widgets/controls",
            "_model_module_version": "1.5.0",
            "_model_name": "HTMLModel",
            "_view_count": null,
            "_view_module": "@jupyter-widgets/controls",
            "_view_module_version": "1.5.0",
            "_view_name": "HTMLView",
            "description": "",
            "description_tooltip": null,
            "layout": "IPY_MODEL_e15f00fe01c84408910d4c5f252b658a",
            "placeholder": "​",
            "style": "IPY_MODEL_00e5df3c8ba54bc796d3b397d3839838",
            "value": "<style>\n            .sol_background {background-color:#f7d1d1}\n            .cell_background {background-color:#F7F7F7}\n            .cell_border {background-color:#CFCFCF}\n\nbuttonb {\n   border: none;\n   color: red;\n   font-weight: bolder;\n   padding: 20px;\n   font-size: 18px;\n   cursor: pointer;\n   border-radius: 6px;\n}\n.button3 {background-color:#eaeaea}\n.button1 {background-color:#eaeaea ; color:red ; font-size:100% ; border: 1px solid #eaeaea}\n.button2 {background-color:#eaeaea ; color:red}\n        </style>\n    "
          }
        },
        "e15f00fe01c84408910d4c5f252b658a": {
          "model_module": "@jupyter-widgets/base",
          "model_name": "LayoutModel",
          "model_module_version": "1.2.0",
          "state": {
            "_model_module": "@jupyter-widgets/base",
            "_model_module_version": "1.2.0",
            "_model_name": "LayoutModel",
            "_view_count": null,
            "_view_module": "@jupyter-widgets/base",
            "_view_module_version": "1.2.0",
            "_view_name": "LayoutView",
            "align_content": null,
            "align_items": null,
            "align_self": null,
            "border": null,
            "bottom": null,
            "display": null,
            "flex": null,
            "flex_flow": null,
            "grid_area": null,
            "grid_auto_columns": null,
            "grid_auto_flow": null,
            "grid_auto_rows": null,
            "grid_column": null,
            "grid_gap": null,
            "grid_row": null,
            "grid_template_areas": null,
            "grid_template_columns": null,
            "grid_template_rows": null,
            "height": null,
            "justify_content": null,
            "justify_items": null,
            "left": null,
            "margin": null,
            "max_height": null,
            "max_width": null,
            "min_height": null,
            "min_width": null,
            "object_fit": null,
            "object_position": null,
            "order": null,
            "overflow": null,
            "overflow_x": null,
            "overflow_y": null,
            "padding": null,
            "right": null,
            "top": null,
            "visibility": null,
            "width": null
          }
        },
        "00e5df3c8ba54bc796d3b397d3839838": {
          "model_module": "@jupyter-widgets/controls",
          "model_name": "DescriptionStyleModel",
          "model_module_version": "1.5.0",
          "state": {
            "_model_module": "@jupyter-widgets/controls",
            "_model_module_version": "1.5.0",
            "_model_name": "DescriptionStyleModel",
            "_view_count": null,
            "_view_module": "@jupyter-widgets/base",
            "_view_module_version": "1.2.0",
            "_view_name": "StyleView",
            "description_width": ""
          }
        }
      }
    }
  },
  "cells": [
    {
      "cell_type": "code",
      "source": [
        "#@title # Initialisation of the notebook\n",
        "\n",
        "# Install the bulkhours package, redirecting stdout and stderr to a null output\n",
        "!rm -rf bulkhours && git clone https://github.com/gtherin/bulkhours.git > /dev/null 2>&1\n",
        "\n",
        "#@markdown **Enter your email address:**\n",
        "email = \"luke.skywalker@jedi.com\" #@param {type:\"string\"}\n",
        "\n",
        "# Import the bulkhours package and configure it\n",
        "import bulkhours\n",
        "bulkhours.init_env(email=email, notebook_id=\"data\")\n",
        "\n",
        "# Import other packages\n",
        "from io import StringIO\n",
        "import pandas as pd\n",
        "import matplotlib.pyplot as plt\n",
        "import numpy as np\n",
        "import statsmodels.tsa.api as smtsa\n",
        "\n",
        "# Generate header links\n",
        "bulkhours.generate_header_links(\"examples/7_Add_new_dataset_student.ipynb\")"
      ],
      "metadata": {
        "id": "rSpNjxbXy0TB",
        "colab": {
          "base_uri": "https://localhost:8080/",
          "height": 105
        },
        "outputId": "18f42d6f-51df-4efd-8835-6744242eee6d",
        "cellView": "form"
      },
      "execution_count": 1,
      "outputs": [
        {
          "output_type": "stream",
          "name": "stdout",
          "text": [
            "Import BULK Helper cOURSe (\u001b[0m\u001b[36mversion='5.2.25'\u001b[0m🚀'):\n",
            "(db, subject, virtual_room, nb_id, user) = (bkloud@, s, light_side, data, luke.skywalker@jedi.com✅)\n",
            "LOG import of openai failed 💥\n"
          ]
        },
        {
          "output_type": "display_data",
          "data": {
            "text/plain": [
              "<IPython.core.display.Markdown object>"
            ],
            "text/markdown": "[![Open In Colab](https://colab.research.google.com/assets/colab-badge.svg)](https://colab.research.google.com/github/guydegnol/bulkhours/blob/main/examples/7_Add_new_dataset_student.ipynb) [![Open In Kaggle](https://kaggle.com/static/images/open-in-kaggle.svg)](https://kaggle.com/kernels/welcome?src=https://github.com/gtherin/bulkhours/blob/main/examples/7_Add_new_dataset_student.ipynb) [![GitHub](https://badgen.net/badge/icon/Open%20in%20Github?icon=github&label)](https://github.com/gtherin/bulkhours/blob/main/examples/7_Add_new_dataset_student.ipynb) [![Open in Visual Studio Code](https://img.shields.io/static/v1?logo=visualstudiocode&label=&message=Open%20in%20Visual%20Studio&labelColor=2c2c32&color=007acc&logoColor=007acc)](https://vscode.dev/github/guydegnol/bulkhours/blob/main/examples/7_Add_new_dataset_student.ipynb) [![CC-by-nc-sa license](https://badgen.net/badge/icon/CC%20by-nc-sa?label=Licence)](https://creativecommons.org/licenses/by-nc-sa/4.0)\n"
          },
          "metadata": {}
        }
      ]
    },
    {
      "cell_type": "markdown",
      "source": [
        "# Explore datasets"
      ],
      "metadata": {
        "id": "99IgNK3yFtMk"
      }
    },
    {
      "cell_type": "code",
      "source": [
        "#@title ## List categories\n",
        "bulkhours.data.help(show_categories=True)"
      ],
      "metadata": {
        "id": "BBTV38HPS2K2",
        "outputId": "a3bd5cbc-cdd7-45ce-af96-7812596f2123",
        "colab": {
          "base_uri": "https://localhost:8080/",
          "height": 269
        }
      },
      "execution_count": null,
      "outputs": [
        {
          "output_type": "display_data",
          "data": {
            "text/plain": [
              "                    label                     tag\n",
              "0               Economics               Economics\n",
              "1  Predictive maintenance  Predictive_Maintenance\n",
              "2               Computing               Computing\n",
              "3                 Physics                 Physics\n",
              "4                  Health                  Health\n",
              "5       Climate Evolution       Climate_Evolution\n",
              "6   Machine learning data        Machine_learning"
            ],
            "text/html": [
              "\n",
              "  <div id=\"df-d6865f53-e7ac-46f3-a6e0-06a24f40e4ab\">\n",
              "    <div class=\"colab-df-container\">\n",
              "      <div>\n",
              "<style scoped>\n",
              "    .dataframe tbody tr th:only-of-type {\n",
              "        vertical-align: middle;\n",
              "    }\n",
              "\n",
              "    .dataframe tbody tr th {\n",
              "        vertical-align: top;\n",
              "    }\n",
              "\n",
              "    .dataframe thead th {\n",
              "        text-align: right;\n",
              "    }\n",
              "</style>\n",
              "<table border=\"1\" class=\"dataframe\">\n",
              "  <thead>\n",
              "    <tr style=\"text-align: right;\">\n",
              "      <th></th>\n",
              "      <th>label</th>\n",
              "      <th>tag</th>\n",
              "    </tr>\n",
              "  </thead>\n",
              "  <tbody>\n",
              "    <tr>\n",
              "      <th>0</th>\n",
              "      <td>Economics</td>\n",
              "      <td>Economics</td>\n",
              "    </tr>\n",
              "    <tr>\n",
              "      <th>1</th>\n",
              "      <td>Predictive maintenance</td>\n",
              "      <td>Predictive_Maintenance</td>\n",
              "    </tr>\n",
              "    <tr>\n",
              "      <th>2</th>\n",
              "      <td>Computing</td>\n",
              "      <td>Computing</td>\n",
              "    </tr>\n",
              "    <tr>\n",
              "      <th>3</th>\n",
              "      <td>Physics</td>\n",
              "      <td>Physics</td>\n",
              "    </tr>\n",
              "    <tr>\n",
              "      <th>4</th>\n",
              "      <td>Health</td>\n",
              "      <td>Health</td>\n",
              "    </tr>\n",
              "    <tr>\n",
              "      <th>5</th>\n",
              "      <td>Climate Evolution</td>\n",
              "      <td>Climate_Evolution</td>\n",
              "    </tr>\n",
              "    <tr>\n",
              "      <th>6</th>\n",
              "      <td>Machine learning data</td>\n",
              "      <td>Machine_learning</td>\n",
              "    </tr>\n",
              "  </tbody>\n",
              "</table>\n",
              "</div>\n",
              "      <button class=\"colab-df-convert\" onclick=\"convertToInteractive('df-d6865f53-e7ac-46f3-a6e0-06a24f40e4ab')\"\n",
              "              title=\"Convert this dataframe to an interactive table.\"\n",
              "              style=\"display:none;\">\n",
              "        \n",
              "  <svg xmlns=\"http://www.w3.org/2000/svg\" height=\"24px\"viewBox=\"0 0 24 24\"\n",
              "       width=\"24px\">\n",
              "    <path d=\"M0 0h24v24H0V0z\" fill=\"none\"/>\n",
              "    <path d=\"M18.56 5.44l.94 2.06.94-2.06 2.06-.94-2.06-.94-.94-2.06-.94 2.06-2.06.94zm-11 1L8.5 8.5l.94-2.06 2.06-.94-2.06-.94L8.5 2.5l-.94 2.06-2.06.94zm10 10l.94 2.06.94-2.06 2.06-.94-2.06-.94-.94-2.06-.94 2.06-2.06.94z\"/><path d=\"M17.41 7.96l-1.37-1.37c-.4-.4-.92-.59-1.43-.59-.52 0-1.04.2-1.43.59L10.3 9.45l-7.72 7.72c-.78.78-.78 2.05 0 2.83L4 21.41c.39.39.9.59 1.41.59.51 0 1.02-.2 1.41-.59l7.78-7.78 2.81-2.81c.8-.78.8-2.07 0-2.86zM5.41 20L4 18.59l7.72-7.72 1.47 1.35L5.41 20z\"/>\n",
              "  </svg>\n",
              "      </button>\n",
              "      \n",
              "  <style>\n",
              "    .colab-df-container {\n",
              "      display:flex;\n",
              "      flex-wrap:wrap;\n",
              "      gap: 12px;\n",
              "    }\n",
              "\n",
              "    .colab-df-convert {\n",
              "      background-color: #E8F0FE;\n",
              "      border: none;\n",
              "      border-radius: 50%;\n",
              "      cursor: pointer;\n",
              "      display: none;\n",
              "      fill: #1967D2;\n",
              "      height: 32px;\n",
              "      padding: 0 0 0 0;\n",
              "      width: 32px;\n",
              "    }\n",
              "\n",
              "    .colab-df-convert:hover {\n",
              "      background-color: #E2EBFA;\n",
              "      box-shadow: 0px 1px 2px rgba(60, 64, 67, 0.3), 0px 1px 3px 1px rgba(60, 64, 67, 0.15);\n",
              "      fill: #174EA6;\n",
              "    }\n",
              "\n",
              "    [theme=dark] .colab-df-convert {\n",
              "      background-color: #3B4455;\n",
              "      fill: #D2E3FC;\n",
              "    }\n",
              "\n",
              "    [theme=dark] .colab-df-convert:hover {\n",
              "      background-color: #434B5C;\n",
              "      box-shadow: 0px 1px 3px 1px rgba(0, 0, 0, 0.15);\n",
              "      filter: drop-shadow(0px 1px 2px rgba(0, 0, 0, 0.3));\n",
              "      fill: #FFFFFF;\n",
              "    }\n",
              "  </style>\n",
              "\n",
              "      <script>\n",
              "        const buttonEl =\n",
              "          document.querySelector('#df-d6865f53-e7ac-46f3-a6e0-06a24f40e4ab button.colab-df-convert');\n",
              "        buttonEl.style.display =\n",
              "          google.colab.kernel.accessAllowed ? 'block' : 'none';\n",
              "\n",
              "        async function convertToInteractive(key) {\n",
              "          const element = document.querySelector('#df-d6865f53-e7ac-46f3-a6e0-06a24f40e4ab');\n",
              "          const dataTable =\n",
              "            await google.colab.kernel.invokeFunction('convertToInteractive',\n",
              "                                                     [key], {});\n",
              "          if (!dataTable) return;\n",
              "\n",
              "          const docLinkHtml = 'Like what you see? Visit the ' +\n",
              "            '<a target=\"_blank\" href=https://colab.research.google.com/notebooks/data_table.ipynb>data table notebook</a>'\n",
              "            + ' to learn more about interactive tables.';\n",
              "          element.innerHTML = '';\n",
              "          dataTable['output_type'] = 'display_data';\n",
              "          await google.colab.output.renderOutput(dataTable, element);\n",
              "          const docLink = document.createElement('div');\n",
              "          docLink.innerHTML = docLinkHtml;\n",
              "          element.appendChild(docLink);\n",
              "        }\n",
              "      </script>\n",
              "    </div>\n",
              "  </div>\n",
              "  "
            ]
          },
          "metadata": {}
        }
      ]
    },
    {
      "cell_type": "code",
      "source": [
        "#@title ## Explore data in a category\n",
        "bulkhours.data.help(category=\"Climate_Evolution\")"
      ],
      "metadata": {
        "id": "MWelSzgPaFKq",
        "outputId": "a4a2e328-c256-4c88-e447-e43532075899",
        "colab": {
          "base_uri": "https://localhost:8080/",
          "height": 865
        }
      },
      "execution_count": 2,
      "outputs": [
        {
          "output_type": "stream",
          "name": "stderr",
          "text": [
            "/content/bulkhours/bulkhours/data/world.py:12: FutureWarning: The geopandas.dataset module is deprecated and will be removed in GeoPandas 1.0. You can get the original 'naturalearth_lowres' data from https://www.naturalearthdata.com/downloads/110m-cultural-vectors/.\n",
            "  filepath = gpd.datasets.get_path(\"naturalearth_lowres\")\n"
          ]
        },
        {
          "output_type": "display_data",
          "data": {
            "text/plain": [
              "<IPython.core.display.Markdown object>"
            ],
            "text/markdown": "\n\n## Climate_Evolution \n\n#### Greenhouse effect gaz concentrations\n#### `bulkhours.get_data(\"co2.concentrations\")`\n- Raw data: [climate-change.csv](https://github.com/gtherin/bulkhours/blob/main/data/climate-change.csv)\n- Enrich data: [world.py](https://github.com/gtherin/bulkhours/blob/main/bulkhours/data/world.py)  ([raw](https://raw.githubusercontent.com/guydegnol/bulkhours/main/bulkhours/data/world.py))\n- Direct source: https://ourworldindata.org/atmospheric-concentrations\n\n<details>\n<summary>Show columns info</summary>\n\n| Column   |      Info |\n|-----------|:-----------|\n| country |  |\n| year |  |\n| CO2 concentrations |  |\n| CH4 concentrations |  |\n| N2O concentrations |  |\n| February |  |\n| September |  |\n| Mass U.S. glaciers |  |\n| CSIRO |  |\n| IAP |  |\n| MRIJMA |  |\n| NOAA |  |\n| Snow cover |  |\n| Sea surface temp |  |\n| Sea surface temp (lower-bound) |  |\n| Sea surface temp (upper-bound) |  |\n| IAP.1 |  |\n| NOAA.1 |  |\n| MRIJMA.1 |  |\n| February.1 |  |\n| September.1 |  |\n\n</details>\n\n\n<details>\n<summary>Show code</summary>\n<code>\ndef get_concentrations(self, zone=\"World\", **data_info):\n    df = self.read_raw_data(self.raw_data)\n\n    df = df.rename(columns={\"Entity\": \"country\", \"Year\": \"year\"})\n\n    if zone is not None:\n        df = df.query(f\"country == '{zone}'\")\n    return df\n</code>\n</details>\n\n#### Greenhouse effect gaz concentrations\n#### `bulkhours.get_data(\"co2.mapconcentrations\")`\n- Raw data: [climate-change.csv](https://github.com/gtherin/bulkhours/blob/main/data/climate-change.csv)\n- Enrich data: [world.py](https://github.com/gtherin/bulkhours/blob/main/bulkhours/data/world.py)  ([raw](https://raw.githubusercontent.com/guydegnol/bulkhours/main/bulkhours/data/world.py))\n- Direct source: https://ourworldindata.org/atmospheric-concentrations\n\n<details>\n<summary>Show columns info</summary>\n\n| Column   |      Info |\n|-----------|:-----------|\n| pop_est |  |\n| continent |  |\n| name |  |\n| iso_a3 |  |\n| gdp_md_est |  |\n| geometry |  |\n| year |  |\n| CO2 concentrations |  |\n| CH4 concentrations |  |\n| N2O concentrations |  |\n| February |  |\n| September |  |\n| Mass U.S. glaciers |  |\n| CSIRO |  |\n| IAP |  |\n| MRIJMA |  |\n| NOAA |  |\n| Snow cover |  |\n| Sea surface temp |  |\n| Sea surface temp (lower-bound) |  |\n| Sea surface temp (upper-bound) |  |\n| IAP.1 |  |\n| NOAA.1 |  |\n| MRIJMA.1 |  |\n| February.1 |  |\n| September.1 |  |\n\n</details>\n\n\n<details>\n<summary>Show code</summary>\n<code>\ndef get_mapconcentrations(self, **kwargs):\n    return get_mapgeneric(get_concentrations(self, **kwargs))\n</code>\n</details>\n\n#### Data on CO2 and Greenhouse Gas Emissions by Our World in Data\n#### `bulkhours.get_data(\"co2.main\")`\n- Raw data: [owid-co2-data.csv](https://github.com/owid/co2-data/master/owid-co2-data.csv)  ([raw](https://raw.githubusercontent.com/owid/co2-data/master/owid-co2-data.csv))\n- Enrich data: [world.py](https://github.com/gtherin/bulkhours/blob/main/bulkhours/data/world.py)  ([raw](https://raw.githubusercontent.com/guydegnol/bulkhours/main/bulkhours/data/world.py))\n\n<details>\n<summary>Show columns info</summary>\n> <a href=\"https://github.com/owid/co2-data/blob/master/owid-co2-codebook.csv\">https://github.com/owid/co2-data/blob/master/owid-co2-codebook.csv</a>\n\n| Column   |      Info |\n|-----------|:-----------|\n| country |  |\n| year |  |\n| iso_code |  |\n| population |  |\n| gdp |  |\n| cement_co2 |  |\n| cement_co2_per_capita |  |\n| co2 |  |\n| co2_growth_abs |  |\n| co2_growth_prct |  |\n| co2_including_luc |  |\n| co2_including_luc_growth_abs |  |\n| co2_including_luc_growth_prct |  |\n| co2_including_luc_per_capita |  |\n| co2_including_luc_per_gdp |  |\n| co2_including_luc_per_unit_energy |  |\n| co2_per_capita |  |\n| co2_per_gdp |  |\n| co2_per_unit_energy |  |\n| coal_co2 |  |\n| coal_co2_per_capita |  |\n| consumption_co2 |  |\n| consumption_co2_per_capita |  |\n| consumption_co2_per_gdp |  |\n| cumulative_cement_co2 |  |\n| cumulative_co2 |  |\n| cumulative_co2_including_luc |  |\n| cumulative_coal_co2 |  |\n| cumulative_flaring_co2 |  |\n| cumulative_gas_co2 |  |\n| cumulative_luc_co2 |  |\n| cumulative_oil_co2 |  |\n| cumulative_other_co2 |  |\n| energy_per_capita |  |\n| energy_per_gdp |  |\n| flaring_co2 |  |\n| flaring_co2_per_capita |  |\n| gas_co2 |  |\n| gas_co2_per_capita |  |\n| ghg_excluding_lucf_per_capita |  |\n| ghg_per_capita |  |\n| land_use_change_co2 |  |\n| land_use_change_co2_per_capita |  |\n| methane |  |\n| methane_per_capita |  |\n| nitrous_oxide |  |\n| nitrous_oxide_per_capita |  |\n| oil_co2 |  |\n| oil_co2_per_capita |  |\n| other_co2_per_capita |  |\n| other_industry_co2 |  |\n| primary_energy_consumption |  |\n| share_global_cement_co2 |  |\n| share_global_co2 |  |\n| share_global_co2_including_luc |  |\n| share_global_coal_co2 |  |\n| share_global_cumulative_cement_co2 |  |\n| share_global_cumulative_co2 |  |\n| share_global_cumulative_co2_including_luc |  |\n| share_global_cumulative_coal_co2 |  |\n| share_global_cumulative_flaring_co2 |  |\n| share_global_cumulative_gas_co2 |  |\n| share_global_cumulative_luc_co2 |  |\n| share_global_cumulative_oil_co2 |  |\n| share_global_cumulative_other_co2 |  |\n| share_global_flaring_co2 |  |\n| share_global_gas_co2 |  |\n| share_global_luc_co2 |  |\n| share_global_oil_co2 |  |\n| share_global_other_co2 |  |\n| share_of_temperature_change_from_ghg |  |\n| temperature_change_from_ch4 |  |\n| temperature_change_from_co2 |  |\n| temperature_change_from_ghg |  |\n| temperature_change_from_n2o |  |\n| total_ghg |  |\n| total_ghg_excluding_lucf |  |\n| trade_co2 |  |\n| trade_co2_share |  |\n\n</details>\n\n#### Data on CO2 and Greenhouse Gas Emissions by Our World in Data (with extra gpx data)\n#### `bulkhours.get_data(\"co2.mapmain\")`\n- Raw data: [owid-co2-data.csv](https://github.com/owid/co2-data/master/owid-co2-data.csv)  ([raw](https://raw.githubusercontent.com/owid/co2-data/master/owid-co2-data.csv))\n- Enrich data: [world.py](https://github.com/gtherin/bulkhours/blob/main/bulkhours/data/world.py)  ([raw](https://raw.githubusercontent.com/guydegnol/bulkhours/main/bulkhours/data/world.py))\n\n<details>\n<summary>Show columns info</summary>\n> <a href=\"https://github.com/owid/co2-data/blob/master/owid-co2-codebook.csv\">https://github.com/owid/co2-data/blob/master/owid-co2-codebook.csv</a>\n\n| Column   |      Info |\n|-----------|:-----------|\n| country |  |\n| year |  |\n| iso_code |  |\n| population |  |\n| gdp |  |\n| cement_co2 |  |\n| cement_co2_per_capita |  |\n| co2 |  |\n| co2_growth_abs |  |\n| co2_growth_prct |  |\n| co2_including_luc |  |\n| co2_including_luc_growth_abs |  |\n| co2_including_luc_growth_prct |  |\n| co2_including_luc_per_capita |  |\n| co2_including_luc_per_gdp |  |\n| co2_including_luc_per_unit_energy |  |\n| co2_per_capita |  |\n| co2_per_gdp |  |\n| co2_per_unit_energy |  |\n| coal_co2 |  |\n| coal_co2_per_capita |  |\n| consumption_co2 |  |\n| consumption_co2_per_capita |  |\n| consumption_co2_per_gdp |  |\n| cumulative_cement_co2 |  |\n| cumulative_co2 |  |\n| cumulative_co2_including_luc |  |\n| cumulative_coal_co2 |  |\n| cumulative_flaring_co2 |  |\n| cumulative_gas_co2 |  |\n| cumulative_luc_co2 |  |\n| cumulative_oil_co2 |  |\n| cumulative_other_co2 |  |\n| energy_per_capita |  |\n| energy_per_gdp |  |\n| flaring_co2 |  |\n| flaring_co2_per_capita |  |\n| gas_co2 |  |\n| gas_co2_per_capita |  |\n| ghg_excluding_lucf_per_capita |  |\n| ghg_per_capita |  |\n| land_use_change_co2 |  |\n| land_use_change_co2_per_capita |  |\n| methane |  |\n| methane_per_capita |  |\n| nitrous_oxide |  |\n| nitrous_oxide_per_capita |  |\n| oil_co2 |  |\n| oil_co2_per_capita |  |\n| other_co2_per_capita |  |\n| other_industry_co2 |  |\n| primary_energy_consumption |  |\n| share_global_cement_co2 |  |\n| share_global_co2 |  |\n| share_global_co2_including_luc |  |\n| share_global_coal_co2 |  |\n| share_global_cumulative_cement_co2 |  |\n| share_global_cumulative_co2 |  |\n| share_global_cumulative_co2_including_luc |  |\n| share_global_cumulative_coal_co2 |  |\n| share_global_cumulative_flaring_co2 |  |\n| share_global_cumulative_gas_co2 |  |\n| share_global_cumulative_luc_co2 |  |\n| share_global_cumulative_oil_co2 |  |\n| share_global_cumulative_other_co2 |  |\n| share_global_flaring_co2 |  |\n| share_global_gas_co2 |  |\n| share_global_luc_co2 |  |\n| share_global_oil_co2 |  |\n| share_global_other_co2 |  |\n| share_of_temperature_change_from_ghg |  |\n| temperature_change_from_ch4 |  |\n| temperature_change_from_co2 |  |\n| temperature_change_from_ghg |  |\n| temperature_change_from_n2o |  |\n| total_ghg |  |\n| total_ghg_excluding_lucf |  |\n| trade_co2 |  |\n| trade_co2_share |  |\n\n</details>\n\n#### CO2 transportation info\n#### `bulkhours.get_data(\"co2.travel_mode\")`\n- Raw data: [carbon-footprint-travel-mode.csv](https://github.com/gtherin/bulkhours/blob/main/data/carbon-footprint-travel-mode.csv)\n- Direct source: https://ourworldindata.org/grapher/carbon-footprint-travel-mode\n\n<details>\n<summary>Show columns info</summary>\n\n| Column   |      Info |\n|-----------|:-----------|\n| Entity |  |\n| Code |  |\n| Year |  |\n| GHG emissions (gCO2e/km) |  |\n\n</details>\n\n"
          },
          "metadata": {}
        }
      ]
    },
    {
      "cell_type": "code",
      "source": [
        "#@title ## Show physics constraints\n",
        "bulkhours.data.help(category=\"Physics\")"
      ],
      "metadata": {
        "id": "2Kh4YAQFaFcB",
        "outputId": "0eed9bee-6315-47f1-84e3-4e4744fbe99a",
        "colab": {
          "base_uri": "https://localhost:8080/",
          "height": 1000
        }
      },
      "execution_count": 3,
      "outputs": [
        {
          "output_type": "display_data",
          "data": {
            "text/plain": [
              "<IPython.core.display.Markdown object>"
            ],
            "text/markdown": "\n\n## Physics \n\n\n* <font size='+1'>Celsius en Kelvin: $273.15°K=0°C$</font><br/>\n```python\nfrom bulkhours import constants as bkc\nbkc.c2k := 273.15  # K.C-1\nbkc.kelvin := 273.15  # K.C-1\n```\n\n* <font size='+1'>Celerité de la lumière: $c = 3 \\cdot 10^{5}m\\cdot s^{-1}$</font><br/>\n```python\nfrom bulkhours import constants as bkc\nbkc.c := 3e+05  # m.s-1\nbkc.vitesse_lumiere := 3e+05  # m.s-1\n```\n\n* <font size='+1'>Distance parcourue par la lumière en 1an: $al = 9.461 \\cdot 10^{15}m$</font><br/>\n```python\nfrom bulkhours import constants as bkc\nbkc.al := 9.461e+15  # m\nbkc.annee_lumiere := 9.461e+15  # m\n```\n\n* <font size='+1'>Une Unité astrononique faisant un angle d'une seconde d'arc (ancienne déf.): $1pc \\equiv \\frac{180\\cdot60\\cdot60}{\\pi} = 3.086 \\cdot 10^{16}m = 3.26al$</font><br/>\n```python\nfrom bulkhours import constants as bkc\nbkc.parsec := 3.086e+16  # m.pc-1\n```\n\n* <font size='+1'>Une Unité astrononique faisant un angle d'une seconde d'arc (ancienne déf.): $1kpc \\equiv \\frac{1000\\cdot180\\cdot60\\cdot60}{\\pi}$</font><br/>\n```python\nfrom bulkhours import constants as bkc\nbkc.kparsec := 3.086e+19  # m.kpc-1\n```\n\n* <font size='+1'>Constante de la gravitation: $G = 6.67 \\cdot 10^{-11}N\\cdot m^2\\cdot kg^{-2}$   [6.6743e-11N.m2.kg-2]</font><br/>\n```python\nfrom bulkhours import constants as bkc\nbkc.G := 6.67e-11  # N.m2.kg-2\n```\n\n* <font size='+1'>Acceleration standard de la gravitation: $g = 9.8m\\cdot s^{-2}$   [9.80665m.s-2]</font><br/>\n```python\nfrom bulkhours import constants as bkc\nbkc.g := 9.8  # m.s-2\n```\n\n* <font size='+1'>Constante de Planck: $h = 6.626 \\cdot 10^{-34}J\\cdot s$   [6.62607015e-34J.s]</font><br/>\n```python\nfrom bulkhours import constants as bkc\nbkc.h := 6.626e-34  # J.s\n```\n\n* <font size='+1'>Constante de Planck réduite: $\\bar{h} = \\frac{h}{2\\pi}$</font><br/>\n```python\nfrom bulkhours import constants as bkc\nbkc.hbar := 1.055e-34  # J.s\n```\n\n* <font size='+1'>Nombre d'Avogadro: $N_\\mathcal{A} = 6.02 \\cdot 10^{23}mol-1$ (Carbone: $12g\\Leftrightarrow 1mol$)</font><br/>\n```python\nfrom bulkhours import constants as bkc\nbkc.N_A := 6.02e+23  # mol-1\nbkc.A := 6.02e+23  # mol-1\n```\n\n* <font size='+1'>Constante de Stefan-Boltzmann: $\\sigma = 5.67 \\cdot 10^{-8} W\\cdot m^{-2}\\cdot K^{-4}$</font><br/>\n```python\nfrom bulkhours import constants as bkc\nbkc.sigma := 5.67e-08  # W.m-2.K-4\nbkc.stefan := 5.67e-08  # W.m-2.K-4\n```\n\n* <font size='+1'>Constante de Wien: $\\lambda_{\\text{max}} \\cdot T = 0.003m\\cdot K$   [0.002897771955m.K]</font><br/>\n```python\nfrom bulkhours import constants as bkc\nbkc.Wien := 0.003  # m.K\nbkc.wien := 0.003  # m.K\nbkc.lambda_max := 0.003  # m.K\n```\n\n* <font size='+1'>Constante de Rydberg: $R_H({\\text{Hydrogene}}) = 1.1 \\cdot 10^{7}m-1$</font><br/>\n```python\nfrom bulkhours import constants as bkc\nbkc.Rydberg := 1.1e+07  # m-1\nbkc.rydberg := 1.1e+07  # m-1\nbkc.R_H := 1.1e+07  # m-1\n```\n\n* <font size='+1'>Energie cinetique e sous 1Volt: $\\mathrm{eV} = 1.6 \\cdot 10^{-19}J\\cdot eV^{-1}$   [1.602176634e-19J.eV-1]</font><br/>\n```python\nfrom bulkhours import constants as bkc\nbkc.eV := 1.6e-19  # J.eV-1\nbkc.ev := 1.6e-19  # J.eV-1\n```\n\n* <font size='+1'>Masse electron: $m_e = 9.109 \\cdot 10^{-31}kg$   [9.1093837015e-31kg]</font><br/>\n```python\nfrom bulkhours import constants as bkc\nbkc.m_e := 9.109e-31  # kg\n```\n\n* <font size='+1'>Rayon de Bohr: $a = 5.3 \\cdot 10^{-11} m$</font><br/>\n```python\nfrom bulkhours import constants as bkc\nbkc.r_bohr := 5.300e-11  # m\nbkc.a := 5.300e-11  # m\n```\n\n* <font size='+1'>Masse proton: $m_p = 1.673 \\cdot 10^{-27}kg$   [1.67262192369e-27kg]</font><br/>\n```python\nfrom bulkhours import constants as bkc\nbkc.m_p := 1.673e-27  # kg\n```\n\n* <font size='+1'>Masse proton: $m_p = 1.007276uma$ ($1uma \\equiv \\frac{M(^{12}C)}{12}$)   [1.007276466621uma]</font><br/>\n```python\nfrom bulkhours import constants as bkc\nbkc.m_puma := 1.007276  # uma\n```\n\n* <font size='+1'>Masse neutron: $m_n = 1.008663uma$ ($1uma \\equiv \\frac{M(^{12}C)}{12}$)   [1.00866491595uma]</font><br/>\n```python\nfrom bulkhours import constants as bkc\nbkc.m_numa := 1.008663  # uma\n```\n\n* <font size='+1'>Unité de Masse Atomique: $m_{nuc} = 1.660 \\cdot 10^{-27}kg\\cdot uma^{-1}$ ($1uma \\equiv \\frac{M(^{12}C)}{12}$)   [1.6605390666e-27kg.uma-1]</font><br/>\n```python\nfrom bulkhours import constants as bkc\nbkc.uma := 1.660e-27  # kg.uma-1\n```\n\n* <font size='+1'>Unité de Masse Atomique (MeV): $m_{nuc} = 931.500MeV\\cdot uma^{-1}$ ($1uma \\equiv \\frac{M(^{12}C)}{12}$)</font><br/>\n```python\nfrom bulkhours import constants as bkc\nbkc.uma_mev := 931.500  # MeV.uma-1\n```\n\n* <font size='+1'>Masse: $M_{\\mathrm{mercure}} = 3.301 \\cdot 10^{23}kg$</font><br/>\n```python\nfrom bulkhours import constants as bkc\nbkc.M_mercure := 3.301e+23  # kg\n```\n\n* <font size='+1'>Distance au soleil: $d_{\\odot \\mathrm{mercure}} = 0.38ua$</font><br/>\n```python\nfrom bulkhours import constants as bkc\nbkc.d_mercure := 0.38  # ua\n```\n\n* <font size='+1'>Rayon: $R_{\\mathrm{mercure}} = 2439km$</font><br/>\n```python\nfrom bulkhours import constants as bkc\nbkc.R_mercure := 2439  # km\n```\n\n* <font size='+1'>Albedo: $A_{\\mathrm{mercure}} = 0.09$</font><br/>\n```python\nfrom bulkhours import constants as bkc\nbkc.A_mercure := 0.09  # Sans unité (entre 0 et 1)\n```\n\n* <font size='+1'>Effet de serre: $S_{\\mathrm{mercure}} = 0$</font><br/>\n```python\nfrom bulkhours import constants as bkc\nbkc.S_mercure := 0  # Sans unité (entre 0 et 1)\n```\n\n* <font size='+1'>Temperature moyenne: $T_{\\mathrm{mercure}} = 167.0°C$</font><br/>\n```python\nfrom bulkhours import constants as bkc\nbkc.T_mercure := 167.0  # °C\n```\n\n* <font size='+1'>Masse: $M_{\\mathrm{venus}} = 4.867 \\cdot 10^{24}kg$</font><br/>\n```python\nfrom bulkhours import constants as bkc\nbkc.M_venus := 4.867e+24  # kg\n```\n\n* <font size='+1'>Distance au soleil: $d_{\\odot \\mathrm{venus}} = 0.72ua$</font><br/>\n```python\nfrom bulkhours import constants as bkc\nbkc.d_venus := 0.72  # ua\n```\n\n* <font size='+1'>Rayon: $R_{\\mathrm{venus}} = 3390km$</font><br/>\n```python\nfrom bulkhours import constants as bkc\nbkc.R_venus := 3390  # km\n```\n\n* <font size='+1'>Albedo: $A_{\\mathrm{venus}} = 0.77$</font><br/>\n```python\nfrom bulkhours import constants as bkc\nbkc.A_venus := 0.77  # Sans unité (entre 0 et 1)\n```\n\n* <font size='+1'>Effet de serre: $S_{\\mathrm{venus}} = 0.991$</font><br/>\n```python\nfrom bulkhours import constants as bkc\nbkc.S_venus := 0.991  # Sans unité (entre 0 et 1)\n```\n\n* <font size='+1'>Temperature moyenne: $T_{\\mathrm{venus}} = 464.0°C$</font><br/>\n```python\nfrom bulkhours import constants as bkc\nbkc.T_venus := 464.0  # °C\n```\n\n* <font size='+1'>Masse: $M_{\\mathrm{terre}} = 5.972 \\cdot 10^{24}kg$</font><br/>\n```python\nfrom bulkhours import constants as bkc\nbkc.M_terre := 5.972e+24  # kg\n```\n\n* <font size='+1'>Distance au soleil: $d_{\\odot \\mathrm{terre}} = 1.00ua$</font><br/>\n```python\nfrom bulkhours import constants as bkc\nbkc.d_terre := 1.00  # ua\n```\n\n* <font size='+1'>Rayon: $R_{\\mathrm{terre}} = 6371km$</font><br/>\n```python\nfrom bulkhours import constants as bkc\nbkc.R_terre := 6371  # km\n```\n\n* <font size='+1'>Albedo: $A_{\\mathrm{terre}} = 0.30$</font><br/>\n```python\nfrom bulkhours import constants as bkc\nbkc.A_terre := 0.30  # Sans unité (entre 0 et 1)\n```\n\n* <font size='+1'>Effet de serre: $S_{\\mathrm{terre}} = 0.394$</font><br/>\n```python\nfrom bulkhours import constants as bkc\nbkc.S_terre := 0.394  # Sans unité (entre 0 et 1)\n```\n\n* <font size='+1'>Temperature moyenne: $T_{\\mathrm{terre}} = 15.0°C$</font><br/>\n```python\nfrom bulkhours import constants as bkc\nbkc.T_terre := 15.0  # °C\n```\n\n* <font size='+1'>Distance au soleil: $d_{\\odot \\mathrm{terre}} = 1ua = 1.500 \\cdot 10^{11}m$   [149597870700.0m]</font><br/>\n```python\nfrom bulkhours import constants as bkc\nbkc.d_terre_solm := 1.500e+11  # m\nbkc.d_terresoleil := 1.500e+11  # m\n```\n\n* <font size='+1'>Masse: $M_{\\mathrm{mars}} = 6.417 \\cdot 10^{23}kg$</font><br/>\n```python\nfrom bulkhours import constants as bkc\nbkc.M_mars := 6.417e+23  # kg\n```\n\n* <font size='+1'>Distance au soleil: $d_{\\odot \\mathrm{mars}} = 1.52ua$</font><br/>\n```python\nfrom bulkhours import constants as bkc\nbkc.d_mars := 1.52  # ua\n```\n\n* <font size='+1'>Rayon: $R_{\\mathrm{mars}} = 3390km$</font><br/>\n```python\nfrom bulkhours import constants as bkc\nbkc.R_mars := 3390  # km\n```\n\n* <font size='+1'>Albedo: $A_{\\mathrm{mars}} = 0.25$</font><br/>\n```python\nfrom bulkhours import constants as bkc\nbkc.A_mars := 0.25  # Sans unité (entre 0 et 1)\n```\n\n* <font size='+1'>Effet de serre: $S_{\\mathrm{mars}} = 0.010$</font><br/>\n```python\nfrom bulkhours import constants as bkc\nbkc.S_mars := 0.010  # Sans unité (entre 0 et 1)\n```\n\n* <font size='+1'>Temperature moyenne: $T_{\\mathrm{mars}} = -62.8°C$</font><br/>\n```python\nfrom bulkhours import constants as bkc\nbkc.T_mars := -62.8  # °C\n```\n\n* <font size='+1'>Masse: $M_{\\odot} = 1.988 \\cdot 10^{30}kg$</font><br/>\n```python\nfrom bulkhours import constants as bkc\nbkc.M_soleil := 1.988e+30  # kg\n```\n\n* <font size='+1'>Rayon: $R_{\\odot} = 7 \\cdot 10^{5}km$</font><br/>\n```python\nfrom bulkhours import constants as bkc\nbkc.R_soleil := 7e+05  # km\n```\n\n* <font size='+1'>Luminosité: $L_{\\odot} = 3.83 \\cdot 10^{26}W$</font><br/>\n```python\nfrom bulkhours import constants as bkc\nbkc.L_soleil := 3.83e+26  # W\nbkc.L_sol := 3.83e+26  # W\nbkc.L_sun := 3.83e+26  # W\n```\n\n* <font size='+1'>Temperature moyenne: $T_{\\odot} = 5800.0°C$</font><br/>\n```python\nfrom bulkhours import constants as bkc\nbkc.T_soleil := 5800.0  # °C\n```\n\n* <font size='+1'>Masse: $M_{\\mathrm{lune}} = 7.350 \\cdot 10^{22}kg$</font><br/>\n```python\nfrom bulkhours import constants as bkc\nbkc.M_lune := 7.350e+22  # kg\n```\n\n* <font size='+1'>Distance au soleil: $d_{\\odot \\mathrm{lune}} = 1.00ua$</font><br/>\n```python\nfrom bulkhours import constants as bkc\nbkc.d_lune := 1.00  # ua\n```\n\n* <font size='+1'>Rayon: $R_{\\mathrm{lune}} = 6371km$</font><br/>\n```python\nfrom bulkhours import constants as bkc\nbkc.R_lune := 6371  # km\n```\n\n* <font size='+1'>Albedo: $A_{\\mathrm{lune}} = 0.11$</font><br/>\n```python\nfrom bulkhours import constants as bkc\nbkc.A_lune := 0.11  # Sans unité (entre 0 et 1)\n```\n\n* <font size='+1'>Distance à la lune: $d_{\\mathrm{terre} \\mathrm{lune}} = 3.844 \\cdot 10^{8}m$</font><br/>\n```python\nfrom bulkhours import constants as bkc\nbkc.d_terre_lune := 3.844e+08  # m\n```\n\n* <font size='+1'>Perimètre d'un cercle de rayon 1/2🙂: $pi = 3.141593$</font><br/>\n```python\nfrom bulkhours import constants as bkc\nbkc.pi := 3.141593  # \n```\n\n#### Quarterly sunspots activity (ssn)\n#### `bulkhours.get_data(\"sunspots\")`\n- Raw data: [observed-solar-cycle-indices.json](https://services.swpc.noaa.gov/json/solar-cycle/observed-solar-cycle-indices.json)  ([raw](https://services.swpc.noaa.gov/json/solar-cycle/observed-solar-cycle-indices.json))\n- Enrich data: [statsdata.py](https://github.com/gtherin/bulkhours/blob/main/bulkhours/data/statsdata.py)  ([raw](https://raw.githubusercontent.com/guydegnol/bulkhours/main/bulkhours/data/statsdata.py))\n- Direct source: https://www.swpc.noaa.gov/products/solar-cycle-progression\n- Reference site: https://services.swpc.noaa.gov/json/solar-cycle/observed-solar-cycle-indices.json\n\n<details>\n<summary>Show columns info</summary>\n\n| Column   |      Info |\n|-----------|:-----------|\n| ssn | SunSpot Number (aka Wolf Number or Zürich number): number of sunspots and groups of sunspots present on the surface of the Sun (source: S.I.D.C. Brussels International Sunspot Number) |\n| smoothed_ssn | smoothed ssn (source: S.I.D.C. Brussels International Sunspot Number) |\n| observed_swpc_ssn | mean monthly SWPC/SWO ssn (source: SWPC Space Weather Operations) |\n| smoothed_swpc_ssn | smoothed ssn (source: SWPC Space Weather Operations) |\n| f10.7 | mean monthly  flux values (sfu) (source: Penticton, B.C. 10.7cm radio) |\n| smoothed_f10.7 | smoothed radio flux values (source: Penticton, B.C. 10.7cm radio) |\n\n</details>\n\n\n<details>\n<summary>Show code</summary>\n<code>\ndef get_sunspots(self):\n    dta = pd.read_json(self.raw_data)\n    sunspots = dta.set_index(\"time-tag\")\n    sunspots.index = pd.to_datetime(sunspots.index)\n    sunspots.index.freq = sunspots.index.inferred_freq\n\n    sunspots = sunspots.resample(\"MS\").mean()\n    sunspots = sunspots.resample(\"Q\").mean().iloc[-400:]\n\n    return sunspots\n</code>\n</details>\n\n"
          },
          "metadata": {}
        }
      ]
    },
    {
      "cell_type": "markdown",
      "source": [
        "# Calcul des effets de serre des planetes telluriques\n",
        "\n",
        "*Exercice: suivre les instructions de la cellules suivantes*"
      ],
      "metadata": {
        "id": "5P_iP0nKZ2bo"
      }
    },
    {
      "cell_type": "code",
      "source": [
        "%%evaluation_cell_id -i serre\n",
        "from bulkhours import constants as bkc\n",
        "\n",
        "planetes = bkc.DataFrame(index=[\"mercure\", \"venus\", \"terre\", \"mars\"], columns=[\"Albedo\", \"d_ua\", \"T_C\"])\n",
        "bkc.print(r\"Equilibre thermique: $(1-A)\\frac{ L_\\odot R^2}{4 d^2} \\equiv (1-S) 4 \\pi R^2 \\sigma T^4$\", size=\"+1\")\n",
        "\n",
        "# Calcul de la temperature d'equilibre attendues d'une planete en cas d'absence d'atmosphere:\n",
        "planetes[\"T_C/no atmo.\"] = 0 # ...\n",
        "\n",
        "# Calcul de la temperature d'equilibre attendues d'une planete en cas d'absence d'atmosphere:\n",
        "planetes[\"Effet de serre\"] = 0 # ...\n",
        "\n",
        "bkc.print(r\"Forcage radiatif: $F = S\\cdot \\sigma \\cdot T^4$\", size=\"+1\")\n",
        "# Calcul le forcage radiatif des 4 planetes précédentes\n",
        "\n",
        "planetes[\"Forcage radiatif (W/m2)\"] = 0 # ..."
      ],
      "metadata": {
        "id": "bLywK-AsZ2jQ",
        "outputId": "291a7140-c4ee-436f-8392-5da30a57b7ea",
        "colab": {
          "base_uri": "https://localhost:8080/",
          "height": 88,
          "referenced_widgets": [
            "3b1df8eadfb14eaa8de5c6aa0326580f",
            "ca3457b0cb334e1384c306594dcd1896",
            "33ae612f0a41429c88ff075dc67b82d8",
            "e7c62a75d3864902a2d79adf8d74c758",
            "3a6d3caf8bc6494d9cd61f2f4f427b58",
            "a9e2b038e4ca42069d92974c3d971446",
            "c7805fc6805f403c9131433b2cf36c93",
            "4eda691e151c421c8f7e384eebc3119e",
            "408a1f2e15a14abb85c0fc840c903c80",
            "705ff8036dee4decbdcd5c0c303b6992",
            "18aae946e1a248b996334a8f8947a610",
            "e15f00fe01c84408910d4c5f252b658a",
            "00e5df3c8ba54bc796d3b397d3839838"
          ]
        }
      },
      "execution_count": 4,
      "outputs": [
        {
          "output_type": "display_data",
          "data": {
            "text/plain": [
              "HBox(children=(Button(button_style='primary', description='Envoyer au correcteur', layout=Layout(width='150px'…"
            ],
            "application/vnd.jupyter.widget-view+json": {
              "version_major": 2,
              "version_minor": 0,
              "model_id": "3b1df8eadfb14eaa8de5c6aa0326580f"
            }
          },
          "metadata": {}
        },
        {
          "output_type": "display_data",
          "data": {
            "text/plain": [
              "Output()"
            ],
            "application/vnd.jupyter.widget-view+json": {
              "version_major": 2,
              "version_minor": 0,
              "model_id": "408a1f2e15a14abb85c0fc840c903c80"
            }
          },
          "metadata": {}
        }
      ]
    },
    {
      "cell_type": "markdown",
      "source": [
        "# Evolution de la temperature de la terre\n",
        "\n",
        "En utilisant comme référence, la concentration de CO2 de l'ère preindustrielle (cc(CO2)=280ppm), faire differents scenarios pour l'evolution du climat d'ici à 2100:\n"
      ],
      "metadata": {
        "id": "HM6H129vak59"
      }
    },
    {
      "cell_type": "code",
      "source": [
        "%%evaluation_cell_id -i global_warming\n",
        "co2 = bulkhours.get_data(\"co2.concentrations\", index=\"year\").loc[1900:].ffill()[\"CO2 concentrations\"]\n",
        "# Calculate temperature scenarios\n",
        "# ..."
      ],
      "metadata": {
        "id": "Th-zRrUsalDE",
        "outputId": "268ce42c-2de4-48c7-ed7c-7653835d4c78",
        "colab": {
          "base_uri": "https://localhost:8080/",
          "height": 218,
          "referenced_widgets": [
            "de934c1c79c845199ed9a16266d37571",
            "d87d0c7df3c04ac58f665e6834fb5ff5",
            "7a5215f8778540a3b107546923c13f9d",
            "db8506c95c7e4a9e9c26cc4b180e1c9d",
            "577faee74c0846feb50ab9d396dfab7e",
            "68445a4fb505416f9d967ab3f2688687",
            "1bf3a6a552ee4067943a0ce517325452",
            "800baa49625b4c7381b250f1ed1c56bb",
            "f42c19e6356a43beb849bc83ed57395f",
            "9f463778321f415c98cb053429dd3e9a"
          ]
        }
      },
      "execution_count": null,
      "outputs": [
        {
          "output_type": "display_data",
          "data": {
            "text/plain": [
              "HBox(children=(Button(button_style='primary', description='Envoyer au correcteur', layout=Layout(width='150px'…"
            ],
            "application/vnd.jupyter.widget-view+json": {
              "version_major": 2,
              "version_minor": 0,
              "model_id": "de934c1c79c845199ed9a16266d37571"
            }
          },
          "metadata": {}
        },
        {
          "output_type": "display_data",
          "data": {
            "text/plain": [
              "Output()"
            ],
            "application/vnd.jupyter.widget-view+json": {
              "version_major": 2,
              "version_minor": 0,
              "model_id": "f42c19e6356a43beb849bc83ed57395f"
            }
          },
          "metadata": {}
        }
      ]
    },
    {
      "cell_type": "code",
      "source": [],
      "metadata": {
        "id": "ThjfOIcFH3BN"
      },
      "execution_count": null,
      "outputs": []
    }
  ]
}