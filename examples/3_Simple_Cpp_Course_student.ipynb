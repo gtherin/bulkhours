{
  "nbformat": 4,
  "nbformat_minor": 0,
  "metadata": {
    "colab": {
      "provenance": [],
      "toc_visible": true
    },
    "kernelspec": {
      "name": "python3",
      "display_name": "Python 3"
    },
    "gpuClass": "standard",
    "widgets": {
      "application/vnd.jupyter.widget-state+json": {
        "92a7eff9424e48daad0efe0120508dde": {
          "model_module": "@jupyter-widgets/controls",
          "model_name": "HBoxModel",
          "model_module_version": "1.5.0",
          "state": {
            "_dom_classes": [],
            "_model_module": "@jupyter-widgets/controls",
            "_model_module_version": "1.5.0",
            "_model_name": "HBoxModel",
            "_view_count": null,
            "_view_module": "@jupyter-widgets/controls",
            "_view_module_version": "1.5.0",
            "_view_name": "HBoxView",
            "box_style": "",
            "children": [
              "IPY_MODEL_0bc57f49ff524c53a67e88ac36d0437f",
              "IPY_MODEL_4cf1ba4ae74f4c07b2b0b1c2d81958d5"
            ],
            "layout": "IPY_MODEL_40dbe2ef70404faf95f875a9090f1a11"
          }
        },
        "0bc57f49ff524c53a67e88ac36d0437f": {
          "model_module": "@jupyter-widgets/controls",
          "model_name": "ButtonModel",
          "model_module_version": "1.5.0",
          "state": {
            "_dom_classes": [],
            "_model_module": "@jupyter-widgets/controls",
            "_model_module_version": "1.5.0",
            "_model_name": "ButtonModel",
            "_view_count": null,
            "_view_module": "@jupyter-widgets/controls",
            "_view_module_version": "1.5.0",
            "_view_name": "ButtonView",
            "button_style": "primary",
            "description": "Envoyer au correcteur",
            "disabled": false,
            "icon": "",
            "layout": "IPY_MODEL_66cc2d04b6c649d69d0f3129dba648aa",
            "style": "IPY_MODEL_9695bfc863654e50891aaec4d392864e",
            "tooltip": "Envoi de la réponse (contenu de la cellule actuelle) au correcteur.\nLa réponse pourra être utilisée pour évaluation\n"
          }
        },
        "4cf1ba4ae74f4c07b2b0b1c2d81958d5": {
          "model_module": "@jupyter-widgets/controls",
          "model_name": "ButtonModel",
          "model_module_version": "1.5.0",
          "state": {
            "_dom_classes": [],
            "_model_module": "@jupyter-widgets/controls",
            "_model_module_version": "1.5.0",
            "_model_name": "ButtonModel",
            "_view_count": null,
            "_view_module": "@jupyter-widgets/controls",
            "_view_module_version": "1.5.0",
            "_view_name": "ButtonView",
            "button_style": "primary",
            "description": "Voir la correction",
            "disabled": false,
            "icon": "",
            "layout": "IPY_MODEL_aa728f56a5be423bb1cc52fea5d28cb7",
            "style": "IPY_MODEL_a0bba889ef85495e83e1924aacf04ab8",
            "tooltip": "Récupération de la solution du correcteur. Si la solution est disponible, \n- Elle est affichée  \n- Elle peut-etre comparée avec le code de la cellule actuelle\n"
          }
        },
        "40dbe2ef70404faf95f875a9090f1a11": {
          "model_module": "@jupyter-widgets/base",
          "model_name": "LayoutModel",
          "model_module_version": "1.2.0",
          "state": {
            "_model_module": "@jupyter-widgets/base",
            "_model_module_version": "1.2.0",
            "_model_name": "LayoutModel",
            "_view_count": null,
            "_view_module": "@jupyter-widgets/base",
            "_view_module_version": "1.2.0",
            "_view_name": "LayoutView",
            "align_content": null,
            "align_items": null,
            "align_self": null,
            "border": null,
            "bottom": null,
            "display": null,
            "flex": null,
            "flex_flow": null,
            "grid_area": null,
            "grid_auto_columns": null,
            "grid_auto_flow": null,
            "grid_auto_rows": null,
            "grid_column": null,
            "grid_gap": null,
            "grid_row": null,
            "grid_template_areas": null,
            "grid_template_columns": null,
            "grid_template_rows": null,
            "height": null,
            "justify_content": null,
            "justify_items": null,
            "left": null,
            "margin": null,
            "max_height": null,
            "max_width": null,
            "min_height": null,
            "min_width": null,
            "object_fit": null,
            "object_position": null,
            "order": null,
            "overflow": null,
            "overflow_x": null,
            "overflow_y": null,
            "padding": null,
            "right": null,
            "top": null,
            "visibility": null,
            "width": null
          }
        },
        "66cc2d04b6c649d69d0f3129dba648aa": {
          "model_module": "@jupyter-widgets/base",
          "model_name": "LayoutModel",
          "model_module_version": "1.2.0",
          "state": {
            "_model_module": "@jupyter-widgets/base",
            "_model_module_version": "1.2.0",
            "_model_name": "LayoutModel",
            "_view_count": null,
            "_view_module": "@jupyter-widgets/base",
            "_view_module_version": "1.2.0",
            "_view_name": "LayoutView",
            "align_content": null,
            "align_items": null,
            "align_self": null,
            "border": null,
            "bottom": null,
            "display": null,
            "flex": null,
            "flex_flow": null,
            "grid_area": null,
            "grid_auto_columns": null,
            "grid_auto_flow": null,
            "grid_auto_rows": null,
            "grid_column": null,
            "grid_gap": null,
            "grid_row": null,
            "grid_template_areas": null,
            "grid_template_columns": null,
            "grid_template_rows": null,
            "height": null,
            "justify_content": null,
            "justify_items": null,
            "left": null,
            "margin": null,
            "max_height": null,
            "max_width": null,
            "min_height": null,
            "min_width": null,
            "object_fit": null,
            "object_position": null,
            "order": null,
            "overflow": null,
            "overflow_x": null,
            "overflow_y": null,
            "padding": null,
            "right": null,
            "top": null,
            "visibility": null,
            "width": "150px"
          }
        },
        "9695bfc863654e50891aaec4d392864e": {
          "model_module": "@jupyter-widgets/controls",
          "model_name": "ButtonStyleModel",
          "model_module_version": "1.5.0",
          "state": {
            "_model_module": "@jupyter-widgets/controls",
            "_model_module_version": "1.5.0",
            "_model_name": "ButtonStyleModel",
            "_view_count": null,
            "_view_module": "@jupyter-widgets/base",
            "_view_module_version": "1.2.0",
            "_view_name": "StyleView",
            "button_color": null,
            "font_weight": ""
          }
        },
        "aa728f56a5be423bb1cc52fea5d28cb7": {
          "model_module": "@jupyter-widgets/base",
          "model_name": "LayoutModel",
          "model_module_version": "1.2.0",
          "state": {
            "_model_module": "@jupyter-widgets/base",
            "_model_module_version": "1.2.0",
            "_model_name": "LayoutModel",
            "_view_count": null,
            "_view_module": "@jupyter-widgets/base",
            "_view_module_version": "1.2.0",
            "_view_name": "LayoutView",
            "align_content": null,
            "align_items": null,
            "align_self": null,
            "border": null,
            "bottom": null,
            "display": null,
            "flex": null,
            "flex_flow": null,
            "grid_area": null,
            "grid_auto_columns": null,
            "grid_auto_flow": null,
            "grid_auto_rows": null,
            "grid_column": null,
            "grid_gap": null,
            "grid_row": null,
            "grid_template_areas": null,
            "grid_template_columns": null,
            "grid_template_rows": null,
            "height": null,
            "justify_content": null,
            "justify_items": null,
            "left": null,
            "margin": null,
            "max_height": null,
            "max_width": null,
            "min_height": null,
            "min_width": null,
            "object_fit": null,
            "object_position": null,
            "order": null,
            "overflow": null,
            "overflow_x": null,
            "overflow_y": null,
            "padding": null,
            "right": null,
            "top": null,
            "visibility": null,
            "width": "150px"
          }
        },
        "a0bba889ef85495e83e1924aacf04ab8": {
          "model_module": "@jupyter-widgets/controls",
          "model_name": "ButtonStyleModel",
          "model_module_version": "1.5.0",
          "state": {
            "_model_module": "@jupyter-widgets/controls",
            "_model_module_version": "1.5.0",
            "_model_name": "ButtonStyleModel",
            "_view_count": null,
            "_view_module": "@jupyter-widgets/base",
            "_view_module_version": "1.2.0",
            "_view_name": "StyleView",
            "button_color": null,
            "font_weight": ""
          }
        },
        "4d59aef5a4784d0d9aca623a80850033": {
          "model_module": "@jupyter-widgets/output",
          "model_name": "OutputModel",
          "model_module_version": "1.0.0",
          "state": {
            "_dom_classes": [
              "<style>\n            .sol_background {background-color:#f7d1d1}\n            .cell_background {background-color:#F7F7F7}\n            .cell_border {background-color:#CFCFCF}\n\nbuttonb {\n   border: none;\n   color: red;\n   font-weight: bolder;\n   padding: 20px;\n   font-size: 18px;\n   cursor: pointer;\n   border-radius: 6px;\n}\n.button3 {background-color:#eaeaea}\n.button1 {background-color:#eaeaea ; color:red ; font-size:100% ; border: 1px solid #eaeaea}\n.button2 {background-color:#eaeaea ; color:red}\n        </style>\n    "
            ],
            "_model_module": "@jupyter-widgets/output",
            "_model_module_version": "1.0.0",
            "_model_name": "OutputModel",
            "_view_count": null,
            "_view_module": "@jupyter-widgets/output",
            "_view_module_version": "1.0.0",
            "_view_name": "OutputView",
            "layout": "IPY_MODEL_17a1d247a778428691815178168aa537",
            "msg_id": "",
            "outputs": [
              {
                "output_type": "display_data",
                "data": {
                  "text/plain": "HTML(value='<style>\\n            .sol_background {background-color:#f7d1d1}\\n            .cell_background {bac…",
                  "application/vnd.jupyter.widget-view+json": {
                    "version_major": 2,
                    "version_minor": 0,
                    "model_id": "a9f74fa653f947cd8900b6a4e2577e1e"
                  }
                },
                "metadata": {}
              },
              {
                "output_type": "stream",
                "name": "stdout",
                "text": [
                  "\u001b[32m\u001b[1mRéponse soumise à 2023-07-06 16:45:44 pour 'cloud@s/light_side/cpp/cpp/luke.s'. Vous pouvez soumettre plusieurs fois\u001b[m"
                ]
              },
              {
                "output_type": "stream",
                "name": "stdout",
                "text": [
                  "\n"
                ]
              }
            ]
          }
        },
        "17a1d247a778428691815178168aa537": {
          "model_module": "@jupyter-widgets/base",
          "model_name": "LayoutModel",
          "model_module_version": "1.2.0",
          "state": {
            "_model_module": "@jupyter-widgets/base",
            "_model_module_version": "1.2.0",
            "_model_name": "LayoutModel",
            "_view_count": null,
            "_view_module": "@jupyter-widgets/base",
            "_view_module_version": "1.2.0",
            "_view_name": "LayoutView",
            "align_content": null,
            "align_items": null,
            "align_self": null,
            "border": null,
            "bottom": null,
            "display": null,
            "flex": null,
            "flex_flow": null,
            "grid_area": null,
            "grid_auto_columns": null,
            "grid_auto_flow": null,
            "grid_auto_rows": null,
            "grid_column": null,
            "grid_gap": null,
            "grid_row": null,
            "grid_template_areas": null,
            "grid_template_columns": null,
            "grid_template_rows": null,
            "height": null,
            "justify_content": null,
            "justify_items": null,
            "left": null,
            "margin": null,
            "max_height": null,
            "max_width": null,
            "min_height": null,
            "min_width": null,
            "object_fit": null,
            "object_position": null,
            "order": null,
            "overflow": null,
            "overflow_x": null,
            "overflow_y": null,
            "padding": null,
            "right": null,
            "top": null,
            "visibility": null,
            "width": null
          }
        },
        "a9f74fa653f947cd8900b6a4e2577e1e": {
          "model_module": "@jupyter-widgets/controls",
          "model_name": "HTMLModel",
          "model_module_version": "1.5.0",
          "state": {
            "_dom_classes": [],
            "_model_module": "@jupyter-widgets/controls",
            "_model_module_version": "1.5.0",
            "_model_name": "HTMLModel",
            "_view_count": null,
            "_view_module": "@jupyter-widgets/controls",
            "_view_module_version": "1.5.0",
            "_view_name": "HTMLView",
            "description": "",
            "description_tooltip": null,
            "layout": "IPY_MODEL_9730ea19b2ee447d829e7af944f6c0a4",
            "placeholder": "​",
            "style": "IPY_MODEL_e9fb77a0201d4cdda612f74b8efc564e",
            "value": "<style>\n            .sol_background {background-color:#f7d1d1}\n            .cell_background {background-color:#F7F7F7}\n            .cell_border {background-color:#CFCFCF}\n\nbuttonb {\n   border: none;\n   color: red;\n   font-weight: bolder;\n   padding: 20px;\n   font-size: 18px;\n   cursor: pointer;\n   border-radius: 6px;\n}\n.button3 {background-color:#eaeaea}\n.button1 {background-color:#eaeaea ; color:red ; font-size:100% ; border: 1px solid #eaeaea}\n.button2 {background-color:#eaeaea ; color:red}\n        </style>\n    "
          }
        },
        "9730ea19b2ee447d829e7af944f6c0a4": {
          "model_module": "@jupyter-widgets/base",
          "model_name": "LayoutModel",
          "model_module_version": "1.2.0",
          "state": {
            "_model_module": "@jupyter-widgets/base",
            "_model_module_version": "1.2.0",
            "_model_name": "LayoutModel",
            "_view_count": null,
            "_view_module": "@jupyter-widgets/base",
            "_view_module_version": "1.2.0",
            "_view_name": "LayoutView",
            "align_content": null,
            "align_items": null,
            "align_self": null,
            "border": null,
            "bottom": null,
            "display": null,
            "flex": null,
            "flex_flow": null,
            "grid_area": null,
            "grid_auto_columns": null,
            "grid_auto_flow": null,
            "grid_auto_rows": null,
            "grid_column": null,
            "grid_gap": null,
            "grid_row": null,
            "grid_template_areas": null,
            "grid_template_columns": null,
            "grid_template_rows": null,
            "height": null,
            "justify_content": null,
            "justify_items": null,
            "left": null,
            "margin": null,
            "max_height": null,
            "max_width": null,
            "min_height": null,
            "min_width": null,
            "object_fit": null,
            "object_position": null,
            "order": null,
            "overflow": null,
            "overflow_x": null,
            "overflow_y": null,
            "padding": null,
            "right": null,
            "top": null,
            "visibility": null,
            "width": null
          }
        },
        "e9fb77a0201d4cdda612f74b8efc564e": {
          "model_module": "@jupyter-widgets/controls",
          "model_name": "DescriptionStyleModel",
          "model_module_version": "1.5.0",
          "state": {
            "_model_module": "@jupyter-widgets/controls",
            "_model_module_version": "1.5.0",
            "_model_name": "DescriptionStyleModel",
            "_view_count": null,
            "_view_module": "@jupyter-widgets/base",
            "_view_module_version": "1.2.0",
            "_view_name": "StyleView",
            "description_width": ""
          }
        },
        "0bc6b8bf704f480289d905eb93ce9f90": {
          "model_module": "@jupyter-widgets/controls",
          "model_name": "VBoxModel",
          "model_module_version": "1.5.0",
          "state": {
            "_dom_classes": [],
            "_model_module": "@jupyter-widgets/controls",
            "_model_module_version": "1.5.0",
            "_model_name": "VBoxModel",
            "_view_count": null,
            "_view_module": "@jupyter-widgets/controls",
            "_view_module_version": "1.5.0",
            "_view_name": "VBoxView",
            "box_style": "",
            "children": [
              "IPY_MODEL_0a6a4922102a49fda19e470e605d0d8e"
            ],
            "layout": "IPY_MODEL_b23afcf7e416470f8a2d8a8ac7389aeb"
          }
        },
        "0a6a4922102a49fda19e470e605d0d8e": {
          "model_module": "@jupyter-widgets/controls",
          "model_name": "TabModel",
          "model_module_version": "1.5.0",
          "state": {
            "_dom_classes": [],
            "_model_module": "@jupyter-widgets/controls",
            "_model_module_version": "1.5.0",
            "_model_name": "TabModel",
            "_titles": {
              "0": "quadrilater.h",
              "1": "quadrilater.cpp",
              "2": "Makefile"
            },
            "_view_count": null,
            "_view_module": "@jupyter-widgets/controls",
            "_view_module_version": "1.5.0",
            "_view_name": "TabView",
            "box_style": "",
            "children": [
              "IPY_MODEL_d20a2aa7276c4960beb54c3dec8e4d07",
              "IPY_MODEL_c6d0130fc3b94b468126967cd4a82521",
              "IPY_MODEL_7b28d3bc68f140388bd67d2725723f0d"
            ],
            "layout": "IPY_MODEL_29a1fcc8c74841488167d7facb3433fc",
            "selected_index": 0
          }
        },
        "b23afcf7e416470f8a2d8a8ac7389aeb": {
          "model_module": "@jupyter-widgets/base",
          "model_name": "LayoutModel",
          "model_module_version": "1.2.0",
          "state": {
            "_model_module": "@jupyter-widgets/base",
            "_model_module_version": "1.2.0",
            "_model_name": "LayoutModel",
            "_view_count": null,
            "_view_module": "@jupyter-widgets/base",
            "_view_module_version": "1.2.0",
            "_view_name": "LayoutView",
            "align_content": null,
            "align_items": null,
            "align_self": null,
            "border": null,
            "bottom": null,
            "display": null,
            "flex": null,
            "flex_flow": null,
            "grid_area": null,
            "grid_auto_columns": null,
            "grid_auto_flow": null,
            "grid_auto_rows": null,
            "grid_column": null,
            "grid_gap": null,
            "grid_row": null,
            "grid_template_areas": null,
            "grid_template_columns": null,
            "grid_template_rows": null,
            "height": null,
            "justify_content": null,
            "justify_items": null,
            "left": null,
            "margin": null,
            "max_height": null,
            "max_width": null,
            "min_height": null,
            "min_width": null,
            "object_fit": null,
            "object_position": null,
            "order": null,
            "overflow": null,
            "overflow_x": null,
            "overflow_y": null,
            "padding": null,
            "right": null,
            "top": null,
            "visibility": null,
            "width": null
          }
        },
        "d20a2aa7276c4960beb54c3dec8e4d07": {
          "model_module": "@jupyter-widgets/controls",
          "model_name": "TextareaModel",
          "model_module_version": "1.5.0",
          "state": {
            "_dom_classes": [],
            "_model_module": "@jupyter-widgets/controls",
            "_model_module_version": "1.5.0",
            "_model_name": "TextareaModel",
            "_view_count": null,
            "_view_module": "@jupyter-widgets/controls",
            "_view_module_version": "1.5.0",
            "_view_name": "TextareaView",
            "continuous_update": true,
            "description": "",
            "description_tooltip": null,
            "disabled": false,
            "layout": "IPY_MODEL_6391101125c7461d9836d7d91c37c253",
            "placeholder": "​",
            "rows": null,
            "style": "IPY_MODEL_e825ad54afd34e92b8aad4207bbd3c53",
            "value": "#include <iostream>\n#include <string>\nusing namespace std;\n\n\nclass Quadrilateral {\n  public: \n    void properties() {\n      cout << \"Quadrilateral: sides are \" << SideProperties() <<\" and angles are \" << AnglesProperties() << endl;\n    }\n  string SideProperties() {return \"ordinary\";}\n  string AnglesProperties() {return \"ordinary\";}\n};\n"
          }
        },
        "c6d0130fc3b94b468126967cd4a82521": {
          "model_module": "@jupyter-widgets/controls",
          "model_name": "TextareaModel",
          "model_module_version": "1.5.0",
          "state": {
            "_dom_classes": [],
            "_model_module": "@jupyter-widgets/controls",
            "_model_module_version": "1.5.0",
            "_model_name": "TextareaModel",
            "_view_count": null,
            "_view_module": "@jupyter-widgets/controls",
            "_view_module_version": "1.5.0",
            "_view_name": "TextareaView",
            "continuous_update": true,
            "description": "",
            "description_tooltip": null,
            "disabled": false,
            "layout": "IPY_MODEL_e330f0e43536429d8a8f6a04a600fd97",
            "placeholder": "​",
            "rows": null,
            "style": "IPY_MODEL_1ec92841a7764c1a906f9b9417cbadda",
            "value": "#include \"quadrilater.h\"\n    \nint main() {\n  Quadrilateral().properties();\n  //Trapezoid().properties();\n  //Rectangle().properties();\n  //Square().properties();\n}\n"
          }
        },
        "7b28d3bc68f140388bd67d2725723f0d": {
          "model_module": "@jupyter-widgets/controls",
          "model_name": "TextareaModel",
          "model_module_version": "1.5.0",
          "state": {
            "_dom_classes": [],
            "_model_module": "@jupyter-widgets/controls",
            "_model_module_version": "1.5.0",
            "_model_name": "TextareaModel",
            "_view_count": null,
            "_view_module": "@jupyter-widgets/controls",
            "_view_module_version": "1.5.0",
            "_view_name": "TextareaView",
            "continuous_update": true,
            "description": "",
            "description_tooltip": null,
            "disabled": false,
            "layout": "IPY_MODEL_026f31034f7a495589c04acc1f57fd42",
            "placeholder": "​",
            "rows": null,
            "style": "IPY_MODEL_42173c83f867415cbb7f0e58dfe42900",
            "value": "quadrilater.o: quadrilater.h quadrilater.cpp\n\t@g++ -c quadrilater.cpp\n\nall: quadrilater.o\n\t@echo \"- Compile and execute:\"\n\t@/usr/bin/g++ -o main quadrilater.o\n"
          }
        },
        "29a1fcc8c74841488167d7facb3433fc": {
          "model_module": "@jupyter-widgets/base",
          "model_name": "LayoutModel",
          "model_module_version": "1.2.0",
          "state": {
            "_model_module": "@jupyter-widgets/base",
            "_model_module_version": "1.2.0",
            "_model_name": "LayoutModel",
            "_view_count": null,
            "_view_module": "@jupyter-widgets/base",
            "_view_module_version": "1.2.0",
            "_view_name": "LayoutView",
            "align_content": null,
            "align_items": null,
            "align_self": null,
            "border": null,
            "bottom": null,
            "display": null,
            "flex": null,
            "flex_flow": null,
            "grid_area": null,
            "grid_auto_columns": null,
            "grid_auto_flow": null,
            "grid_auto_rows": null,
            "grid_column": null,
            "grid_gap": null,
            "grid_row": null,
            "grid_template_areas": null,
            "grid_template_columns": null,
            "grid_template_rows": null,
            "height": null,
            "justify_content": null,
            "justify_items": null,
            "left": null,
            "margin": null,
            "max_height": null,
            "max_width": null,
            "min_height": null,
            "min_width": null,
            "object_fit": null,
            "object_position": null,
            "order": null,
            "overflow": null,
            "overflow_x": null,
            "overflow_y": null,
            "padding": null,
            "right": null,
            "top": null,
            "visibility": null,
            "width": null
          }
        },
        "6391101125c7461d9836d7d91c37c253": {
          "model_module": "@jupyter-widgets/base",
          "model_name": "LayoutModel",
          "model_module_version": "1.2.0",
          "state": {
            "_model_module": "@jupyter-widgets/base",
            "_model_module_version": "1.2.0",
            "_model_name": "LayoutModel",
            "_view_count": null,
            "_view_module": "@jupyter-widgets/base",
            "_view_module_version": "1.2.0",
            "_view_name": "LayoutView",
            "align_content": null,
            "align_items": null,
            "align_self": null,
            "border": null,
            "bottom": null,
            "display": null,
            "flex": null,
            "flex_flow": null,
            "grid_area": null,
            "grid_auto_columns": null,
            "grid_auto_flow": null,
            "grid_auto_rows": null,
            "grid_column": null,
            "grid_gap": null,
            "grid_row": null,
            "grid_template_areas": null,
            "grid_template_columns": null,
            "grid_template_rows": null,
            "height": "300px",
            "justify_content": null,
            "justify_items": null,
            "left": null,
            "margin": null,
            "max_height": null,
            "max_width": null,
            "min_height": null,
            "min_width": null,
            "object_fit": null,
            "object_position": null,
            "order": null,
            "overflow": null,
            "overflow_x": null,
            "overflow_y": null,
            "padding": null,
            "right": null,
            "top": null,
            "visibility": null,
            "width": "950px"
          }
        },
        "e825ad54afd34e92b8aad4207bbd3c53": {
          "model_module": "@jupyter-widgets/controls",
          "model_name": "DescriptionStyleModel",
          "model_module_version": "1.5.0",
          "state": {
            "_model_module": "@jupyter-widgets/controls",
            "_model_module_version": "1.5.0",
            "_model_name": "DescriptionStyleModel",
            "_view_count": null,
            "_view_module": "@jupyter-widgets/base",
            "_view_module_version": "1.2.0",
            "_view_name": "StyleView",
            "description_width": ""
          }
        },
        "e330f0e43536429d8a8f6a04a600fd97": {
          "model_module": "@jupyter-widgets/base",
          "model_name": "LayoutModel",
          "model_module_version": "1.2.0",
          "state": {
            "_model_module": "@jupyter-widgets/base",
            "_model_module_version": "1.2.0",
            "_model_name": "LayoutModel",
            "_view_count": null,
            "_view_module": "@jupyter-widgets/base",
            "_view_module_version": "1.2.0",
            "_view_name": "LayoutView",
            "align_content": null,
            "align_items": null,
            "align_self": null,
            "border": null,
            "bottom": null,
            "display": null,
            "flex": null,
            "flex_flow": null,
            "grid_area": null,
            "grid_auto_columns": null,
            "grid_auto_flow": null,
            "grid_auto_rows": null,
            "grid_column": null,
            "grid_gap": null,
            "grid_row": null,
            "grid_template_areas": null,
            "grid_template_columns": null,
            "grid_template_rows": null,
            "height": "300px",
            "justify_content": null,
            "justify_items": null,
            "left": null,
            "margin": null,
            "max_height": null,
            "max_width": null,
            "min_height": null,
            "min_width": null,
            "object_fit": null,
            "object_position": null,
            "order": null,
            "overflow": null,
            "overflow_x": null,
            "overflow_y": null,
            "padding": null,
            "right": null,
            "top": null,
            "visibility": null,
            "width": "950px"
          }
        },
        "1ec92841a7764c1a906f9b9417cbadda": {
          "model_module": "@jupyter-widgets/controls",
          "model_name": "DescriptionStyleModel",
          "model_module_version": "1.5.0",
          "state": {
            "_model_module": "@jupyter-widgets/controls",
            "_model_module_version": "1.5.0",
            "_model_name": "DescriptionStyleModel",
            "_view_count": null,
            "_view_module": "@jupyter-widgets/base",
            "_view_module_version": "1.2.0",
            "_view_name": "StyleView",
            "description_width": ""
          }
        },
        "026f31034f7a495589c04acc1f57fd42": {
          "model_module": "@jupyter-widgets/base",
          "model_name": "LayoutModel",
          "model_module_version": "1.2.0",
          "state": {
            "_model_module": "@jupyter-widgets/base",
            "_model_module_version": "1.2.0",
            "_model_name": "LayoutModel",
            "_view_count": null,
            "_view_module": "@jupyter-widgets/base",
            "_view_module_version": "1.2.0",
            "_view_name": "LayoutView",
            "align_content": null,
            "align_items": null,
            "align_self": null,
            "border": null,
            "bottom": null,
            "display": null,
            "flex": null,
            "flex_flow": null,
            "grid_area": null,
            "grid_auto_columns": null,
            "grid_auto_flow": null,
            "grid_auto_rows": null,
            "grid_column": null,
            "grid_gap": null,
            "grid_row": null,
            "grid_template_areas": null,
            "grid_template_columns": null,
            "grid_template_rows": null,
            "height": "300px",
            "justify_content": null,
            "justify_items": null,
            "left": null,
            "margin": null,
            "max_height": null,
            "max_width": null,
            "min_height": null,
            "min_width": null,
            "object_fit": null,
            "object_position": null,
            "order": null,
            "overflow": null,
            "overflow_x": null,
            "overflow_y": null,
            "padding": null,
            "right": null,
            "top": null,
            "visibility": null,
            "width": "950px"
          }
        },
        "42173c83f867415cbb7f0e58dfe42900": {
          "model_module": "@jupyter-widgets/controls",
          "model_name": "DescriptionStyleModel",
          "model_module_version": "1.5.0",
          "state": {
            "_model_module": "@jupyter-widgets/controls",
            "_model_module_version": "1.5.0",
            "_model_name": "DescriptionStyleModel",
            "_view_count": null,
            "_view_module": "@jupyter-widgets/base",
            "_view_module_version": "1.2.0",
            "_view_name": "StyleView",
            "description_width": ""
          }
        },
        "4287ae8fd7354e9da6eaf956a8d102b6": {
          "model_module": "@jupyter-widgets/controls",
          "model_name": "HBoxModel",
          "model_module_version": "1.5.0",
          "state": {
            "_dom_classes": [],
            "_model_module": "@jupyter-widgets/controls",
            "_model_module_version": "1.5.0",
            "_model_name": "HBoxModel",
            "_view_count": null,
            "_view_module": "@jupyter-widgets/controls",
            "_view_module_version": "1.5.0",
            "_view_name": "HBoxView",
            "box_style": "",
            "children": [
              "IPY_MODEL_05493e4126c54751ae1a3d1dfcda3272",
              "IPY_MODEL_9fac0d92700446a5b3d0d53977a8da6d",
              "IPY_MODEL_49feac2132554c8c9ad968ecc5013a6a"
            ],
            "layout": "IPY_MODEL_5f57a653c00f4e1a800bccc5c6869054"
          }
        },
        "05493e4126c54751ae1a3d1dfcda3272": {
          "model_module": "@jupyter-widgets/controls",
          "model_name": "ButtonModel",
          "model_module_version": "1.5.0",
          "state": {
            "_dom_classes": [],
            "_model_module": "@jupyter-widgets/controls",
            "_model_module_version": "1.5.0",
            "_model_name": "ButtonModel",
            "_view_count": null,
            "_view_module": "@jupyter-widgets/controls",
            "_view_module_version": "1.5.0",
            "_view_name": "ButtonView",
            "button_style": "success",
            "description": "Sauvé et testé",
            "disabled": false,
            "icon": "",
            "layout": "IPY_MODEL_e2bff15702af456da1bc73d917b892ac",
            "style": "IPY_MODEL_adac8e2540c74671be01961b729fb6dd",
            "tooltip": "Sauver et tester"
          }
        },
        "9fac0d92700446a5b3d0d53977a8da6d": {
          "model_module": "@jupyter-widgets/controls",
          "model_name": "ButtonModel",
          "model_module_version": "1.5.0",
          "state": {
            "_dom_classes": [],
            "_model_module": "@jupyter-widgets/controls",
            "_model_module_version": "1.5.0",
            "_model_name": "ButtonModel",
            "_view_count": null,
            "_view_module": "@jupyter-widgets/controls",
            "_view_module_version": "1.5.0",
            "_view_name": "ButtonView",
            "button_style": "primary",
            "description": "Envoyer au correcteur",
            "disabled": false,
            "icon": "",
            "layout": "IPY_MODEL_b21e3d0bad5f44aeb316540220c2820c",
            "style": "IPY_MODEL_fd4cf78a360c42838f489753c03c01d5",
            "tooltip": "Envoi de la réponse (contenu de la cellule actuelle) au correcteur.\nLa réponse pourra être utilisée pour évaluation\n"
          }
        },
        "49feac2132554c8c9ad968ecc5013a6a": {
          "model_module": "@jupyter-widgets/controls",
          "model_name": "ButtonModel",
          "model_module_version": "1.5.0",
          "state": {
            "_dom_classes": [],
            "_model_module": "@jupyter-widgets/controls",
            "_model_module_version": "1.5.0",
            "_model_name": "ButtonModel",
            "_view_count": null,
            "_view_module": "@jupyter-widgets/controls",
            "_view_module_version": "1.5.0",
            "_view_name": "ButtonView",
            "button_style": "primary",
            "description": "Voir la correction",
            "disabled": false,
            "icon": "",
            "layout": "IPY_MODEL_1fa53e1f84274d788762fbb897332e0b",
            "style": "IPY_MODEL_6fc4cbb26c04426e803a910b76813a34",
            "tooltip": "Récupération de la solution du correcteur. Si la solution est disponible, \n- Elle est affichée  \n- Elle peut-etre comparée avec le code de la cellule actuelle\n"
          }
        },
        "5f57a653c00f4e1a800bccc5c6869054": {
          "model_module": "@jupyter-widgets/base",
          "model_name": "LayoutModel",
          "model_module_version": "1.2.0",
          "state": {
            "_model_module": "@jupyter-widgets/base",
            "_model_module_version": "1.2.0",
            "_model_name": "LayoutModel",
            "_view_count": null,
            "_view_module": "@jupyter-widgets/base",
            "_view_module_version": "1.2.0",
            "_view_name": "LayoutView",
            "align_content": null,
            "align_items": null,
            "align_self": null,
            "border": null,
            "bottom": null,
            "display": null,
            "flex": null,
            "flex_flow": null,
            "grid_area": null,
            "grid_auto_columns": null,
            "grid_auto_flow": null,
            "grid_auto_rows": null,
            "grid_column": null,
            "grid_gap": null,
            "grid_row": null,
            "grid_template_areas": null,
            "grid_template_columns": null,
            "grid_template_rows": null,
            "height": null,
            "justify_content": null,
            "justify_items": null,
            "left": null,
            "margin": null,
            "max_height": null,
            "max_width": null,
            "min_height": null,
            "min_width": null,
            "object_fit": null,
            "object_position": null,
            "order": null,
            "overflow": null,
            "overflow_x": null,
            "overflow_y": null,
            "padding": null,
            "right": null,
            "top": null,
            "visibility": null,
            "width": null
          }
        },
        "e2bff15702af456da1bc73d917b892ac": {
          "model_module": "@jupyter-widgets/base",
          "model_name": "LayoutModel",
          "model_module_version": "1.2.0",
          "state": {
            "_model_module": "@jupyter-widgets/base",
            "_model_module_version": "1.2.0",
            "_model_name": "LayoutModel",
            "_view_count": null,
            "_view_module": "@jupyter-widgets/base",
            "_view_module_version": "1.2.0",
            "_view_name": "LayoutView",
            "align_content": null,
            "align_items": null,
            "align_self": null,
            "border": null,
            "bottom": null,
            "display": null,
            "flex": null,
            "flex_flow": null,
            "grid_area": null,
            "grid_auto_columns": null,
            "grid_auto_flow": null,
            "grid_auto_rows": null,
            "grid_column": null,
            "grid_gap": null,
            "grid_row": null,
            "grid_template_areas": null,
            "grid_template_columns": null,
            "grid_template_rows": null,
            "height": null,
            "justify_content": null,
            "justify_items": null,
            "left": null,
            "margin": null,
            "max_height": null,
            "max_width": null,
            "min_height": null,
            "min_width": null,
            "object_fit": null,
            "object_position": null,
            "order": null,
            "overflow": null,
            "overflow_x": null,
            "overflow_y": null,
            "padding": null,
            "right": null,
            "top": null,
            "visibility": null,
            "width": "max-content"
          }
        },
        "adac8e2540c74671be01961b729fb6dd": {
          "model_module": "@jupyter-widgets/controls",
          "model_name": "ButtonStyleModel",
          "model_module_version": "1.5.0",
          "state": {
            "_model_module": "@jupyter-widgets/controls",
            "_model_module_version": "1.5.0",
            "_model_name": "ButtonStyleModel",
            "_view_count": null,
            "_view_module": "@jupyter-widgets/base",
            "_view_module_version": "1.2.0",
            "_view_name": "StyleView",
            "button_color": null,
            "font_weight": ""
          }
        },
        "b21e3d0bad5f44aeb316540220c2820c": {
          "model_module": "@jupyter-widgets/base",
          "model_name": "LayoutModel",
          "model_module_version": "1.2.0",
          "state": {
            "_model_module": "@jupyter-widgets/base",
            "_model_module_version": "1.2.0",
            "_model_name": "LayoutModel",
            "_view_count": null,
            "_view_module": "@jupyter-widgets/base",
            "_view_module_version": "1.2.0",
            "_view_name": "LayoutView",
            "align_content": null,
            "align_items": null,
            "align_self": null,
            "border": null,
            "bottom": null,
            "display": null,
            "flex": null,
            "flex_flow": null,
            "grid_area": null,
            "grid_auto_columns": null,
            "grid_auto_flow": null,
            "grid_auto_rows": null,
            "grid_column": null,
            "grid_gap": null,
            "grid_row": null,
            "grid_template_areas": null,
            "grid_template_columns": null,
            "grid_template_rows": null,
            "height": null,
            "justify_content": null,
            "justify_items": null,
            "left": null,
            "margin": null,
            "max_height": null,
            "max_width": null,
            "min_height": null,
            "min_width": null,
            "object_fit": null,
            "object_position": null,
            "order": null,
            "overflow": null,
            "overflow_x": null,
            "overflow_y": null,
            "padding": null,
            "right": null,
            "top": null,
            "visibility": null,
            "width": "150px"
          }
        },
        "fd4cf78a360c42838f489753c03c01d5": {
          "model_module": "@jupyter-widgets/controls",
          "model_name": "ButtonStyleModel",
          "model_module_version": "1.5.0",
          "state": {
            "_model_module": "@jupyter-widgets/controls",
            "_model_module_version": "1.5.0",
            "_model_name": "ButtonStyleModel",
            "_view_count": null,
            "_view_module": "@jupyter-widgets/base",
            "_view_module_version": "1.2.0",
            "_view_name": "StyleView",
            "button_color": null,
            "font_weight": ""
          }
        },
        "1fa53e1f84274d788762fbb897332e0b": {
          "model_module": "@jupyter-widgets/base",
          "model_name": "LayoutModel",
          "model_module_version": "1.2.0",
          "state": {
            "_model_module": "@jupyter-widgets/base",
            "_model_module_version": "1.2.0",
            "_model_name": "LayoutModel",
            "_view_count": null,
            "_view_module": "@jupyter-widgets/base",
            "_view_module_version": "1.2.0",
            "_view_name": "LayoutView",
            "align_content": null,
            "align_items": null,
            "align_self": null,
            "border": null,
            "bottom": null,
            "display": null,
            "flex": null,
            "flex_flow": null,
            "grid_area": null,
            "grid_auto_columns": null,
            "grid_auto_flow": null,
            "grid_auto_rows": null,
            "grid_column": null,
            "grid_gap": null,
            "grid_row": null,
            "grid_template_areas": null,
            "grid_template_columns": null,
            "grid_template_rows": null,
            "height": null,
            "justify_content": null,
            "justify_items": null,
            "left": null,
            "margin": null,
            "max_height": null,
            "max_width": null,
            "min_height": null,
            "min_width": null,
            "object_fit": null,
            "object_position": null,
            "order": null,
            "overflow": null,
            "overflow_x": null,
            "overflow_y": null,
            "padding": null,
            "right": null,
            "top": null,
            "visibility": null,
            "width": "150px"
          }
        },
        "6fc4cbb26c04426e803a910b76813a34": {
          "model_module": "@jupyter-widgets/controls",
          "model_name": "ButtonStyleModel",
          "model_module_version": "1.5.0",
          "state": {
            "_model_module": "@jupyter-widgets/controls",
            "_model_module_version": "1.5.0",
            "_model_name": "ButtonStyleModel",
            "_view_count": null,
            "_view_module": "@jupyter-widgets/base",
            "_view_module_version": "1.2.0",
            "_view_name": "StyleView",
            "button_color": null,
            "font_weight": ""
          }
        },
        "6efb63aa2a5a4984ac8858b0309c9cb9": {
          "model_module": "@jupyter-widgets/output",
          "model_name": "OutputModel",
          "model_module_version": "1.0.0",
          "state": {
            "_dom_classes": [
              "<style>\n            .sol_background {background-color:#f7d1d1}\n            .cell_background {background-color:#F7F7F7}\n            .cell_border {background-color:#CFCFCF}\n\nbuttonb {\n   border: none;\n   color: red;\n   font-weight: bolder;\n   padding: 20px;\n   font-size: 18px;\n   cursor: pointer;\n   border-radius: 6px;\n}\n.button3 {background-color:#eaeaea}\n.button1 {background-color:#eaeaea ; color:red ; font-size:100% ; border: 1px solid #eaeaea}\n.button2 {background-color:#eaeaea ; color:red}\n        </style>\n    "
            ],
            "_model_module": "@jupyter-widgets/output",
            "_model_module_version": "1.0.0",
            "_model_name": "OutputModel",
            "_view_count": null,
            "_view_module": "@jupyter-widgets/output",
            "_view_module_version": "1.0.0",
            "_view_name": "OutputView",
            "layout": "IPY_MODEL_f22f8958ee894b1ebb3b42254b24bd95",
            "msg_id": "",
            "outputs": [
              {
                "output_type": "display_data",
                "data": {
                  "text/plain": "HTML(value='<style>\\n            .sol_background {background-color:#f7d1d1}\\n            .cell_background {bac…",
                  "application/vnd.jupyter.widget-view+json": {
                    "version_major": 2,
                    "version_minor": 0,
                    "model_id": "0f947e13a94640f9ac952007ebe6f956"
                  }
                },
                "metadata": {}
              },
              {
                "output_type": "stream",
                "name": "stdout",
                "text": [
                  "Save files cache/['quadrilater.h', 'quadrilater.cpp', 'Makefile']"
                ]
              },
              {
                "output_type": "stream",
                "name": "stdout",
                "text": [
                  "\n"
                ]
              },
              {
                "output_type": "stream",
                "name": "stdout",
                "text": [
                  "\u001b[32m\u001b[1mRéponse soumise à 2023-07-06 16:45:55 pour 'cloud@s/light_side/cpp/quadri/luke.s'. Vous pouvez soumettre plusieurs fois\u001b[m"
                ]
              },
              {
                "output_type": "stream",
                "name": "stdout",
                "text": [
                  "\n"
                ]
              }
            ]
          }
        },
        "f22f8958ee894b1ebb3b42254b24bd95": {
          "model_module": "@jupyter-widgets/base",
          "model_name": "LayoutModel",
          "model_module_version": "1.2.0",
          "state": {
            "_model_module": "@jupyter-widgets/base",
            "_model_module_version": "1.2.0",
            "_model_name": "LayoutModel",
            "_view_count": null,
            "_view_module": "@jupyter-widgets/base",
            "_view_module_version": "1.2.0",
            "_view_name": "LayoutView",
            "align_content": null,
            "align_items": null,
            "align_self": null,
            "border": null,
            "bottom": null,
            "display": null,
            "flex": null,
            "flex_flow": null,
            "grid_area": null,
            "grid_auto_columns": null,
            "grid_auto_flow": null,
            "grid_auto_rows": null,
            "grid_column": null,
            "grid_gap": null,
            "grid_row": null,
            "grid_template_areas": null,
            "grid_template_columns": null,
            "grid_template_rows": null,
            "height": null,
            "justify_content": null,
            "justify_items": null,
            "left": null,
            "margin": null,
            "max_height": null,
            "max_width": null,
            "min_height": null,
            "min_width": null,
            "object_fit": null,
            "object_position": null,
            "order": null,
            "overflow": null,
            "overflow_x": null,
            "overflow_y": null,
            "padding": null,
            "right": null,
            "top": null,
            "visibility": null,
            "width": null
          }
        },
        "15d95d86cd574e29aed300c15d0d0504": {
          "model_module": "@jupyter-widgets/controls",
          "model_name": "HTMLModel",
          "model_module_version": "1.5.0",
          "state": {
            "_dom_classes": [],
            "_model_module": "@jupyter-widgets/controls",
            "_model_module_version": "1.5.0",
            "_model_name": "HTMLModel",
            "_view_count": null,
            "_view_module": "@jupyter-widgets/controls",
            "_view_module_version": "1.5.0",
            "_view_name": "HTMLView",
            "description": "",
            "description_tooltip": null,
            "layout": "IPY_MODEL_5f40fb8dcb2b4395a5672452620f0536",
            "placeholder": "​",
            "style": "IPY_MODEL_caed0cf68c8c4ff196874ace61786886",
            "value": "<style>\n            .sol_background {background-color:#f7d1d1}\n            .cell_background {background-color:#F7F7F7}\n            .cell_border {background-color:#CFCFCF}\n\nbuttonb {\n   border: none;\n   color: red;\n   font-weight: bolder;\n   padding: 20px;\n   font-size: 18px;\n   cursor: pointer;\n   border-radius: 6px;\n}\n.button3 {background-color:#eaeaea}\n.button1 {background-color:#eaeaea ; color:red ; font-size:100% ; border: 1px solid #eaeaea}\n.button2 {background-color:#eaeaea ; color:red}\n        </style>\n    "
          }
        },
        "5f40fb8dcb2b4395a5672452620f0536": {
          "model_module": "@jupyter-widgets/base",
          "model_name": "LayoutModel",
          "model_module_version": "1.2.0",
          "state": {
            "_model_module": "@jupyter-widgets/base",
            "_model_module_version": "1.2.0",
            "_model_name": "LayoutModel",
            "_view_count": null,
            "_view_module": "@jupyter-widgets/base",
            "_view_module_version": "1.2.0",
            "_view_name": "LayoutView",
            "align_content": null,
            "align_items": null,
            "align_self": null,
            "border": null,
            "bottom": null,
            "display": null,
            "flex": null,
            "flex_flow": null,
            "grid_area": null,
            "grid_auto_columns": null,
            "grid_auto_flow": null,
            "grid_auto_rows": null,
            "grid_column": null,
            "grid_gap": null,
            "grid_row": null,
            "grid_template_areas": null,
            "grid_template_columns": null,
            "grid_template_rows": null,
            "height": null,
            "justify_content": null,
            "justify_items": null,
            "left": null,
            "margin": null,
            "max_height": null,
            "max_width": null,
            "min_height": null,
            "min_width": null,
            "object_fit": null,
            "object_position": null,
            "order": null,
            "overflow": null,
            "overflow_x": null,
            "overflow_y": null,
            "padding": null,
            "right": null,
            "top": null,
            "visibility": null,
            "width": null
          }
        },
        "caed0cf68c8c4ff196874ace61786886": {
          "model_module": "@jupyter-widgets/controls",
          "model_name": "DescriptionStyleModel",
          "model_module_version": "1.5.0",
          "state": {
            "_model_module": "@jupyter-widgets/controls",
            "_model_module_version": "1.5.0",
            "_model_name": "DescriptionStyleModel",
            "_view_count": null,
            "_view_module": "@jupyter-widgets/base",
            "_view_module_version": "1.2.0",
            "_view_name": "StyleView",
            "description_width": ""
          }
        },
        "0f947e13a94640f9ac952007ebe6f956": {
          "model_module": "@jupyter-widgets/controls",
          "model_name": "HTMLModel",
          "model_module_version": "1.5.0",
          "state": {
            "_dom_classes": [],
            "_model_module": "@jupyter-widgets/controls",
            "_model_module_version": "1.5.0",
            "_model_name": "HTMLModel",
            "_view_count": null,
            "_view_module": "@jupyter-widgets/controls",
            "_view_module_version": "1.5.0",
            "_view_name": "HTMLView",
            "description": "",
            "description_tooltip": null,
            "layout": "IPY_MODEL_66fb6e95198b4f7faacddceeec1c6897",
            "placeholder": "​",
            "style": "IPY_MODEL_c09ae7bcd0324315a8aa4888adf5816f",
            "value": "<style>\n            .sol_background {background-color:#f7d1d1}\n            .cell_background {background-color:#F7F7F7}\n            .cell_border {background-color:#CFCFCF}\n\nbuttonb {\n   border: none;\n   color: red;\n   font-weight: bolder;\n   padding: 20px;\n   font-size: 18px;\n   cursor: pointer;\n   border-radius: 6px;\n}\n.button3 {background-color:#eaeaea}\n.button1 {background-color:#eaeaea ; color:red ; font-size:100% ; border: 1px solid #eaeaea}\n.button2 {background-color:#eaeaea ; color:red}\n        </style>\n    "
          }
        },
        "66fb6e95198b4f7faacddceeec1c6897": {
          "model_module": "@jupyter-widgets/base",
          "model_name": "LayoutModel",
          "model_module_version": "1.2.0",
          "state": {
            "_model_module": "@jupyter-widgets/base",
            "_model_module_version": "1.2.0",
            "_model_name": "LayoutModel",
            "_view_count": null,
            "_view_module": "@jupyter-widgets/base",
            "_view_module_version": "1.2.0",
            "_view_name": "LayoutView",
            "align_content": null,
            "align_items": null,
            "align_self": null,
            "border": null,
            "bottom": null,
            "display": null,
            "flex": null,
            "flex_flow": null,
            "grid_area": null,
            "grid_auto_columns": null,
            "grid_auto_flow": null,
            "grid_auto_rows": null,
            "grid_column": null,
            "grid_gap": null,
            "grid_row": null,
            "grid_template_areas": null,
            "grid_template_columns": null,
            "grid_template_rows": null,
            "height": null,
            "justify_content": null,
            "justify_items": null,
            "left": null,
            "margin": null,
            "max_height": null,
            "max_width": null,
            "min_height": null,
            "min_width": null,
            "object_fit": null,
            "object_position": null,
            "order": null,
            "overflow": null,
            "overflow_x": null,
            "overflow_y": null,
            "padding": null,
            "right": null,
            "top": null,
            "visibility": null,
            "width": null
          }
        },
        "c09ae7bcd0324315a8aa4888adf5816f": {
          "model_module": "@jupyter-widgets/controls",
          "model_name": "DescriptionStyleModel",
          "model_module_version": "1.5.0",
          "state": {
            "_model_module": "@jupyter-widgets/controls",
            "_model_module_version": "1.5.0",
            "_model_name": "DescriptionStyleModel",
            "_view_count": null,
            "_view_module": "@jupyter-widgets/base",
            "_view_module_version": "1.2.0",
            "_view_name": "StyleView",
            "description_width": ""
          }
        },
        "e87f867210c64f02be9697d614309420": {
          "model_module": "@jupyter-widgets/controls",
          "model_name": "HBoxModel",
          "model_module_version": "1.5.0",
          "state": {
            "_dom_classes": [],
            "_model_module": "@jupyter-widgets/controls",
            "_model_module_version": "1.5.0",
            "_model_name": "HBoxModel",
            "_view_count": null,
            "_view_module": "@jupyter-widgets/controls",
            "_view_module_version": "1.5.0",
            "_view_name": "HBoxView",
            "box_style": "",
            "children": [
              "IPY_MODEL_d96e41aad28c413da52a64c477e7c433",
              "IPY_MODEL_e74953d27e8c4a7eb4924c927686eac5"
            ],
            "layout": "IPY_MODEL_8636a1ab0e1045bd95d5a9629cde2bd4"
          }
        },
        "d96e41aad28c413da52a64c477e7c433": {
          "model_module": "@jupyter-widgets/controls",
          "model_name": "ButtonModel",
          "model_module_version": "1.5.0",
          "state": {
            "_dom_classes": [],
            "_model_module": "@jupyter-widgets/controls",
            "_model_module_version": "1.5.0",
            "_model_name": "ButtonModel",
            "_view_count": null,
            "_view_module": "@jupyter-widgets/controls",
            "_view_module_version": "1.5.0",
            "_view_name": "ButtonView",
            "button_style": "primary",
            "description": "Envoyer au correcteur",
            "disabled": false,
            "icon": "",
            "layout": "IPY_MODEL_70c0c9643edd4953b07878909eaf3600",
            "style": "IPY_MODEL_d7f7d73a5efc438c9bea4f89d87e8985",
            "tooltip": "Envoi de la réponse (contenu de la cellule actuelle) au correcteur.\nLa réponse pourra être utilisée pour évaluation\n"
          }
        },
        "e74953d27e8c4a7eb4924c927686eac5": {
          "model_module": "@jupyter-widgets/controls",
          "model_name": "ButtonModel",
          "model_module_version": "1.5.0",
          "state": {
            "_dom_classes": [],
            "_model_module": "@jupyter-widgets/controls",
            "_model_module_version": "1.5.0",
            "_model_name": "ButtonModel",
            "_view_count": null,
            "_view_module": "@jupyter-widgets/controls",
            "_view_module_version": "1.5.0",
            "_view_name": "ButtonView",
            "button_style": "primary",
            "description": "Voir la correction",
            "disabled": false,
            "icon": "",
            "layout": "IPY_MODEL_93e65dc223354f7a8a8d6e14ee3bb1b8",
            "style": "IPY_MODEL_fe8c2408ea004f0cbec3e9ac77dcb855",
            "tooltip": "Récupération de la solution du correcteur. Si la solution est disponible, \n- Elle est affichée  \n- Elle peut-etre comparée avec le code de la cellule actuelle\n"
          }
        },
        "8636a1ab0e1045bd95d5a9629cde2bd4": {
          "model_module": "@jupyter-widgets/base",
          "model_name": "LayoutModel",
          "model_module_version": "1.2.0",
          "state": {
            "_model_module": "@jupyter-widgets/base",
            "_model_module_version": "1.2.0",
            "_model_name": "LayoutModel",
            "_view_count": null,
            "_view_module": "@jupyter-widgets/base",
            "_view_module_version": "1.2.0",
            "_view_name": "LayoutView",
            "align_content": null,
            "align_items": null,
            "align_self": null,
            "border": null,
            "bottom": null,
            "display": null,
            "flex": null,
            "flex_flow": null,
            "grid_area": null,
            "grid_auto_columns": null,
            "grid_auto_flow": null,
            "grid_auto_rows": null,
            "grid_column": null,
            "grid_gap": null,
            "grid_row": null,
            "grid_template_areas": null,
            "grid_template_columns": null,
            "grid_template_rows": null,
            "height": null,
            "justify_content": null,
            "justify_items": null,
            "left": null,
            "margin": null,
            "max_height": null,
            "max_width": null,
            "min_height": null,
            "min_width": null,
            "object_fit": null,
            "object_position": null,
            "order": null,
            "overflow": null,
            "overflow_x": null,
            "overflow_y": null,
            "padding": null,
            "right": null,
            "top": null,
            "visibility": null,
            "width": null
          }
        },
        "70c0c9643edd4953b07878909eaf3600": {
          "model_module": "@jupyter-widgets/base",
          "model_name": "LayoutModel",
          "model_module_version": "1.2.0",
          "state": {
            "_model_module": "@jupyter-widgets/base",
            "_model_module_version": "1.2.0",
            "_model_name": "LayoutModel",
            "_view_count": null,
            "_view_module": "@jupyter-widgets/base",
            "_view_module_version": "1.2.0",
            "_view_name": "LayoutView",
            "align_content": null,
            "align_items": null,
            "align_self": null,
            "border": null,
            "bottom": null,
            "display": null,
            "flex": null,
            "flex_flow": null,
            "grid_area": null,
            "grid_auto_columns": null,
            "grid_auto_flow": null,
            "grid_auto_rows": null,
            "grid_column": null,
            "grid_gap": null,
            "grid_row": null,
            "grid_template_areas": null,
            "grid_template_columns": null,
            "grid_template_rows": null,
            "height": null,
            "justify_content": null,
            "justify_items": null,
            "left": null,
            "margin": null,
            "max_height": null,
            "max_width": null,
            "min_height": null,
            "min_width": null,
            "object_fit": null,
            "object_position": null,
            "order": null,
            "overflow": null,
            "overflow_x": null,
            "overflow_y": null,
            "padding": null,
            "right": null,
            "top": null,
            "visibility": null,
            "width": "150px"
          }
        },
        "d7f7d73a5efc438c9bea4f89d87e8985": {
          "model_module": "@jupyter-widgets/controls",
          "model_name": "ButtonStyleModel",
          "model_module_version": "1.5.0",
          "state": {
            "_model_module": "@jupyter-widgets/controls",
            "_model_module_version": "1.5.0",
            "_model_name": "ButtonStyleModel",
            "_view_count": null,
            "_view_module": "@jupyter-widgets/base",
            "_view_module_version": "1.2.0",
            "_view_name": "StyleView",
            "button_color": null,
            "font_weight": ""
          }
        },
        "93e65dc223354f7a8a8d6e14ee3bb1b8": {
          "model_module": "@jupyter-widgets/base",
          "model_name": "LayoutModel",
          "model_module_version": "1.2.0",
          "state": {
            "_model_module": "@jupyter-widgets/base",
            "_model_module_version": "1.2.0",
            "_model_name": "LayoutModel",
            "_view_count": null,
            "_view_module": "@jupyter-widgets/base",
            "_view_module_version": "1.2.0",
            "_view_name": "LayoutView",
            "align_content": null,
            "align_items": null,
            "align_self": null,
            "border": null,
            "bottom": null,
            "display": null,
            "flex": null,
            "flex_flow": null,
            "grid_area": null,
            "grid_auto_columns": null,
            "grid_auto_flow": null,
            "grid_auto_rows": null,
            "grid_column": null,
            "grid_gap": null,
            "grid_row": null,
            "grid_template_areas": null,
            "grid_template_columns": null,
            "grid_template_rows": null,
            "height": null,
            "justify_content": null,
            "justify_items": null,
            "left": null,
            "margin": null,
            "max_height": null,
            "max_width": null,
            "min_height": null,
            "min_width": null,
            "object_fit": null,
            "object_position": null,
            "order": null,
            "overflow": null,
            "overflow_x": null,
            "overflow_y": null,
            "padding": null,
            "right": null,
            "top": null,
            "visibility": null,
            "width": "150px"
          }
        },
        "fe8c2408ea004f0cbec3e9ac77dcb855": {
          "model_module": "@jupyter-widgets/controls",
          "model_name": "ButtonStyleModel",
          "model_module_version": "1.5.0",
          "state": {
            "_model_module": "@jupyter-widgets/controls",
            "_model_module_version": "1.5.0",
            "_model_name": "ButtonStyleModel",
            "_view_count": null,
            "_view_module": "@jupyter-widgets/base",
            "_view_module_version": "1.2.0",
            "_view_name": "StyleView",
            "button_color": null,
            "font_weight": ""
          }
        },
        "1a713ed38ff24d35a76ec92206d90c83": {
          "model_module": "@jupyter-widgets/output",
          "model_name": "OutputModel",
          "model_module_version": "1.0.0",
          "state": {
            "_dom_classes": [],
            "_model_module": "@jupyter-widgets/output",
            "_model_module_version": "1.0.0",
            "_model_name": "OutputModel",
            "_view_count": null,
            "_view_module": "@jupyter-widgets/output",
            "_view_module_version": "1.0.0",
            "_view_name": "OutputView",
            "layout": "IPY_MODEL_bcaddf6e24bf46bcb7bfb88b432c78df",
            "msg_id": "",
            "outputs": [
              {
                "output_type": "stream",
                "name": "stdout",
                "text": [
                  "\n"
                ]
              }
            ]
          }
        },
        "bcaddf6e24bf46bcb7bfb88b432c78df": {
          "model_module": "@jupyter-widgets/base",
          "model_name": "LayoutModel",
          "model_module_version": "1.2.0",
          "state": {
            "_model_module": "@jupyter-widgets/base",
            "_model_module_version": "1.2.0",
            "_model_name": "LayoutModel",
            "_view_count": null,
            "_view_module": "@jupyter-widgets/base",
            "_view_module_version": "1.2.0",
            "_view_name": "LayoutView",
            "align_content": null,
            "align_items": null,
            "align_self": null,
            "border": null,
            "bottom": null,
            "display": null,
            "flex": null,
            "flex_flow": null,
            "grid_area": null,
            "grid_auto_columns": null,
            "grid_auto_flow": null,
            "grid_auto_rows": null,
            "grid_column": null,
            "grid_gap": null,
            "grid_row": null,
            "grid_template_areas": null,
            "grid_template_columns": null,
            "grid_template_rows": null,
            "height": null,
            "justify_content": null,
            "justify_items": null,
            "left": null,
            "margin": null,
            "max_height": null,
            "max_width": null,
            "min_height": null,
            "min_width": null,
            "object_fit": null,
            "object_position": null,
            "order": null,
            "overflow": null,
            "overflow_x": null,
            "overflow_y": null,
            "padding": null,
            "right": null,
            "top": null,
            "visibility": null,
            "width": null
          }
        }
      }
    }
  },
  "cells": [
    {
      "cell_type": "code",
      "source": [
        "#@title # Initialisation of the notebook\n",
        "\n",
        "# Install the bulkhours package, redirecting stdout and stderr to a null output\n",
        "!rm -rf bulkhours && git clone https://github.com/gtherin/bulkhours.git > /dev/null 2>&1\n",
        "\n",
        "#@markdown **Enter your email address:**\n",
        "email = \"luke.skywalker@jedi.com\" #@param {type:\"string\"}\n",
        "\n",
        "# import the bulkhours package\n",
        "import bulkhours\n",
        "bulkhours.init_env(email=email, notebook_id=\"cpp\")\n",
        "\n",
        "# Generate header links\n",
        "bulkhours.generate_header_links(\"examples/3_Simple_Cpp_Course_student.ipynb\")"
      ],
      "metadata": {
        "id": "rSpNjxbXy0TB",
        "colab": {
          "base_uri": "https://localhost:8080/",
          "height": 105
        },
        "outputId": "282e61b0-a0f9-478b-918b-58979d8edb47"
      },
      "execution_count": 1,
      "outputs": [
        {
          "output_type": "stream",
          "name": "stdout",
          "text": [
            "Import BULK Helper cOURSe (\u001b[0m\u001b[36mversion='5.2.25'\u001b[0m🚀'):\n",
            "(db, subject, virtual_room, nb_id, user) = (bkloud@, s, light_side, cpp, luke.skywalker@jedi.com✅)\n",
            "LOG import of openai failed 💥\n"
          ]
        },
        {
          "output_type": "display_data",
          "data": {
            "text/plain": [
              "<IPython.core.display.Markdown object>"
            ],
            "text/markdown": "[![Open In Colab](https://colab.research.google.com/assets/colab-badge.svg)](https://colab.research.google.com/github/guydegnol/bulkhours/blob/main/examples/3_Simple_Cpp_Course_student.ipynb) [![Open In Kaggle](https://kaggle.com/static/images/open-in-kaggle.svg)](https://kaggle.com/kernels/welcome?src=https://github.com/gtherin/bulkhours/blob/main/examples/3_Simple_Cpp_Course_student.ipynb) [![GitHub](https://badgen.net/badge/icon/Open%20in%20Github?icon=github&label)](https://github.com/gtherin/bulkhours/blob/main/examples/3_Simple_Cpp_Course_student.ipynb) [![Open in Visual Studio Code](https://img.shields.io/static/v1?logo=visualstudiocode&label=&message=Open%20in%20Visual%20Studio&labelColor=2c2c32&color=007acc&logoColor=007acc)](https://vscode.dev/github/guydegnol/bulkhours/blob/main/examples/3_Simple_Cpp_Course_student.ipynb) [![CC-by-nc-sa license](https://badgen.net/badge/icon/CC%20by-nc-sa?label=Licence)](https://creativecommons.org/licenses/by-nc-sa/4.0)\n"
          },
          "metadata": {}
        }
      ]
    },
    {
      "cell_type": "markdown",
      "source": [
        "# Contruction d'une suite géométrique🔥\n",
        "\n",
        "**Construire une suite géométrique de raison 2 en C++, de 2 à 1024:**"
      ],
      "metadata": {
        "id": "WAWZ3hSUC_ju"
      }
    },
    {
      "cell_type": "code",
      "source": [
        "%%evaluation_cell_id -i cpp\n",
        "%%compile_and_exec -c g++\n",
        "#include <iostream>\n",
        "\n",
        "int main() {\n",
        "    int pow2 = 1;\n",
        "    // Display the values for pow2 = 2 to pow2=1024, using std::cout function\n",
        "    // ...\n",
        "}\n"
      ],
      "metadata": {
        "id": "77Q1SsluC-Y-",
        "outputId": "8a732762-11f8-4190-cf3e-f0924d5cc71c",
        "colab": {
          "base_uri": "https://localhost:8080/",
          "height": 88,
          "referenced_widgets": [
            "92a7eff9424e48daad0efe0120508dde",
            "0bc57f49ff524c53a67e88ac36d0437f",
            "4cf1ba4ae74f4c07b2b0b1c2d81958d5",
            "40dbe2ef70404faf95f875a9090f1a11",
            "66cc2d04b6c649d69d0f3129dba648aa",
            "9695bfc863654e50891aaec4d392864e",
            "aa728f56a5be423bb1cc52fea5d28cb7",
            "a0bba889ef85495e83e1924aacf04ab8",
            "4d59aef5a4784d0d9aca623a80850033",
            "17a1d247a778428691815178168aa537",
            "a9f74fa653f947cd8900b6a4e2577e1e",
            "9730ea19b2ee447d829e7af944f6c0a4",
            "e9fb77a0201d4cdda612f74b8efc564e"
          ]
        }
      },
      "execution_count": 2,
      "outputs": [
        {
          "output_type": "display_data",
          "data": {
            "text/plain": [
              "HBox(children=(Button(button_style='primary', description='Envoyer au correcteur', layout=Layout(width='150px'…"
            ],
            "application/vnd.jupyter.widget-view+json": {
              "version_major": 2,
              "version_minor": 0,
              "model_id": "92a7eff9424e48daad0efe0120508dde"
            }
          },
          "metadata": {}
        },
        {
          "output_type": "display_data",
          "data": {
            "text/plain": [
              "Output()"
            ],
            "application/vnd.jupyter.widget-view+json": {
              "version_major": 2,
              "version_minor": 0,
              "model_id": "4d59aef5a4784d0d9aca623a80850033"
            }
          },
          "metadata": {}
        }
      ]
    },
    {
      "cell_type": "markdown",
      "source": [
        "# Notion d'héritage en programmation\n",
        "\n",
        "**Construire des sous-classes de quadrilatères en C++: Rectangle, Square et Trapezoid**\n"
      ],
      "metadata": {
        "id": "CIrOZMQ-DrRC"
      }
    },
    {
      "cell_type": "markdown",
      "source": [
        "![image.png](data:image/png;base64,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)"
      ],
      "metadata": {
        "id": "Ajelstbb-pL9"
      }
    },
    {
      "cell_type": "code",
      "source": [
        "%evaluation_cell_id -i quadri -t code_project -o quadrilater.h,quadrilater.cpp,Makefile -p height=300px,width=950px"
      ],
      "metadata": {
        "colab": {
          "base_uri": "https://localhost:8080/",
          "height": 488,
          "referenced_widgets": [
            "0bc6b8bf704f480289d905eb93ce9f90",
            "0a6a4922102a49fda19e470e605d0d8e",
            "b23afcf7e416470f8a2d8a8ac7389aeb",
            "d20a2aa7276c4960beb54c3dec8e4d07",
            "c6d0130fc3b94b468126967cd4a82521",
            "7b28d3bc68f140388bd67d2725723f0d",
            "29a1fcc8c74841488167d7facb3433fc",
            "6391101125c7461d9836d7d91c37c253",
            "e825ad54afd34e92b8aad4207bbd3c53",
            "e330f0e43536429d8a8f6a04a600fd97",
            "1ec92841a7764c1a906f9b9417cbadda",
            "026f31034f7a495589c04acc1f57fd42",
            "42173c83f867415cbb7f0e58dfe42900",
            "4287ae8fd7354e9da6eaf956a8d102b6",
            "05493e4126c54751ae1a3d1dfcda3272",
            "9fac0d92700446a5b3d0d53977a8da6d",
            "49feac2132554c8c9ad968ecc5013a6a",
            "5f57a653c00f4e1a800bccc5c6869054",
            "e2bff15702af456da1bc73d917b892ac",
            "adac8e2540c74671be01961b729fb6dd",
            "b21e3d0bad5f44aeb316540220c2820c",
            "fd4cf78a360c42838f489753c03c01d5",
            "1fa53e1f84274d788762fbb897332e0b",
            "6fc4cbb26c04426e803a910b76813a34",
            "6efb63aa2a5a4984ac8858b0309c9cb9",
            "f22f8958ee894b1ebb3b42254b24bd95",
            "15d95d86cd574e29aed300c15d0d0504",
            "5f40fb8dcb2b4395a5672452620f0536",
            "caed0cf68c8c4ff196874ace61786886",
            "0f947e13a94640f9ac952007ebe6f956",
            "66fb6e95198b4f7faacddceeec1c6897",
            "c09ae7bcd0324315a8aa4888adf5816f"
          ]
        },
        "id": "xyPNN-G5Uv7v",
        "outputId": "ead8f31c-988e-486a-99a3-195c2433847d"
      },
      "execution_count": 3,
      "outputs": [
        {
          "output_type": "display_data",
          "data": {
            "text/plain": [
              "VBox(children=(Tab(children=(Textarea(value='#include <iostream>\\n#include <string>\\nusing namespace std;\\n\\n\\…"
            ],
            "application/vnd.jupyter.widget-view+json": {
              "version_major": 2,
              "version_minor": 0,
              "model_id": "0bc6b8bf704f480289d905eb93ce9f90"
            }
          },
          "metadata": {}
        },
        {
          "output_type": "display_data",
          "data": {
            "text/plain": [
              "HBox(children=(Button(button_style='primary', description='Sauver et tester', layout=Layout(width='max-content…"
            ],
            "application/vnd.jupyter.widget-view+json": {
              "version_major": 2,
              "version_minor": 0,
              "model_id": "4287ae8fd7354e9da6eaf956a8d102b6"
            }
          },
          "metadata": {}
        },
        {
          "output_type": "display_data",
          "data": {
            "text/plain": [
              "Output()"
            ],
            "application/vnd.jupyter.widget-view+json": {
              "version_major": 2,
              "version_minor": 0,
              "model_id": "6efb63aa2a5a4984ac8858b0309c9cb9"
            }
          },
          "metadata": {}
        }
      ]
    },
    {
      "cell_type": "markdown",
      "source": [
        "# Somme de vecteurs sur carte graphique\n",
        "\n",
        "**Générer la somme de 2 vecteurs avec CUDA:**\n"
      ],
      "metadata": {
        "id": "-DBpDhtJEK7e"
      }
    },
    {
      "cell_type": "code",
      "source": [
        "%%evaluation_cell_id -i cuda -w sc -l Générer la somme de 2 vecteurs avec CUDA\n",
        "%%compile_and_exec -c nvcc\n",
        "\n",
        "// Create sum function\n",
        "//__global__ void sum_vec_gpu(...) {}\n",
        "\n",
        "int main(int argc, char *argv[]) {\n",
        "    return 0;\n",
        "}"
      ],
      "metadata": {
        "colab": {
          "base_uri": "https://localhost:8080/",
          "height": 66,
          "referenced_widgets": [
            "e87f867210c64f02be9697d614309420",
            "d96e41aad28c413da52a64c477e7c433",
            "e74953d27e8c4a7eb4924c927686eac5",
            "8636a1ab0e1045bd95d5a9629cde2bd4",
            "70c0c9643edd4953b07878909eaf3600",
            "d7f7d73a5efc438c9bea4f89d87e8985",
            "93e65dc223354f7a8a8d6e14ee3bb1b8",
            "fe8c2408ea004f0cbec3e9ac77dcb855",
            "1a713ed38ff24d35a76ec92206d90c83",
            "bcaddf6e24bf46bcb7bfb88b432c78df"
          ]
        },
        "id": "psOl-fFwCr8n",
        "outputId": "35825cc7-c6b6-495c-8f39-bcbc88f75d88"
      },
      "execution_count": 4,
      "outputs": [
        {
          "output_type": "display_data",
          "data": {
            "text/plain": [
              "HBox(children=(Button(button_style='primary', description='Envoyer au correcteur', layout=Layout(width='150px'…"
            ],
            "application/vnd.jupyter.widget-view+json": {
              "version_major": 2,
              "version_minor": 0,
              "model_id": "e87f867210c64f02be9697d614309420"
            }
          },
          "metadata": {}
        },
        {
          "output_type": "display_data",
          "data": {
            "text/plain": [
              "Output()"
            ],
            "application/vnd.jupyter.widget-view+json": {
              "version_major": 2,
              "version_minor": 0,
              "model_id": "1a713ed38ff24d35a76ec92206d90c83"
            }
          },
          "metadata": {}
        }
      ]
    },
    {
      "cell_type": "code",
      "source": [],
      "metadata": {
        "id": "QTxfVpMKlH1S"
      },
      "execution_count": null,
      "outputs": []
    }
  ]
}